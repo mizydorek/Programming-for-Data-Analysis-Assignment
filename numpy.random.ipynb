{
 "metadata": {
  "language_info": {
   "codemirror_mode": {
    "name": "ipython",
    "version": 3
   },
   "file_extension": ".py",
   "mimetype": "text/x-python",
   "name": "python",
   "nbconvert_exporter": "python",
   "pygments_lexer": "ipython3",
   "version": "3.9.0-final"
  },
  "orig_nbformat": 2,
  "kernelspec": {
   "name": "python3",
   "display_name": "Python 3.9.0 64-bit ('venv')",
   "metadata": {
    "interpreter": {
     "hash": "c4bf02fa0d2d8d79f40f4e9377b744e8be0d12e17a9fb69fc695f26879842d79"
    }
   }
  }
 },
 "nbformat": 4,
 "nbformat_minor": 2,
 "cells": [
  {
   "source": [
    "# The numpy.random package."
   ],
   "cell_type": "markdown",
   "metadata": {}
  },
  {
   "source": [
    "# Table of contents\n",
    "1. [Randomness](#Randomness)\n",
    "2. [Numpy](#Numpy)\n",
    "    1. [Arrays](#Arrays)\n",
    "3. [Simple Random Data](#randomdata)\n",
    "    1. [Integers](#Integers)\n",
    "    2. [Random](#Random)\n",
    "    3. [Choice](#Choice)\n",
    "    4. [Bytes](#Bytes)\n",
    "4. [Permutations](#Permutations)\n",
    "    1. [Shuffle](#Shuffle)\n",
    "    2. [Permutation](#Permutation)\n",
    "5. [Distribution](#randomdata)\n",
    "    1. [Normal](#Normal)\n",
    "    2. [Uniform](#Uniform)"
   ],
   "cell_type": "markdown",
   "metadata": {}
  },
  {
   "source": [
    "## 1. Randomness <a id=\"Randomness\"></a>\n",
    "\n",
    "In mathematics and statistics, random number is a number generated for, or part of some specified distribution presenting statistical randomness.\n",
    "\n",
    "Random numbers that occur in a sequence characterized with two conditions: the values have to be uniformly distributed over a defined interval or set, and it cannot be possible to predict future values based on past ones.[1,2]\n"
   ],
   "cell_type": "markdown",
   "metadata": {}
  },
  {
   "source": [
    "## 2. Numpy <a name=\"Numpy\"></a>\n",
    "\n",
    "Python fundamental package for scientific computing and data analysis that adding support for high-performance, complex multi-dimensional arrays and matrices, along with a wide range of high-level mathematical functions to operate on these arrays such as built-in functions for linear algebra and random number generation. Many Python packages such as Matplotlib, SciPy depend on functionality of Numpy. The numpy.random module enlarges the Python built-in random package about a large number of probability distributions.[^3]\n",
    "\n",
    "### Arrays\n",
    "\n",
    "A Numpy array is flexible grid of values, all of the same type, indexed by a tuple of nonnegative integers for large data sets in Python. The shape of an array is a tuple of integers giving the size of the array along each dimension."
   ],
   "cell_type": "markdown",
   "metadata": {}
  },
  {
   "source": [
    "__Single-dimensional Array__"
   ],
   "cell_type": "markdown",
   "metadata": {}
  },
  {
   "cell_type": "code",
   "execution_count": 116,
   "metadata": {},
   "outputs": [],
   "source": [
    "# import packages\n",
    "import numpy as np\n",
    "import matplotlib.pyplot as plt\n",
    "import seaborn as sns\n",
    "\n",
    "%matplotlib inline\n",
    "plt.style.use('ggplot')\n",
    "plt.rcParams['figure.figsize'] = [9,6]\n",
    "# Construct a new Generator with the default BitGenerator (PCG64).\n",
    "rng = np.random.default_rng()"
   ]
  },
  {
   "cell_type": "code",
   "execution_count": 84,
   "metadata": {},
   "outputs": [
    {
     "output_type": "execute_result",
     "data": {
      "text/plain": [
       "array([1, 2, 3, 4, 5, 6])"
      ]
     },
     "metadata": {},
     "execution_count": 84
    }
   ],
   "source": [
    "# np.array generates an array of numbers\n",
    "array = np.array([1,2,3,4,5,6])\n",
    "array"
   ]
  },
  {
   "cell_type": "code",
   "execution_count": 81,
   "metadata": {},
   "outputs": [
    {
     "output_type": "execute_result",
     "data": {
      "text/plain": [
       "array([1, 2, 3, 4, 5, 6])"
      ]
     },
     "metadata": {},
     "execution_count": 81
    }
   ],
   "source": [
    "# or arange function can be used to generate a range of numbers for the given parameter\n",
    "np.arange(1,7)"
   ]
  },
  {
   "cell_type": "code",
   "execution_count": 67,
   "metadata": {},
   "outputs": [
    {
     "output_type": "execute_result",
     "data": {
      "text/plain": [
       "array([ 0. ,  2.5,  5. ,  7.5, 10. ])"
      ]
     },
     "metadata": {},
     "execution_count": 67
    }
   ],
   "source": [
    "# linspace function returns evenly spaced numbers over a specified interval.\n",
    "np.linspace(0, 10, num=5)"
   ]
  },
  {
   "cell_type": "code",
   "execution_count": 70,
   "metadata": {},
   "outputs": [
    {
     "output_type": "execute_result",
     "data": {
      "text/plain": [
       "(6,)"
      ]
     },
     "metadata": {},
     "execution_count": 70
    }
   ],
   "source": [
    "# numpy array class contains some features we can perform on array \n",
    "# shape returns dimensions of the array\n",
    "array.shape "
   ]
  },
  {
   "cell_type": "code",
   "execution_count": 71,
   "metadata": {},
   "outputs": [
    {
     "output_type": "execute_result",
     "data": {
      "text/plain": [
       "6"
      ]
     },
     "metadata": {},
     "execution_count": 71
    }
   ],
   "source": [
    "# size returns total number of elements in the array\n",
    "array.size"
   ]
  },
  {
   "cell_type": "code",
   "execution_count": 72,
   "metadata": {},
   "outputs": [
    {
     "output_type": "execute_result",
     "data": {
      "text/plain": [
       "1"
      ]
     },
     "metadata": {},
     "execution_count": 72
    }
   ],
   "source": [
    "# ndmi returns the number of axes in the array\n",
    "array.ndim"
   ]
  },
  {
   "cell_type": "code",
   "execution_count": 73,
   "metadata": {},
   "outputs": [
    {
     "output_type": "execute_result",
     "data": {
      "text/plain": [
       "dtype('int32')"
      ]
     },
     "metadata": {},
     "execution_count": 73
    }
   ],
   "source": [
    "# dtype returns the data type of the elements in the array\n",
    "array.dtype"
   ]
  },
  {
   "source": [
    "__Multi-dimensional Array__"
   ],
   "cell_type": "markdown",
   "metadata": {}
  },
  {
   "cell_type": "code",
   "execution_count": 76,
   "metadata": {},
   "outputs": [
    {
     "output_type": "execute_result",
     "data": {
      "text/plain": [
       "array([[1, 2, 3],\n",
       "       [4, 5, 6]])"
      ]
     },
     "metadata": {},
     "execution_count": 76
    }
   ],
   "source": [
    "# numpy array can be use to generate multi-dimensional array \n",
    "np.array([(1,2,3),(4,5,6)])"
   ]
  },
  {
   "cell_type": "code",
   "execution_count": 79,
   "metadata": {},
   "outputs": [
    {
     "output_type": "execute_result",
     "data": {
      "text/plain": [
       "array([[1, 2, 3],\n",
       "       [4, 5, 6]])"
      ]
     },
     "metadata": {},
     "execution_count": 79
    }
   ],
   "source": [
    "# or reshape function can be perform on arange to create multi-dimensional array\n",
    "np.arange(1,7).reshape(2,3)"
   ]
  },
  {
   "source": [
    "## 3. Simple random data <div id='randomdata'/>\n",
    "\n",
    "Simple random sample is a subset of members chosen from a larger set (a population). In which each member of the subset is chosen randomly and has an equal probability of being chosen at any stage during the sampling process. A simple random sample is meant to be an unbiased representation of a group.\n",
    "\n",
    "- **Integers** *returns random integers*\n",
    "- **Random** *return random floats*\n",
    "- **Choice** *return a random sample from a given 1-D array*\n",
    "- **Bytes** *return randombytes*"
   ],
   "cell_type": "markdown",
   "metadata": {}
  },
  {
   "source": [
    "### Generating Random Integer"
   ],
   "cell_type": "markdown",
   "metadata": {}
  },
  {
   "cell_type": "code",
   "execution_count": 162,
   "metadata": {},
   "outputs": [
    {
     "output_type": "execute_result",
     "data": {
      "text/plain": [
       "5"
      ]
     },
     "metadata": {},
     "execution_count": 162
    }
   ],
   "source": [
    "# Construct a new Generator with the default BitGenerator (PCG64).\n",
    "# rng = np.random.default_rng()\n",
    "# rng.integers(low, high=None, size=None, dtype=np.int)\n",
    "\n",
    "# generates a random integer in the range from 0(inclusive) to 9(exclusive)\n",
    "# equivalent to rng.integers(0, 10)\n",
    "rng.integers(10)"
   ]
  },
  {
   "cell_type": "code",
   "execution_count": 3,
   "metadata": {},
   "outputs": [
    {
     "output_type": "execute_result",
     "data": {
      "text/plain": [
       "array([0, 1, 1, 0, 1, 0, 0, 0, 1, 1], dtype=int64)"
      ]
     },
     "metadata": {},
     "execution_count": 3
    }
   ],
   "source": [
    "# Generates array of numbers from 0 to 1 of size equals 10\n",
    "# size parameter allows to specify dimension of the array \n",
    "rng.integers(2, size=10)\n"
   ]
  },
  {
   "cell_type": "code",
   "execution_count": 158,
   "metadata": {},
   "outputs": [
    {
     "output_type": "execute_result",
     "data": {
      "text/plain": [
       "array([[2, 2, 0, 7, 0, 3, 7, 7, 1, 4],\n",
       "       [1, 9, 5, 0, 3, 6, 2, 5, 4, 7],\n",
       "       [4, 5, 7, 9, 4, 7, 8, 9, 9, 8]], dtype=int64)"
      ]
     },
     "metadata": {},
     "execution_count": 158
    }
   ],
   "source": [
    "# Returns a random number from low(inclusive) to high(exclusive) with shape (3,10) \n",
    "rng.integers(0, 10, size=(3,10))\n"
   ]
  },
  {
   "cell_type": "code",
   "execution_count": 228,
   "metadata": {},
   "outputs": [
    {
     "output_type": "execute_result",
     "data": {
      "text/plain": [
       "array([1, 2, 3], dtype=int64)"
      ]
     },
     "metadata": {},
     "execution_count": 228
    }
   ],
   "source": [
    "# Generates a 1 by 3 array with lower bound 0 and upper bound any of(2,3,4) \n",
    "rng.integers([2,3,4])"
   ]
  },
  {
   "cell_type": "code",
   "execution_count": 176,
   "metadata": {},
   "outputs": [
    {
     "output_type": "display_data",
     "data": {
      "text/plain": "<Figure size 648x432 with 1 Axes>",
      "image/svg+xml": "<?xml version=\"1.0\" encoding=\"utf-8\" standalone=\"no\"?>\r\n<!DOCTYPE svg PUBLIC \"-//W3C//DTD SVG 1.1//EN\"\r\n  \"http://www.w3.org/Graphics/SVG/1.1/DTD/svg11.dtd\">\r\n<!-- Created with matplotlib (https://matplotlib.org/) -->\r\n<svg height=\"357.238125pt\" version=\"1.1\" viewBox=\"0 0 558.30125 357.238125\" width=\"558.30125pt\" xmlns=\"http://www.w3.org/2000/svg\" xmlns:xlink=\"http://www.w3.org/1999/xlink\">\r\n <metadata>\r\n  <rdf:RDF xmlns:cc=\"http://creativecommons.org/ns#\" xmlns:dc=\"http://purl.org/dc/elements/1.1/\" xmlns:rdf=\"http://www.w3.org/1999/02/22-rdf-syntax-ns#\">\r\n   <cc:Work>\r\n    <dc:type rdf:resource=\"http://purl.org/dc/dcmitype/StillImage\"/>\r\n    <dc:date>2020-11-13T12:22:02.136819</dc:date>\r\n    <dc:format>image/svg+xml</dc:format>\r\n    <dc:creator>\r\n     <cc:Agent>\r\n      <dc:title>Matplotlib v3.3.2, https://matplotlib.org/</dc:title>\r\n     </cc:Agent>\r\n    </dc:creator>\r\n   </cc:Work>\r\n  </rdf:RDF>\r\n </metadata>\r\n <defs>\r\n  <style type=\"text/css\">*{stroke-linecap:butt;stroke-linejoin:round;}</style>\r\n </defs>\r\n <g id=\"figure_1\">\r\n  <g id=\"patch_1\">\r\n   <path d=\"M 0 357.238125 \r\nL 558.30125 357.238125 \r\nL 558.30125 0 \r\nL 0 0 \r\nz\r\n\" style=\"fill:#ffffff;\"/>\r\n  </g>\r\n  <g id=\"axes_1\">\r\n   <g id=\"patch_2\">\r\n    <path d=\"M 48.90125 333.36 \r\nL 551.10125 333.36 \r\nL 551.10125 7.2 \r\nL 48.90125 7.2 \r\nz\r\n\" style=\"fill:#e5e5e5;\"/>\r\n   </g>\r\n   <g id=\"matplotlib.axis_1\">\r\n    <g id=\"xtick_1\">\r\n     <g id=\"line2d_1\">\r\n      <path clip-path=\"url(#pc0cd1a81d8)\" d=\"M 71.728523 333.36 \r\nL 71.728523 7.2 \r\n\" style=\"fill:none;stroke:#ffffff;stroke-linecap:square;stroke-width:0.8;\"/>\r\n     </g>\r\n     <g id=\"line2d_2\">\r\n      <defs>\r\n       <path d=\"M 0 0 \r\nL 0 3.5 \r\n\" id=\"m1c407daaeb\" style=\"stroke:#555555;stroke-width:0.8;\"/>\r\n      </defs>\r\n      <g>\r\n       <use style=\"fill:#555555;stroke:#555555;stroke-width:0.8;\" x=\"71.728523\" xlink:href=\"#m1c407daaeb\" y=\"333.36\"/>\r\n      </g>\r\n     </g>\r\n     <g id=\"text_1\">\r\n      <!-- 0 -->\r\n      <g style=\"fill:#555555;\" transform=\"translate(68.547273 347.958438)scale(0.1 -0.1)\">\r\n       <defs>\r\n        <path d=\"M 31.78125 66.40625 \r\nQ 24.171875 66.40625 20.328125 58.90625 \r\nQ 16.5 51.421875 16.5 36.375 \r\nQ 16.5 21.390625 20.328125 13.890625 \r\nQ 24.171875 6.390625 31.78125 6.390625 \r\nQ 39.453125 6.390625 43.28125 13.890625 \r\nQ 47.125 21.390625 47.125 36.375 \r\nQ 47.125 51.421875 43.28125 58.90625 \r\nQ 39.453125 66.40625 31.78125 66.40625 \r\nz\r\nM 31.78125 74.21875 \r\nQ 44.046875 74.21875 50.515625 64.515625 \r\nQ 56.984375 54.828125 56.984375 36.375 \r\nQ 56.984375 17.96875 50.515625 8.265625 \r\nQ 44.046875 -1.421875 31.78125 -1.421875 \r\nQ 19.53125 -1.421875 13.0625 8.265625 \r\nQ 6.59375 17.96875 6.59375 36.375 \r\nQ 6.59375 54.828125 13.0625 64.515625 \r\nQ 19.53125 74.21875 31.78125 74.21875 \r\nz\r\n\" id=\"DejaVuSans-48\"/>\r\n       </defs>\r\n       <use xlink:href=\"#DejaVuSans-48\"/>\r\n      </g>\r\n     </g>\r\n    </g>\r\n    <g id=\"xtick_2\">\r\n     <g id=\"line2d_3\">\r\n      <path clip-path=\"url(#pc0cd1a81d8)\" d=\"M 163.959928 333.36 \r\nL 163.959928 7.2 \r\n\" style=\"fill:none;stroke:#ffffff;stroke-linecap:square;stroke-width:0.8;\"/>\r\n     </g>\r\n     <g id=\"line2d_4\">\r\n      <g>\r\n       <use style=\"fill:#555555;stroke:#555555;stroke-width:0.8;\" x=\"163.959928\" xlink:href=\"#m1c407daaeb\" y=\"333.36\"/>\r\n      </g>\r\n     </g>\r\n     <g id=\"text_2\">\r\n      <!-- 20 -->\r\n      <g style=\"fill:#555555;\" transform=\"translate(157.597428 347.958438)scale(0.1 -0.1)\">\r\n       <defs>\r\n        <path d=\"M 19.1875 8.296875 \r\nL 53.609375 8.296875 \r\nL 53.609375 0 \r\nL 7.328125 0 \r\nL 7.328125 8.296875 \r\nQ 12.9375 14.109375 22.625 23.890625 \r\nQ 32.328125 33.6875 34.8125 36.53125 \r\nQ 39.546875 41.84375 41.421875 45.53125 \r\nQ 43.3125 49.21875 43.3125 52.78125 \r\nQ 43.3125 58.59375 39.234375 62.25 \r\nQ 35.15625 65.921875 28.609375 65.921875 \r\nQ 23.96875 65.921875 18.8125 64.3125 \r\nQ 13.671875 62.703125 7.8125 59.421875 \r\nL 7.8125 69.390625 \r\nQ 13.765625 71.78125 18.9375 73 \r\nQ 24.125 74.21875 28.421875 74.21875 \r\nQ 39.75 74.21875 46.484375 68.546875 \r\nQ 53.21875 62.890625 53.21875 53.421875 \r\nQ 53.21875 48.921875 51.53125 44.890625 \r\nQ 49.859375 40.875 45.40625 35.40625 \r\nQ 44.1875 33.984375 37.640625 27.21875 \r\nQ 31.109375 20.453125 19.1875 8.296875 \r\nz\r\n\" id=\"DejaVuSans-50\"/>\r\n       </defs>\r\n       <use xlink:href=\"#DejaVuSans-50\"/>\r\n       <use x=\"63.623047\" xlink:href=\"#DejaVuSans-48\"/>\r\n      </g>\r\n     </g>\r\n    </g>\r\n    <g id=\"xtick_3\">\r\n     <g id=\"line2d_5\">\r\n      <path clip-path=\"url(#pc0cd1a81d8)\" d=\"M 256.191333 333.36 \r\nL 256.191333 7.2 \r\n\" style=\"fill:none;stroke:#ffffff;stroke-linecap:square;stroke-width:0.8;\"/>\r\n     </g>\r\n     <g id=\"line2d_6\">\r\n      <g>\r\n       <use style=\"fill:#555555;stroke:#555555;stroke-width:0.8;\" x=\"256.191333\" xlink:href=\"#m1c407daaeb\" y=\"333.36\"/>\r\n      </g>\r\n     </g>\r\n     <g id=\"text_3\">\r\n      <!-- 40 -->\r\n      <g style=\"fill:#555555;\" transform=\"translate(249.828833 347.958438)scale(0.1 -0.1)\">\r\n       <defs>\r\n        <path d=\"M 37.796875 64.3125 \r\nL 12.890625 25.390625 \r\nL 37.796875 25.390625 \r\nz\r\nM 35.203125 72.90625 \r\nL 47.609375 72.90625 \r\nL 47.609375 25.390625 \r\nL 58.015625 25.390625 \r\nL 58.015625 17.1875 \r\nL 47.609375 17.1875 \r\nL 47.609375 0 \r\nL 37.796875 0 \r\nL 37.796875 17.1875 \r\nL 4.890625 17.1875 \r\nL 4.890625 26.703125 \r\nz\r\n\" id=\"DejaVuSans-52\"/>\r\n       </defs>\r\n       <use xlink:href=\"#DejaVuSans-52\"/>\r\n       <use x=\"63.623047\" xlink:href=\"#DejaVuSans-48\"/>\r\n      </g>\r\n     </g>\r\n    </g>\r\n    <g id=\"xtick_4\">\r\n     <g id=\"line2d_7\">\r\n      <path clip-path=\"url(#pc0cd1a81d8)\" d=\"M 348.422738 333.36 \r\nL 348.422738 7.2 \r\n\" style=\"fill:none;stroke:#ffffff;stroke-linecap:square;stroke-width:0.8;\"/>\r\n     </g>\r\n     <g id=\"line2d_8\">\r\n      <g>\r\n       <use style=\"fill:#555555;stroke:#555555;stroke-width:0.8;\" x=\"348.422738\" xlink:href=\"#m1c407daaeb\" y=\"333.36\"/>\r\n      </g>\r\n     </g>\r\n     <g id=\"text_4\">\r\n      <!-- 60 -->\r\n      <g style=\"fill:#555555;\" transform=\"translate(342.060238 347.958438)scale(0.1 -0.1)\">\r\n       <defs>\r\n        <path d=\"M 33.015625 40.375 \r\nQ 26.375 40.375 22.484375 35.828125 \r\nQ 18.609375 31.296875 18.609375 23.390625 \r\nQ 18.609375 15.53125 22.484375 10.953125 \r\nQ 26.375 6.390625 33.015625 6.390625 \r\nQ 39.65625 6.390625 43.53125 10.953125 \r\nQ 47.40625 15.53125 47.40625 23.390625 \r\nQ 47.40625 31.296875 43.53125 35.828125 \r\nQ 39.65625 40.375 33.015625 40.375 \r\nz\r\nM 52.59375 71.296875 \r\nL 52.59375 62.3125 \r\nQ 48.875 64.0625 45.09375 64.984375 \r\nQ 41.3125 65.921875 37.59375 65.921875 \r\nQ 27.828125 65.921875 22.671875 59.328125 \r\nQ 17.53125 52.734375 16.796875 39.40625 \r\nQ 19.671875 43.65625 24.015625 45.921875 \r\nQ 28.375 48.1875 33.59375 48.1875 \r\nQ 44.578125 48.1875 50.953125 41.515625 \r\nQ 57.328125 34.859375 57.328125 23.390625 \r\nQ 57.328125 12.15625 50.6875 5.359375 \r\nQ 44.046875 -1.421875 33.015625 -1.421875 \r\nQ 20.359375 -1.421875 13.671875 8.265625 \r\nQ 6.984375 17.96875 6.984375 36.375 \r\nQ 6.984375 53.65625 15.1875 63.9375 \r\nQ 23.390625 74.21875 37.203125 74.21875 \r\nQ 40.921875 74.21875 44.703125 73.484375 \r\nQ 48.484375 72.75 52.59375 71.296875 \r\nz\r\n\" id=\"DejaVuSans-54\"/>\r\n       </defs>\r\n       <use xlink:href=\"#DejaVuSans-54\"/>\r\n       <use x=\"63.623047\" xlink:href=\"#DejaVuSans-48\"/>\r\n      </g>\r\n     </g>\r\n    </g>\r\n    <g id=\"xtick_5\">\r\n     <g id=\"line2d_9\">\r\n      <path clip-path=\"url(#pc0cd1a81d8)\" d=\"M 440.654143 333.36 \r\nL 440.654143 7.2 \r\n\" style=\"fill:none;stroke:#ffffff;stroke-linecap:square;stroke-width:0.8;\"/>\r\n     </g>\r\n     <g id=\"line2d_10\">\r\n      <g>\r\n       <use style=\"fill:#555555;stroke:#555555;stroke-width:0.8;\" x=\"440.654143\" xlink:href=\"#m1c407daaeb\" y=\"333.36\"/>\r\n      </g>\r\n     </g>\r\n     <g id=\"text_5\">\r\n      <!-- 80 -->\r\n      <g style=\"fill:#555555;\" transform=\"translate(434.291643 347.958438)scale(0.1 -0.1)\">\r\n       <defs>\r\n        <path d=\"M 31.78125 34.625 \r\nQ 24.75 34.625 20.71875 30.859375 \r\nQ 16.703125 27.09375 16.703125 20.515625 \r\nQ 16.703125 13.921875 20.71875 10.15625 \r\nQ 24.75 6.390625 31.78125 6.390625 \r\nQ 38.8125 6.390625 42.859375 10.171875 \r\nQ 46.921875 13.96875 46.921875 20.515625 \r\nQ 46.921875 27.09375 42.890625 30.859375 \r\nQ 38.875 34.625 31.78125 34.625 \r\nz\r\nM 21.921875 38.8125 \r\nQ 15.578125 40.375 12.03125 44.71875 \r\nQ 8.5 49.078125 8.5 55.328125 \r\nQ 8.5 64.0625 14.71875 69.140625 \r\nQ 20.953125 74.21875 31.78125 74.21875 \r\nQ 42.671875 74.21875 48.875 69.140625 \r\nQ 55.078125 64.0625 55.078125 55.328125 \r\nQ 55.078125 49.078125 51.53125 44.71875 \r\nQ 48 40.375 41.703125 38.8125 \r\nQ 48.828125 37.15625 52.796875 32.3125 \r\nQ 56.78125 27.484375 56.78125 20.515625 \r\nQ 56.78125 9.90625 50.3125 4.234375 \r\nQ 43.84375 -1.421875 31.78125 -1.421875 \r\nQ 19.734375 -1.421875 13.25 4.234375 \r\nQ 6.78125 9.90625 6.78125 20.515625 \r\nQ 6.78125 27.484375 10.78125 32.3125 \r\nQ 14.796875 37.15625 21.921875 38.8125 \r\nz\r\nM 18.3125 54.390625 \r\nQ 18.3125 48.734375 21.84375 45.5625 \r\nQ 25.390625 42.390625 31.78125 42.390625 \r\nQ 38.140625 42.390625 41.71875 45.5625 \r\nQ 45.3125 48.734375 45.3125 54.390625 \r\nQ 45.3125 60.0625 41.71875 63.234375 \r\nQ 38.140625 66.40625 31.78125 66.40625 \r\nQ 25.390625 66.40625 21.84375 63.234375 \r\nQ 18.3125 60.0625 18.3125 54.390625 \r\nz\r\n\" id=\"DejaVuSans-56\"/>\r\n       </defs>\r\n       <use xlink:href=\"#DejaVuSans-56\"/>\r\n       <use x=\"63.623047\" xlink:href=\"#DejaVuSans-48\"/>\r\n      </g>\r\n     </g>\r\n    </g>\r\n    <g id=\"xtick_6\">\r\n     <g id=\"line2d_11\">\r\n      <path clip-path=\"url(#pc0cd1a81d8)\" d=\"M 532.885548 333.36 \r\nL 532.885548 7.2 \r\n\" style=\"fill:none;stroke:#ffffff;stroke-linecap:square;stroke-width:0.8;\"/>\r\n     </g>\r\n     <g id=\"line2d_12\">\r\n      <g>\r\n       <use style=\"fill:#555555;stroke:#555555;stroke-width:0.8;\" x=\"532.885548\" xlink:href=\"#m1c407daaeb\" y=\"333.36\"/>\r\n      </g>\r\n     </g>\r\n     <g id=\"text_6\">\r\n      <!-- 100 -->\r\n      <g style=\"fill:#555555;\" transform=\"translate(523.341798 347.958438)scale(0.1 -0.1)\">\r\n       <defs>\r\n        <path d=\"M 12.40625 8.296875 \r\nL 28.515625 8.296875 \r\nL 28.515625 63.921875 \r\nL 10.984375 60.40625 \r\nL 10.984375 69.390625 \r\nL 28.421875 72.90625 \r\nL 38.28125 72.90625 \r\nL 38.28125 8.296875 \r\nL 54.390625 8.296875 \r\nL 54.390625 0 \r\nL 12.40625 0 \r\nz\r\n\" id=\"DejaVuSans-49\"/>\r\n       </defs>\r\n       <use xlink:href=\"#DejaVuSans-49\"/>\r\n       <use x=\"63.623047\" xlink:href=\"#DejaVuSans-48\"/>\r\n       <use x=\"127.246094\" xlink:href=\"#DejaVuSans-48\"/>\r\n      </g>\r\n     </g>\r\n    </g>\r\n   </g>\r\n   <g id=\"matplotlib.axis_2\">\r\n    <g id=\"ytick_1\">\r\n     <g id=\"line2d_13\">\r\n      <path clip-path=\"url(#pc0cd1a81d8)\" d=\"M 48.90125 333.36 \r\nL 551.10125 333.36 \r\n\" style=\"fill:none;stroke:#ffffff;stroke-linecap:square;stroke-width:0.8;\"/>\r\n     </g>\r\n     <g id=\"line2d_14\">\r\n      <defs>\r\n       <path d=\"M 0 0 \r\nL -3.5 0 \r\n\" id=\"md94584ebac\" style=\"stroke:#555555;stroke-width:0.8;\"/>\r\n      </defs>\r\n      <g>\r\n       <use style=\"fill:#555555;stroke:#555555;stroke-width:0.8;\" x=\"48.90125\" xlink:href=\"#md94584ebac\" y=\"333.36\"/>\r\n      </g>\r\n     </g>\r\n     <g id=\"text_7\">\r\n      <!-- 0 -->\r\n      <g style=\"fill:#555555;\" transform=\"translate(35.53875 337.159219)scale(0.1 -0.1)\">\r\n       <use xlink:href=\"#DejaVuSans-48\"/>\r\n      </g>\r\n     </g>\r\n    </g>\r\n    <g id=\"ytick_2\">\r\n     <g id=\"line2d_15\">\r\n      <path clip-path=\"url(#pc0cd1a81d8)\" d=\"M 48.90125 275.514828 \r\nL 551.10125 275.514828 \r\n\" style=\"fill:none;stroke:#ffffff;stroke-linecap:square;stroke-width:0.8;\"/>\r\n     </g>\r\n     <g id=\"line2d_16\">\r\n      <g>\r\n       <use style=\"fill:#555555;stroke:#555555;stroke-width:0.8;\" x=\"48.90125\" xlink:href=\"#md94584ebac\" y=\"275.514828\"/>\r\n      </g>\r\n     </g>\r\n     <g id=\"text_8\">\r\n      <!-- 100 -->\r\n      <g style=\"fill:#555555;\" transform=\"translate(22.81375 279.314047)scale(0.1 -0.1)\">\r\n       <use xlink:href=\"#DejaVuSans-49\"/>\r\n       <use x=\"63.623047\" xlink:href=\"#DejaVuSans-48\"/>\r\n       <use x=\"127.246094\" xlink:href=\"#DejaVuSans-48\"/>\r\n      </g>\r\n     </g>\r\n    </g>\r\n    <g id=\"ytick_3\">\r\n     <g id=\"line2d_17\">\r\n      <path clip-path=\"url(#pc0cd1a81d8)\" d=\"M 48.90125 217.669657 \r\nL 551.10125 217.669657 \r\n\" style=\"fill:none;stroke:#ffffff;stroke-linecap:square;stroke-width:0.8;\"/>\r\n     </g>\r\n     <g id=\"line2d_18\">\r\n      <g>\r\n       <use style=\"fill:#555555;stroke:#555555;stroke-width:0.8;\" x=\"48.90125\" xlink:href=\"#md94584ebac\" y=\"217.669657\"/>\r\n      </g>\r\n     </g>\r\n     <g id=\"text_9\">\r\n      <!-- 200 -->\r\n      <g style=\"fill:#555555;\" transform=\"translate(22.81375 221.468876)scale(0.1 -0.1)\">\r\n       <use xlink:href=\"#DejaVuSans-50\"/>\r\n       <use x=\"63.623047\" xlink:href=\"#DejaVuSans-48\"/>\r\n       <use x=\"127.246094\" xlink:href=\"#DejaVuSans-48\"/>\r\n      </g>\r\n     </g>\r\n    </g>\r\n    <g id=\"ytick_4\">\r\n     <g id=\"line2d_19\">\r\n      <path clip-path=\"url(#pc0cd1a81d8)\" d=\"M 48.90125 159.824485 \r\nL 551.10125 159.824485 \r\n\" style=\"fill:none;stroke:#ffffff;stroke-linecap:square;stroke-width:0.8;\"/>\r\n     </g>\r\n     <g id=\"line2d_20\">\r\n      <g>\r\n       <use style=\"fill:#555555;stroke:#555555;stroke-width:0.8;\" x=\"48.90125\" xlink:href=\"#md94584ebac\" y=\"159.824485\"/>\r\n      </g>\r\n     </g>\r\n     <g id=\"text_10\">\r\n      <!-- 300 -->\r\n      <g style=\"fill:#555555;\" transform=\"translate(22.81375 163.623704)scale(0.1 -0.1)\">\r\n       <defs>\r\n        <path d=\"M 40.578125 39.3125 \r\nQ 47.65625 37.796875 51.625 33 \r\nQ 55.609375 28.21875 55.609375 21.1875 \r\nQ 55.609375 10.40625 48.1875 4.484375 \r\nQ 40.765625 -1.421875 27.09375 -1.421875 \r\nQ 22.515625 -1.421875 17.65625 -0.515625 \r\nQ 12.796875 0.390625 7.625 2.203125 \r\nL 7.625 11.71875 \r\nQ 11.71875 9.328125 16.59375 8.109375 \r\nQ 21.484375 6.890625 26.8125 6.890625 \r\nQ 36.078125 6.890625 40.9375 10.546875 \r\nQ 45.796875 14.203125 45.796875 21.1875 \r\nQ 45.796875 27.640625 41.28125 31.265625 \r\nQ 36.765625 34.90625 28.71875 34.90625 \r\nL 20.21875 34.90625 \r\nL 20.21875 43.015625 \r\nL 29.109375 43.015625 \r\nQ 36.375 43.015625 40.234375 45.921875 \r\nQ 44.09375 48.828125 44.09375 54.296875 \r\nQ 44.09375 59.90625 40.109375 62.90625 \r\nQ 36.140625 65.921875 28.71875 65.921875 \r\nQ 24.65625 65.921875 20.015625 65.03125 \r\nQ 15.375 64.15625 9.8125 62.3125 \r\nL 9.8125 71.09375 \r\nQ 15.4375 72.65625 20.34375 73.4375 \r\nQ 25.25 74.21875 29.59375 74.21875 \r\nQ 40.828125 74.21875 47.359375 69.109375 \r\nQ 53.90625 64.015625 53.90625 55.328125 \r\nQ 53.90625 49.265625 50.4375 45.09375 \r\nQ 46.96875 40.921875 40.578125 39.3125 \r\nz\r\n\" id=\"DejaVuSans-51\"/>\r\n       </defs>\r\n       <use xlink:href=\"#DejaVuSans-51\"/>\r\n       <use x=\"63.623047\" xlink:href=\"#DejaVuSans-48\"/>\r\n       <use x=\"127.246094\" xlink:href=\"#DejaVuSans-48\"/>\r\n      </g>\r\n     </g>\r\n    </g>\r\n    <g id=\"ytick_5\">\r\n     <g id=\"line2d_21\">\r\n      <path clip-path=\"url(#pc0cd1a81d8)\" d=\"M 48.90125 101.979314 \r\nL 551.10125 101.979314 \r\n\" style=\"fill:none;stroke:#ffffff;stroke-linecap:square;stroke-width:0.8;\"/>\r\n     </g>\r\n     <g id=\"line2d_22\">\r\n      <g>\r\n       <use style=\"fill:#555555;stroke:#555555;stroke-width:0.8;\" x=\"48.90125\" xlink:href=\"#md94584ebac\" y=\"101.979314\"/>\r\n      </g>\r\n     </g>\r\n     <g id=\"text_11\">\r\n      <!-- 400 -->\r\n      <g style=\"fill:#555555;\" transform=\"translate(22.81375 105.778532)scale(0.1 -0.1)\">\r\n       <use xlink:href=\"#DejaVuSans-52\"/>\r\n       <use x=\"63.623047\" xlink:href=\"#DejaVuSans-48\"/>\r\n       <use x=\"127.246094\" xlink:href=\"#DejaVuSans-48\"/>\r\n      </g>\r\n     </g>\r\n    </g>\r\n    <g id=\"ytick_6\">\r\n     <g id=\"line2d_23\">\r\n      <path clip-path=\"url(#pc0cd1a81d8)\" d=\"M 48.90125 44.134142 \r\nL 551.10125 44.134142 \r\n\" style=\"fill:none;stroke:#ffffff;stroke-linecap:square;stroke-width:0.8;\"/>\r\n     </g>\r\n     <g id=\"line2d_24\">\r\n      <g>\r\n       <use style=\"fill:#555555;stroke:#555555;stroke-width:0.8;\" x=\"48.90125\" xlink:href=\"#md94584ebac\" y=\"44.134142\"/>\r\n      </g>\r\n     </g>\r\n     <g id=\"text_12\">\r\n      <!-- 500 -->\r\n      <g style=\"fill:#555555;\" transform=\"translate(22.81375 47.933361)scale(0.1 -0.1)\">\r\n       <defs>\r\n        <path d=\"M 10.796875 72.90625 \r\nL 49.515625 72.90625 \r\nL 49.515625 64.59375 \r\nL 19.828125 64.59375 \r\nL 19.828125 46.734375 \r\nQ 21.96875 47.46875 24.109375 47.828125 \r\nQ 26.265625 48.1875 28.421875 48.1875 \r\nQ 40.625 48.1875 47.75 41.5 \r\nQ 54.890625 34.8125 54.890625 23.390625 \r\nQ 54.890625 11.625 47.5625 5.09375 \r\nQ 40.234375 -1.421875 26.90625 -1.421875 \r\nQ 22.3125 -1.421875 17.546875 -0.640625 \r\nQ 12.796875 0.140625 7.71875 1.703125 \r\nL 7.71875 11.625 \r\nQ 12.109375 9.234375 16.796875 8.0625 \r\nQ 21.484375 6.890625 26.703125 6.890625 \r\nQ 35.15625 6.890625 40.078125 11.328125 \r\nQ 45.015625 15.765625 45.015625 23.390625 \r\nQ 45.015625 31 40.078125 35.4375 \r\nQ 35.15625 39.890625 26.703125 39.890625 \r\nQ 22.75 39.890625 18.8125 39.015625 \r\nQ 14.890625 38.140625 10.796875 36.28125 \r\nz\r\n\" id=\"DejaVuSans-53\"/>\r\n       </defs>\r\n       <use xlink:href=\"#DejaVuSans-53\"/>\r\n       <use x=\"63.623047\" xlink:href=\"#DejaVuSans-48\"/>\r\n       <use x=\"127.246094\" xlink:href=\"#DejaVuSans-48\"/>\r\n      </g>\r\n     </g>\r\n    </g>\r\n    <g id=\"text_13\">\r\n     <!-- Count -->\r\n     <g style=\"fill:#555555;\" transform=\"translate(16.318125 188.098125)rotate(-90)scale(0.12 -0.12)\">\r\n      <defs>\r\n       <path d=\"M 64.40625 67.28125 \r\nL 64.40625 56.890625 \r\nQ 59.421875 61.53125 53.78125 63.8125 \r\nQ 48.140625 66.109375 41.796875 66.109375 \r\nQ 29.296875 66.109375 22.65625 58.46875 \r\nQ 16.015625 50.828125 16.015625 36.375 \r\nQ 16.015625 21.96875 22.65625 14.328125 \r\nQ 29.296875 6.6875 41.796875 6.6875 \r\nQ 48.140625 6.6875 53.78125 8.984375 \r\nQ 59.421875 11.28125 64.40625 15.921875 \r\nL 64.40625 5.609375 \r\nQ 59.234375 2.09375 53.4375 0.328125 \r\nQ 47.65625 -1.421875 41.21875 -1.421875 \r\nQ 24.65625 -1.421875 15.125 8.703125 \r\nQ 5.609375 18.84375 5.609375 36.375 \r\nQ 5.609375 53.953125 15.125 64.078125 \r\nQ 24.65625 74.21875 41.21875 74.21875 \r\nQ 47.75 74.21875 53.53125 72.484375 \r\nQ 59.328125 70.75 64.40625 67.28125 \r\nz\r\n\" id=\"DejaVuSans-67\"/>\r\n       <path d=\"M 30.609375 48.390625 \r\nQ 23.390625 48.390625 19.1875 42.75 \r\nQ 14.984375 37.109375 14.984375 27.296875 \r\nQ 14.984375 17.484375 19.15625 11.84375 \r\nQ 23.34375 6.203125 30.609375 6.203125 \r\nQ 37.796875 6.203125 41.984375 11.859375 \r\nQ 46.1875 17.53125 46.1875 27.296875 \r\nQ 46.1875 37.015625 41.984375 42.703125 \r\nQ 37.796875 48.390625 30.609375 48.390625 \r\nz\r\nM 30.609375 56 \r\nQ 42.328125 56 49.015625 48.375 \r\nQ 55.71875 40.765625 55.71875 27.296875 \r\nQ 55.71875 13.875 49.015625 6.21875 \r\nQ 42.328125 -1.421875 30.609375 -1.421875 \r\nQ 18.84375 -1.421875 12.171875 6.21875 \r\nQ 5.515625 13.875 5.515625 27.296875 \r\nQ 5.515625 40.765625 12.171875 48.375 \r\nQ 18.84375 56 30.609375 56 \r\nz\r\n\" id=\"DejaVuSans-111\"/>\r\n       <path d=\"M 8.5 21.578125 \r\nL 8.5 54.6875 \r\nL 17.484375 54.6875 \r\nL 17.484375 21.921875 \r\nQ 17.484375 14.15625 20.5 10.265625 \r\nQ 23.53125 6.390625 29.59375 6.390625 \r\nQ 36.859375 6.390625 41.078125 11.03125 \r\nQ 45.3125 15.671875 45.3125 23.6875 \r\nL 45.3125 54.6875 \r\nL 54.296875 54.6875 \r\nL 54.296875 0 \r\nL 45.3125 0 \r\nL 45.3125 8.40625 \r\nQ 42.046875 3.421875 37.71875 1 \r\nQ 33.40625 -1.421875 27.6875 -1.421875 \r\nQ 18.265625 -1.421875 13.375 4.4375 \r\nQ 8.5 10.296875 8.5 21.578125 \r\nz\r\nM 31.109375 56 \r\nz\r\n\" id=\"DejaVuSans-117\"/>\r\n       <path d=\"M 54.890625 33.015625 \r\nL 54.890625 0 \r\nL 45.90625 0 \r\nL 45.90625 32.71875 \r\nQ 45.90625 40.484375 42.875 44.328125 \r\nQ 39.84375 48.1875 33.796875 48.1875 \r\nQ 26.515625 48.1875 22.3125 43.546875 \r\nQ 18.109375 38.921875 18.109375 30.90625 \r\nL 18.109375 0 \r\nL 9.078125 0 \r\nL 9.078125 54.6875 \r\nL 18.109375 54.6875 \r\nL 18.109375 46.1875 \r\nQ 21.34375 51.125 25.703125 53.5625 \r\nQ 30.078125 56 35.796875 56 \r\nQ 45.21875 56 50.046875 50.171875 \r\nQ 54.890625 44.34375 54.890625 33.015625 \r\nz\r\n\" id=\"DejaVuSans-110\"/>\r\n       <path d=\"M 18.3125 70.21875 \r\nL 18.3125 54.6875 \r\nL 36.8125 54.6875 \r\nL 36.8125 47.703125 \r\nL 18.3125 47.703125 \r\nL 18.3125 18.015625 \r\nQ 18.3125 11.328125 20.140625 9.421875 \r\nQ 21.96875 7.515625 27.59375 7.515625 \r\nL 36.8125 7.515625 \r\nL 36.8125 0 \r\nL 27.59375 0 \r\nQ 17.1875 0 13.234375 3.875 \r\nQ 9.28125 7.765625 9.28125 18.015625 \r\nL 9.28125 47.703125 \r\nL 2.6875 47.703125 \r\nL 2.6875 54.6875 \r\nL 9.28125 54.6875 \r\nL 9.28125 70.21875 \r\nz\r\n\" id=\"DejaVuSans-116\"/>\r\n      </defs>\r\n      <use xlink:href=\"#DejaVuSans-67\"/>\r\n      <use x=\"69.824219\" xlink:href=\"#DejaVuSans-111\"/>\r\n      <use x=\"131.005859\" xlink:href=\"#DejaVuSans-117\"/>\r\n      <use x=\"194.384766\" xlink:href=\"#DejaVuSans-110\"/>\r\n      <use x=\"257.763672\" xlink:href=\"#DejaVuSans-116\"/>\r\n     </g>\r\n    </g>\r\n   </g>\r\n   <g id=\"patch_3\">\r\n    <path clip-path=\"url(#pc0cd1a81d8)\" d=\"M 71.728523 333.36 \r\nL 92.480589 333.36 \r\nL 92.480589 60.909242 \r\nL 71.728523 60.909242 \r\nz\r\n\" style=\"fill:#adb5bd;fill-opacity:0.75;stroke:#eeeeee;stroke-linejoin:miter;stroke-width:0.5;\"/>\r\n   </g>\r\n   <g id=\"patch_4\">\r\n    <path clip-path=\"url(#pc0cd1a81d8)\" d=\"M 92.480589 333.36 \r\nL 113.232655 333.36 \r\nL 113.232655 101.400862 \r\nL 92.480589 101.400862 \r\nz\r\n\" style=\"fill:#adb5bd;fill-opacity:0.75;stroke:#eeeeee;stroke-linejoin:miter;stroke-width:0.5;\"/>\r\n   </g>\r\n   <g id=\"patch_5\">\r\n    <path clip-path=\"url(#pc0cd1a81d8)\" d=\"M 113.232655 333.36 \r\nL 133.984721 333.36 \r\nL 133.984721 27.937494 \r\nL 113.232655 27.937494 \r\nz\r\n\" style=\"fill:#adb5bd;fill-opacity:0.75;stroke:#eeeeee;stroke-linejoin:miter;stroke-width:0.5;\"/>\r\n   </g>\r\n   <g id=\"patch_6\">\r\n    <path clip-path=\"url(#pc0cd1a81d8)\" d=\"M 133.984721 333.36 \r\nL 154.736787 333.36 \r\nL 154.736787 133.215706 \r\nL 133.984721 133.215706 \r\nz\r\n\" style=\"fill:#adb5bd;fill-opacity:0.75;stroke:#eeeeee;stroke-linejoin:miter;stroke-width:0.5;\"/>\r\n   </g>\r\n   <g id=\"patch_7\">\r\n    <path clip-path=\"url(#pc0cd1a81d8)\" d=\"M 154.736787 333.36 \r\nL 175.488853 333.36 \r\nL 175.488853 37.192721 \r\nL 154.736787 37.192721 \r\nz\r\n\" style=\"fill:#adb5bd;fill-opacity:0.75;stroke:#eeeeee;stroke-linejoin:miter;stroke-width:0.5;\"/>\r\n   </g>\r\n   <g id=\"patch_8\">\r\n    <path clip-path=\"url(#pc0cd1a81d8)\" d=\"M 175.488853 333.36 \r\nL 196.240919 333.36 \r\nL 196.240919 104.293121 \r\nL 175.488853 104.293121 \r\nz\r\n\" style=\"fill:#adb5bd;fill-opacity:0.75;stroke:#eeeeee;stroke-linejoin:miter;stroke-width:0.5;\"/>\r\n   </g>\r\n   <g id=\"patch_9\">\r\n    <path clip-path=\"url(#pc0cd1a81d8)\" d=\"M 196.240919 333.36 \r\nL 216.992986 333.36 \r\nL 216.992986 63.8015 \r\nL 196.240919 63.8015 \r\nz\r\n\" style=\"fill:#adb5bd;fill-opacity:0.75;stroke:#eeeeee;stroke-linejoin:miter;stroke-width:0.5;\"/>\r\n   </g>\r\n   <g id=\"patch_10\">\r\n    <path clip-path=\"url(#pc0cd1a81d8)\" d=\"M 216.992986 333.36 \r\nL 237.745052 333.36 \r\nL 237.745052 106.028476 \r\nL 216.992986 106.028476 \r\nz\r\n\" style=\"fill:#adb5bd;fill-opacity:0.75;stroke:#eeeeee;stroke-linejoin:miter;stroke-width:0.5;\"/>\r\n   </g>\r\n   <g id=\"patch_11\">\r\n    <path clip-path=\"url(#pc0cd1a81d8)\" d=\"M 237.745052 333.36 \r\nL 258.497118 333.36 \r\nL 258.497118 49.918659 \r\nL 237.745052 49.918659 \r\nz\r\n\" style=\"fill:#adb5bd;fill-opacity:0.75;stroke:#eeeeee;stroke-linejoin:miter;stroke-width:0.5;\"/>\r\n   </g>\r\n   <g id=\"patch_12\">\r\n    <path clip-path=\"url(#pc0cd1a81d8)\" d=\"M 258.497118 333.36 \r\nL 279.249184 333.36 \r\nL 279.249184 85.782666 \r\nL 258.497118 85.782666 \r\nz\r\n\" style=\"fill:#adb5bd;fill-opacity:0.75;stroke:#eeeeee;stroke-linejoin:miter;stroke-width:0.5;\"/>\r\n   </g>\r\n   <g id=\"patch_13\">\r\n    <path clip-path=\"url(#pc0cd1a81d8)\" d=\"M 279.249184 333.36 \r\nL 300.00125 333.36 \r\nL 300.00125 58.016983 \r\nL 279.249184 58.016983 \r\nz\r\n\" style=\"fill:#adb5bd;fill-opacity:0.75;stroke:#eeeeee;stroke-linejoin:miter;stroke-width:0.5;\"/>\r\n   </g>\r\n   <g id=\"patch_14\">\r\n    <path clip-path=\"url(#pc0cd1a81d8)\" d=\"M 300.00125 333.36 \r\nL 320.753316 333.36 \r\nL 320.753316 104.293121 \r\nL 300.00125 104.293121 \r\nz\r\n\" style=\"fill:#adb5bd;fill-opacity:0.75;stroke:#eeeeee;stroke-linejoin:miter;stroke-width:0.5;\"/>\r\n   </g>\r\n   <g id=\"patch_15\">\r\n    <path clip-path=\"url(#pc0cd1a81d8)\" d=\"M 320.753316 333.36 \r\nL 341.505382 333.36 \r\nL 341.505382 22.731429 \r\nL 320.753316 22.731429 \r\nz\r\n\" style=\"fill:#adb5bd;fill-opacity:0.75;stroke:#eeeeee;stroke-linejoin:miter;stroke-width:0.5;\"/>\r\n   </g>\r\n   <g id=\"patch_16\">\r\n    <path clip-path=\"url(#pc0cd1a81d8)\" d=\"M 341.505382 333.36 \r\nL 362.257448 333.36 \r\nL 362.257448 104.293121 \r\nL 341.505382 104.293121 \r\nz\r\n\" style=\"fill:#adb5bd;fill-opacity:0.75;stroke:#eeeeee;stroke-linejoin:miter;stroke-width:0.5;\"/>\r\n   </g>\r\n   <g id=\"patch_17\">\r\n    <path clip-path=\"url(#pc0cd1a81d8)\" d=\"M 362.257448 333.36 \r\nL 383.009514 333.36 \r\nL 383.009514 59.752338 \r\nL 362.257448 59.752338 \r\nz\r\n\" style=\"fill:#adb5bd;fill-opacity:0.75;stroke:#eeeeee;stroke-linejoin:miter;stroke-width:0.5;\"/>\r\n   </g>\r\n   <g id=\"patch_18\">\r\n    <path clip-path=\"url(#pc0cd1a81d8)\" d=\"M 383.009514 333.36 \r\nL 403.761581 333.36 \r\nL 403.761581 85.782666 \r\nL 383.009514 85.782666 \r\nz\r\n\" style=\"fill:#adb5bd;fill-opacity:0.75;stroke:#eeeeee;stroke-linejoin:miter;stroke-width:0.5;\"/>\r\n   </g>\r\n   <g id=\"patch_19\">\r\n    <path clip-path=\"url(#pc0cd1a81d8)\" d=\"M 403.761581 333.36 \r\nL 424.513647 333.36 \r\nL 424.513647 24.466784 \r\nL 403.761581 24.466784 \r\nz\r\n\" style=\"fill:#adb5bd;fill-opacity:0.75;stroke:#eeeeee;stroke-linejoin:miter;stroke-width:0.5;\"/>\r\n   </g>\r\n   <g id=\"patch_20\">\r\n    <path clip-path=\"url(#pc0cd1a81d8)\" d=\"M 424.513647 333.36 \r\nL 445.265713 333.36 \r\nL 445.265713 103.714669 \r\nL 424.513647 103.714669 \r\nz\r\n\" style=\"fill:#adb5bd;fill-opacity:0.75;stroke:#eeeeee;stroke-linejoin:miter;stroke-width:0.5;\"/>\r\n   </g>\r\n   <g id=\"patch_21\">\r\n    <path clip-path=\"url(#pc0cd1a81d8)\" d=\"M 445.265713 333.36 \r\nL 466.017779 333.36 \r\nL 466.017779 52.232466 \r\nL 445.265713 52.232466 \r\nz\r\n\" style=\"fill:#adb5bd;fill-opacity:0.75;stroke:#eeeeee;stroke-linejoin:miter;stroke-width:0.5;\"/>\r\n   </g>\r\n   <g id=\"patch_22\">\r\n    <path clip-path=\"url(#pc0cd1a81d8)\" d=\"M 466.017779 333.36 \r\nL 486.769845 333.36 \r\nL 486.769845 96.773248 \r\nL 466.017779 96.773248 \r\nz\r\n\" style=\"fill:#adb5bd;fill-opacity:0.75;stroke:#eeeeee;stroke-linejoin:miter;stroke-width:0.5;\"/>\r\n   </g>\r\n   <g id=\"patch_23\">\r\n    <path clip-path=\"url(#pc0cd1a81d8)\" d=\"M 486.769845 333.36 \r\nL 507.521911 333.36 \r\nL 507.521911 28.515946 \r\nL 486.769845 28.515946 \r\nz\r\n\" style=\"fill:#adb5bd;fill-opacity:0.75;stroke:#eeeeee;stroke-linejoin:miter;stroke-width:0.5;\"/>\r\n   </g>\r\n   <g id=\"patch_24\">\r\n    <path clip-path=\"url(#pc0cd1a81d8)\" d=\"M 507.521911 333.36 \r\nL 528.273977 333.36 \r\nL 528.273977 38.349625 \r\nL 507.521911 38.349625 \r\nz\r\n\" style=\"fill:#adb5bd;fill-opacity:0.75;stroke:#eeeeee;stroke-linejoin:miter;stroke-width:0.5;\"/>\r\n   </g>\r\n   <g id=\"patch_25\">\r\n    <path d=\"M 48.90125 333.36 \r\nL 48.90125 7.2 \r\n\" style=\"fill:none;stroke:#ffffff;stroke-linecap:square;stroke-linejoin:miter;\"/>\r\n   </g>\r\n   <g id=\"patch_26\">\r\n    <path d=\"M 551.10125 333.36 \r\nL 551.10125 7.2 \r\n\" style=\"fill:none;stroke:#ffffff;stroke-linecap:square;stroke-linejoin:miter;\"/>\r\n   </g>\r\n   <g id=\"patch_27\">\r\n    <path d=\"M 48.90125 333.36 \r\nL 551.10125 333.36 \r\n\" style=\"fill:none;stroke:#ffffff;stroke-linecap:square;stroke-linejoin:miter;\"/>\r\n   </g>\r\n   <g id=\"patch_28\">\r\n    <path d=\"M 48.90125 7.2 \r\nL 551.10125 7.2 \r\n\" style=\"fill:none;stroke:#ffffff;stroke-linecap:square;stroke-linejoin:miter;\"/>\r\n   </g>\r\n  </g>\r\n </g>\r\n <defs>\r\n  <clipPath id=\"pc0cd1a81d8\">\r\n   <rect height=\"326.16\" width=\"502.2\" x=\"48.90125\" y=\"7.2\"/>\r\n  </clipPath>\r\n </defs>\r\n</svg>\r\n",
      "image/png": "[encoded data removed]"
     },
     "metadata": {}
    }
   ],
   "source": [
    "# Generates histogram of 10k randomly generated integers \n",
    "x = rng.integers(0,100, size=10000)\n",
    "sns.histplot(x, color='#ADB5BD');"
   ]
  },
  {
   "source": [
    "### Generating Random Float"
   ],
   "cell_type": "markdown",
   "metadata": {}
  },
  {
   "cell_type": "code",
   "execution_count": 241,
   "metadata": {},
   "outputs": [
    {
     "output_type": "execute_result",
     "data": {
      "text/plain": [
       "0.4232850697823358"
      ]
     },
     "metadata": {},
     "execution_count": 241
    }
   ],
   "source": [
    "# rng.random(size=None, dtype=np.float64)\n",
    "# generates random float numbers between [0,1)\n",
    "rng.random()\n"
   ]
  },
  {
   "cell_type": "code",
   "execution_count": 242,
   "metadata": {},
   "outputs": [
    {
     "output_type": "execute_result",
     "data": {
      "text/plain": [
       "array([0.81795531, 0.93542186, 0.954963  , 0.4222904 , 0.1529984 ,\n",
       "       0.45988066, 0.80584139, 0.06866685, 0.32621077])"
      ]
     },
     "metadata": {},
     "execution_count": 242
    }
   ],
   "source": [
    "# generates random 1d array of floats of length 9\n",
    "rng.random(9)"
   ]
  },
  {
   "cell_type": "code",
   "execution_count": 244,
   "metadata": {},
   "outputs": [
    {
     "output_type": "execute_result",
     "data": {
      "text/plain": [
       "array([[0.22790089, 0.15456986, 0.88518197],\n",
       "       [0.02714262, 0.32734895, 0.760893  ],\n",
       "       [0.85321772, 0.84501674, 0.80254677]])"
      ]
     },
     "metadata": {},
     "execution_count": 244
    }
   ],
   "source": [
    "# generates 3 by 3 array of floats\n",
    "rng.random((3,3))"
   ]
  },
  {
   "cell_type": "code",
   "execution_count": 256,
   "metadata": {},
   "outputs": [
    {
     "output_type": "execute_result",
     "data": {
      "text/plain": [
       "array([[2.4260803 , 2.34865792, 2.55675154, 3.76956612, 3.46143723],\n",
       "       [2.98877021, 3.61682546, 3.30589514, 3.52977762, 3.69467048]])"
      ]
     },
     "metadata": {},
     "execution_count": 256
    }
   ],
   "source": [
    "# Generates random floats in custom range and of the required shape\n",
    "# a + b * rng.random((c.d)) (where a,b,c,d are optional)\n",
    "\n",
    "2 + 2 * rng.random((2,5))"
   ]
  },
  {
   "cell_type": "code",
   "execution_count": 174,
   "metadata": {},
   "outputs": [
    {
     "output_type": "display_data",
     "data": {
      "text/plain": "<Figure size 648x432 with 1 Axes>",
      "image/svg+xml": "<?xml version=\"1.0\" encoding=\"utf-8\" standalone=\"no\"?>\r\n<!DOCTYPE svg PUBLIC \"-//W3C//DTD SVG 1.1//EN\"\r\n  \"http://www.w3.org/Graphics/SVG/1.1/DTD/svg11.dtd\">\r\n<!-- Created with matplotlib (https://matplotlib.org/) -->\r\n<svg height=\"357.238125pt\" version=\"1.1\" viewBox=\"0 0 558.30125 357.238125\" width=\"558.30125pt\" xmlns=\"http://www.w3.org/2000/svg\" xmlns:xlink=\"http://www.w3.org/1999/xlink\">\r\n <metadata>\r\n  <rdf:RDF xmlns:cc=\"http://creativecommons.org/ns#\" xmlns:dc=\"http://purl.org/dc/elements/1.1/\" xmlns:rdf=\"http://www.w3.org/1999/02/22-rdf-syntax-ns#\">\r\n   <cc:Work>\r\n    <dc:type rdf:resource=\"http://purl.org/dc/dcmitype/StillImage\"/>\r\n    <dc:date>2020-11-13T12:21:42.972954</dc:date>\r\n    <dc:format>image/svg+xml</dc:format>\r\n    <dc:creator>\r\n     <cc:Agent>\r\n      <dc:title>Matplotlib v3.3.2, https://matplotlib.org/</dc:title>\r\n     </cc:Agent>\r\n    </dc:creator>\r\n   </cc:Work>\r\n  </rdf:RDF>\r\n </metadata>\r\n <defs>\r\n  <style type=\"text/css\">*{stroke-linecap:butt;stroke-linejoin:round;}</style>\r\n </defs>\r\n <g id=\"figure_1\">\r\n  <g id=\"patch_1\">\r\n   <path d=\"M 0 357.238125 \r\nL 558.30125 357.238125 \r\nL 558.30125 0 \r\nL 0 0 \r\nz\r\n\" style=\"fill:#ffffff;\"/>\r\n  </g>\r\n  <g id=\"axes_1\">\r\n   <g id=\"patch_2\">\r\n    <path d=\"M 48.90125 333.36 \r\nL 551.10125 333.36 \r\nL 551.10125 7.2 \r\nL 48.90125 7.2 \r\nz\r\n\" style=\"fill:#e5e5e5;\"/>\r\n   </g>\r\n   <g id=\"matplotlib.axis_1\">\r\n    <g id=\"xtick_1\">\r\n     <g id=\"line2d_1\">\r\n      <path clip-path=\"url(#p76c4510826)\" d=\"M 71.706947 333.36 \r\nL 71.706947 7.2 \r\n\" style=\"fill:none;stroke:#ffffff;stroke-linecap:square;stroke-width:0.8;\"/>\r\n     </g>\r\n     <g id=\"line2d_2\">\r\n      <defs>\r\n       <path d=\"M 0 0 \r\nL 0 3.5 \r\n\" id=\"md81d8c2297\" style=\"stroke:#555555;stroke-width:0.8;\"/>\r\n      </defs>\r\n      <g>\r\n       <use style=\"fill:#555555;stroke:#555555;stroke-width:0.8;\" x=\"71.706947\" xlink:href=\"#md81d8c2297\" y=\"333.36\"/>\r\n      </g>\r\n     </g>\r\n     <g id=\"text_1\">\r\n      <!-- 0.0 -->\r\n      <g style=\"fill:#555555;\" transform=\"translate(63.755385 347.958438)scale(0.1 -0.1)\">\r\n       <defs>\r\n        <path d=\"M 31.78125 66.40625 \r\nQ 24.171875 66.40625 20.328125 58.90625 \r\nQ 16.5 51.421875 16.5 36.375 \r\nQ 16.5 21.390625 20.328125 13.890625 \r\nQ 24.171875 6.390625 31.78125 6.390625 \r\nQ 39.453125 6.390625 43.28125 13.890625 \r\nQ 47.125 21.390625 47.125 36.375 \r\nQ 47.125 51.421875 43.28125 58.90625 \r\nQ 39.453125 66.40625 31.78125 66.40625 \r\nz\r\nM 31.78125 74.21875 \r\nQ 44.046875 74.21875 50.515625 64.515625 \r\nQ 56.984375 54.828125 56.984375 36.375 \r\nQ 56.984375 17.96875 50.515625 8.265625 \r\nQ 44.046875 -1.421875 31.78125 -1.421875 \r\nQ 19.53125 -1.421875 13.0625 8.265625 \r\nQ 6.59375 17.96875 6.59375 36.375 \r\nQ 6.59375 54.828125 13.0625 64.515625 \r\nQ 19.53125 74.21875 31.78125 74.21875 \r\nz\r\n\" id=\"DejaVuSans-48\"/>\r\n        <path d=\"M 10.6875 12.40625 \r\nL 21 12.40625 \r\nL 21 0 \r\nL 10.6875 0 \r\nz\r\n\" id=\"DejaVuSans-46\"/>\r\n       </defs>\r\n       <use xlink:href=\"#DejaVuSans-48\"/>\r\n       <use x=\"63.623047\" xlink:href=\"#DejaVuSans-46\"/>\r\n       <use x=\"95.410156\" xlink:href=\"#DejaVuSans-48\"/>\r\n      </g>\r\n     </g>\r\n    </g>\r\n    <g id=\"xtick_2\">\r\n     <g id=\"line2d_3\">\r\n      <path clip-path=\"url(#p76c4510826)\" d=\"M 163.021767 333.36 \r\nL 163.021767 7.2 \r\n\" style=\"fill:none;stroke:#ffffff;stroke-linecap:square;stroke-width:0.8;\"/>\r\n     </g>\r\n     <g id=\"line2d_4\">\r\n      <g>\r\n       <use style=\"fill:#555555;stroke:#555555;stroke-width:0.8;\" x=\"163.021767\" xlink:href=\"#md81d8c2297\" y=\"333.36\"/>\r\n      </g>\r\n     </g>\r\n     <g id=\"text_2\">\r\n      <!-- 0.2 -->\r\n      <g style=\"fill:#555555;\" transform=\"translate(155.070204 347.958438)scale(0.1 -0.1)\">\r\n       <defs>\r\n        <path d=\"M 19.1875 8.296875 \r\nL 53.609375 8.296875 \r\nL 53.609375 0 \r\nL 7.328125 0 \r\nL 7.328125 8.296875 \r\nQ 12.9375 14.109375 22.625 23.890625 \r\nQ 32.328125 33.6875 34.8125 36.53125 \r\nQ 39.546875 41.84375 41.421875 45.53125 \r\nQ 43.3125 49.21875 43.3125 52.78125 \r\nQ 43.3125 58.59375 39.234375 62.25 \r\nQ 35.15625 65.921875 28.609375 65.921875 \r\nQ 23.96875 65.921875 18.8125 64.3125 \r\nQ 13.671875 62.703125 7.8125 59.421875 \r\nL 7.8125 69.390625 \r\nQ 13.765625 71.78125 18.9375 73 \r\nQ 24.125 74.21875 28.421875 74.21875 \r\nQ 39.75 74.21875 46.484375 68.546875 \r\nQ 53.21875 62.890625 53.21875 53.421875 \r\nQ 53.21875 48.921875 51.53125 44.890625 \r\nQ 49.859375 40.875 45.40625 35.40625 \r\nQ 44.1875 33.984375 37.640625 27.21875 \r\nQ 31.109375 20.453125 19.1875 8.296875 \r\nz\r\n\" id=\"DejaVuSans-50\"/>\r\n       </defs>\r\n       <use xlink:href=\"#DejaVuSans-48\"/>\r\n       <use x=\"63.623047\" xlink:href=\"#DejaVuSans-46\"/>\r\n       <use x=\"95.410156\" xlink:href=\"#DejaVuSans-50\"/>\r\n      </g>\r\n     </g>\r\n    </g>\r\n    <g id=\"xtick_3\">\r\n     <g id=\"line2d_5\">\r\n      <path clip-path=\"url(#p76c4510826)\" d=\"M 254.336587 333.36 \r\nL 254.336587 7.2 \r\n\" style=\"fill:none;stroke:#ffffff;stroke-linecap:square;stroke-width:0.8;\"/>\r\n     </g>\r\n     <g id=\"line2d_6\">\r\n      <g>\r\n       <use style=\"fill:#555555;stroke:#555555;stroke-width:0.8;\" x=\"254.336587\" xlink:href=\"#md81d8c2297\" y=\"333.36\"/>\r\n      </g>\r\n     </g>\r\n     <g id=\"text_3\">\r\n      <!-- 0.4 -->\r\n      <g style=\"fill:#555555;\" transform=\"translate(246.385024 347.958438)scale(0.1 -0.1)\">\r\n       <defs>\r\n        <path d=\"M 37.796875 64.3125 \r\nL 12.890625 25.390625 \r\nL 37.796875 25.390625 \r\nz\r\nM 35.203125 72.90625 \r\nL 47.609375 72.90625 \r\nL 47.609375 25.390625 \r\nL 58.015625 25.390625 \r\nL 58.015625 17.1875 \r\nL 47.609375 17.1875 \r\nL 47.609375 0 \r\nL 37.796875 0 \r\nL 37.796875 17.1875 \r\nL 4.890625 17.1875 \r\nL 4.890625 26.703125 \r\nz\r\n\" id=\"DejaVuSans-52\"/>\r\n       </defs>\r\n       <use xlink:href=\"#DejaVuSans-48\"/>\r\n       <use x=\"63.623047\" xlink:href=\"#DejaVuSans-46\"/>\r\n       <use x=\"95.410156\" xlink:href=\"#DejaVuSans-52\"/>\r\n      </g>\r\n     </g>\r\n    </g>\r\n    <g id=\"xtick_4\">\r\n     <g id=\"line2d_7\">\r\n      <path clip-path=\"url(#p76c4510826)\" d=\"M 345.651406 333.36 \r\nL 345.651406 7.2 \r\n\" style=\"fill:none;stroke:#ffffff;stroke-linecap:square;stroke-width:0.8;\"/>\r\n     </g>\r\n     <g id=\"line2d_8\">\r\n      <g>\r\n       <use style=\"fill:#555555;stroke:#555555;stroke-width:0.8;\" x=\"345.651406\" xlink:href=\"#md81d8c2297\" y=\"333.36\"/>\r\n      </g>\r\n     </g>\r\n     <g id=\"text_4\">\r\n      <!-- 0.6 -->\r\n      <g style=\"fill:#555555;\" transform=\"translate(337.699844 347.958438)scale(0.1 -0.1)\">\r\n       <defs>\r\n        <path d=\"M 33.015625 40.375 \r\nQ 26.375 40.375 22.484375 35.828125 \r\nQ 18.609375 31.296875 18.609375 23.390625 \r\nQ 18.609375 15.53125 22.484375 10.953125 \r\nQ 26.375 6.390625 33.015625 6.390625 \r\nQ 39.65625 6.390625 43.53125 10.953125 \r\nQ 47.40625 15.53125 47.40625 23.390625 \r\nQ 47.40625 31.296875 43.53125 35.828125 \r\nQ 39.65625 40.375 33.015625 40.375 \r\nz\r\nM 52.59375 71.296875 \r\nL 52.59375 62.3125 \r\nQ 48.875 64.0625 45.09375 64.984375 \r\nQ 41.3125 65.921875 37.59375 65.921875 \r\nQ 27.828125 65.921875 22.671875 59.328125 \r\nQ 17.53125 52.734375 16.796875 39.40625 \r\nQ 19.671875 43.65625 24.015625 45.921875 \r\nQ 28.375 48.1875 33.59375 48.1875 \r\nQ 44.578125 48.1875 50.953125 41.515625 \r\nQ 57.328125 34.859375 57.328125 23.390625 \r\nQ 57.328125 12.15625 50.6875 5.359375 \r\nQ 44.046875 -1.421875 33.015625 -1.421875 \r\nQ 20.359375 -1.421875 13.671875 8.265625 \r\nQ 6.984375 17.96875 6.984375 36.375 \r\nQ 6.984375 53.65625 15.1875 63.9375 \r\nQ 23.390625 74.21875 37.203125 74.21875 \r\nQ 40.921875 74.21875 44.703125 73.484375 \r\nQ 48.484375 72.75 52.59375 71.296875 \r\nz\r\n\" id=\"DejaVuSans-54\"/>\r\n       </defs>\r\n       <use xlink:href=\"#DejaVuSans-48\"/>\r\n       <use x=\"63.623047\" xlink:href=\"#DejaVuSans-46\"/>\r\n       <use x=\"95.410156\" xlink:href=\"#DejaVuSans-54\"/>\r\n      </g>\r\n     </g>\r\n    </g>\r\n    <g id=\"xtick_5\">\r\n     <g id=\"line2d_9\">\r\n      <path clip-path=\"url(#p76c4510826)\" d=\"M 436.966226 333.36 \r\nL 436.966226 7.2 \r\n\" style=\"fill:none;stroke:#ffffff;stroke-linecap:square;stroke-width:0.8;\"/>\r\n     </g>\r\n     <g id=\"line2d_10\">\r\n      <g>\r\n       <use style=\"fill:#555555;stroke:#555555;stroke-width:0.8;\" x=\"436.966226\" xlink:href=\"#md81d8c2297\" y=\"333.36\"/>\r\n      </g>\r\n     </g>\r\n     <g id=\"text_5\">\r\n      <!-- 0.8 -->\r\n      <g style=\"fill:#555555;\" transform=\"translate(429.014663 347.958438)scale(0.1 -0.1)\">\r\n       <defs>\r\n        <path d=\"M 31.78125 34.625 \r\nQ 24.75 34.625 20.71875 30.859375 \r\nQ 16.703125 27.09375 16.703125 20.515625 \r\nQ 16.703125 13.921875 20.71875 10.15625 \r\nQ 24.75 6.390625 31.78125 6.390625 \r\nQ 38.8125 6.390625 42.859375 10.171875 \r\nQ 46.921875 13.96875 46.921875 20.515625 \r\nQ 46.921875 27.09375 42.890625 30.859375 \r\nQ 38.875 34.625 31.78125 34.625 \r\nz\r\nM 21.921875 38.8125 \r\nQ 15.578125 40.375 12.03125 44.71875 \r\nQ 8.5 49.078125 8.5 55.328125 \r\nQ 8.5 64.0625 14.71875 69.140625 \r\nQ 20.953125 74.21875 31.78125 74.21875 \r\nQ 42.671875 74.21875 48.875 69.140625 \r\nQ 55.078125 64.0625 55.078125 55.328125 \r\nQ 55.078125 49.078125 51.53125 44.71875 \r\nQ 48 40.375 41.703125 38.8125 \r\nQ 48.828125 37.15625 52.796875 32.3125 \r\nQ 56.78125 27.484375 56.78125 20.515625 \r\nQ 56.78125 9.90625 50.3125 4.234375 \r\nQ 43.84375 -1.421875 31.78125 -1.421875 \r\nQ 19.734375 -1.421875 13.25 4.234375 \r\nQ 6.78125 9.90625 6.78125 20.515625 \r\nQ 6.78125 27.484375 10.78125 32.3125 \r\nQ 14.796875 37.15625 21.921875 38.8125 \r\nz\r\nM 18.3125 54.390625 \r\nQ 18.3125 48.734375 21.84375 45.5625 \r\nQ 25.390625 42.390625 31.78125 42.390625 \r\nQ 38.140625 42.390625 41.71875 45.5625 \r\nQ 45.3125 48.734375 45.3125 54.390625 \r\nQ 45.3125 60.0625 41.71875 63.234375 \r\nQ 38.140625 66.40625 31.78125 66.40625 \r\nQ 25.390625 66.40625 21.84375 63.234375 \r\nQ 18.3125 60.0625 18.3125 54.390625 \r\nz\r\n\" id=\"DejaVuSans-56\"/>\r\n       </defs>\r\n       <use xlink:href=\"#DejaVuSans-48\"/>\r\n       <use x=\"63.623047\" xlink:href=\"#DejaVuSans-46\"/>\r\n       <use x=\"95.410156\" xlink:href=\"#DejaVuSans-56\"/>\r\n      </g>\r\n     </g>\r\n    </g>\r\n    <g id=\"xtick_6\">\r\n     <g id=\"line2d_11\">\r\n      <path clip-path=\"url(#p76c4510826)\" d=\"M 528.281046 333.36 \r\nL 528.281046 7.2 \r\n\" style=\"fill:none;stroke:#ffffff;stroke-linecap:square;stroke-width:0.8;\"/>\r\n     </g>\r\n     <g id=\"line2d_12\">\r\n      <g>\r\n       <use style=\"fill:#555555;stroke:#555555;stroke-width:0.8;\" x=\"528.281046\" xlink:href=\"#md81d8c2297\" y=\"333.36\"/>\r\n      </g>\r\n     </g>\r\n     <g id=\"text_6\">\r\n      <!-- 1.0 -->\r\n      <g style=\"fill:#555555;\" transform=\"translate(520.329483 347.958438)scale(0.1 -0.1)\">\r\n       <defs>\r\n        <path d=\"M 12.40625 8.296875 \r\nL 28.515625 8.296875 \r\nL 28.515625 63.921875 \r\nL 10.984375 60.40625 \r\nL 10.984375 69.390625 \r\nL 28.421875 72.90625 \r\nL 38.28125 72.90625 \r\nL 38.28125 8.296875 \r\nL 54.390625 8.296875 \r\nL 54.390625 0 \r\nL 12.40625 0 \r\nz\r\n\" id=\"DejaVuSans-49\"/>\r\n       </defs>\r\n       <use xlink:href=\"#DejaVuSans-49\"/>\r\n       <use x=\"63.623047\" xlink:href=\"#DejaVuSans-46\"/>\r\n       <use x=\"95.410156\" xlink:href=\"#DejaVuSans-48\"/>\r\n      </g>\r\n     </g>\r\n    </g>\r\n   </g>\r\n   <g id=\"matplotlib.axis_2\">\r\n    <g id=\"ytick_1\">\r\n     <g id=\"line2d_13\">\r\n      <path clip-path=\"url(#p76c4510826)\" d=\"M 48.90125 333.36 \r\nL 551.10125 333.36 \r\n\" style=\"fill:none;stroke:#ffffff;stroke-linecap:square;stroke-width:0.8;\"/>\r\n     </g>\r\n     <g id=\"line2d_14\">\r\n      <defs>\r\n       <path d=\"M 0 0 \r\nL -3.5 0 \r\n\" id=\"mf5502dcf68\" style=\"stroke:#555555;stroke-width:0.8;\"/>\r\n      </defs>\r\n      <g>\r\n       <use style=\"fill:#555555;stroke:#555555;stroke-width:0.8;\" x=\"48.90125\" xlink:href=\"#mf5502dcf68\" y=\"333.36\"/>\r\n      </g>\r\n     </g>\r\n     <g id=\"text_7\">\r\n      <!-- 0 -->\r\n      <g style=\"fill:#555555;\" transform=\"translate(35.53875 337.159219)scale(0.1 -0.1)\">\r\n       <use xlink:href=\"#DejaVuSans-48\"/>\r\n      </g>\r\n     </g>\r\n    </g>\r\n    <g id=\"ytick_2\">\r\n     <g id=\"line2d_15\">\r\n      <path clip-path=\"url(#p76c4510826)\" d=\"M 48.90125 270.606753 \r\nL 551.10125 270.606753 \r\n\" style=\"fill:none;stroke:#ffffff;stroke-linecap:square;stroke-width:0.8;\"/>\r\n     </g>\r\n     <g id=\"line2d_16\">\r\n      <g>\r\n       <use style=\"fill:#555555;stroke:#555555;stroke-width:0.8;\" x=\"48.90125\" xlink:href=\"#mf5502dcf68\" y=\"270.606753\"/>\r\n      </g>\r\n     </g>\r\n     <g id=\"text_8\">\r\n      <!-- 100 -->\r\n      <g style=\"fill:#555555;\" transform=\"translate(22.81375 274.405972)scale(0.1 -0.1)\">\r\n       <use xlink:href=\"#DejaVuSans-49\"/>\r\n       <use x=\"63.623047\" xlink:href=\"#DejaVuSans-48\"/>\r\n       <use x=\"127.246094\" xlink:href=\"#DejaVuSans-48\"/>\r\n      </g>\r\n     </g>\r\n    </g>\r\n    <g id=\"ytick_3\">\r\n     <g id=\"line2d_17\">\r\n      <path clip-path=\"url(#p76c4510826)\" d=\"M 48.90125 207.853506 \r\nL 551.10125 207.853506 \r\n\" style=\"fill:none;stroke:#ffffff;stroke-linecap:square;stroke-width:0.8;\"/>\r\n     </g>\r\n     <g id=\"line2d_18\">\r\n      <g>\r\n       <use style=\"fill:#555555;stroke:#555555;stroke-width:0.8;\" x=\"48.90125\" xlink:href=\"#mf5502dcf68\" y=\"207.853506\"/>\r\n      </g>\r\n     </g>\r\n     <g id=\"text_9\">\r\n      <!-- 200 -->\r\n      <g style=\"fill:#555555;\" transform=\"translate(22.81375 211.652725)scale(0.1 -0.1)\">\r\n       <use xlink:href=\"#DejaVuSans-50\"/>\r\n       <use x=\"63.623047\" xlink:href=\"#DejaVuSans-48\"/>\r\n       <use x=\"127.246094\" xlink:href=\"#DejaVuSans-48\"/>\r\n      </g>\r\n     </g>\r\n    </g>\r\n    <g id=\"ytick_4\">\r\n     <g id=\"line2d_19\">\r\n      <path clip-path=\"url(#p76c4510826)\" d=\"M 48.90125 145.10026 \r\nL 551.10125 145.10026 \r\n\" style=\"fill:none;stroke:#ffffff;stroke-linecap:square;stroke-width:0.8;\"/>\r\n     </g>\r\n     <g id=\"line2d_20\">\r\n      <g>\r\n       <use style=\"fill:#555555;stroke:#555555;stroke-width:0.8;\" x=\"48.90125\" xlink:href=\"#mf5502dcf68\" y=\"145.10026\"/>\r\n      </g>\r\n     </g>\r\n     <g id=\"text_10\">\r\n      <!-- 300 -->\r\n      <g style=\"fill:#555555;\" transform=\"translate(22.81375 148.899478)scale(0.1 -0.1)\">\r\n       <defs>\r\n        <path d=\"M 40.578125 39.3125 \r\nQ 47.65625 37.796875 51.625 33 \r\nQ 55.609375 28.21875 55.609375 21.1875 \r\nQ 55.609375 10.40625 48.1875 4.484375 \r\nQ 40.765625 -1.421875 27.09375 -1.421875 \r\nQ 22.515625 -1.421875 17.65625 -0.515625 \r\nQ 12.796875 0.390625 7.625 2.203125 \r\nL 7.625 11.71875 \r\nQ 11.71875 9.328125 16.59375 8.109375 \r\nQ 21.484375 6.890625 26.8125 6.890625 \r\nQ 36.078125 6.890625 40.9375 10.546875 \r\nQ 45.796875 14.203125 45.796875 21.1875 \r\nQ 45.796875 27.640625 41.28125 31.265625 \r\nQ 36.765625 34.90625 28.71875 34.90625 \r\nL 20.21875 34.90625 \r\nL 20.21875 43.015625 \r\nL 29.109375 43.015625 \r\nQ 36.375 43.015625 40.234375 45.921875 \r\nQ 44.09375 48.828125 44.09375 54.296875 \r\nQ 44.09375 59.90625 40.109375 62.90625 \r\nQ 36.140625 65.921875 28.71875 65.921875 \r\nQ 24.65625 65.921875 20.015625 65.03125 \r\nQ 15.375 64.15625 9.8125 62.3125 \r\nL 9.8125 71.09375 \r\nQ 15.4375 72.65625 20.34375 73.4375 \r\nQ 25.25 74.21875 29.59375 74.21875 \r\nQ 40.828125 74.21875 47.359375 69.109375 \r\nQ 53.90625 64.015625 53.90625 55.328125 \r\nQ 53.90625 49.265625 50.4375 45.09375 \r\nQ 46.96875 40.921875 40.578125 39.3125 \r\nz\r\n\" id=\"DejaVuSans-51\"/>\r\n       </defs>\r\n       <use xlink:href=\"#DejaVuSans-51\"/>\r\n       <use x=\"63.623047\" xlink:href=\"#DejaVuSans-48\"/>\r\n       <use x=\"127.246094\" xlink:href=\"#DejaVuSans-48\"/>\r\n      </g>\r\n     </g>\r\n    </g>\r\n    <g id=\"ytick_5\">\r\n     <g id=\"line2d_21\">\r\n      <path clip-path=\"url(#p76c4510826)\" d=\"M 48.90125 82.347013 \r\nL 551.10125 82.347013 \r\n\" style=\"fill:none;stroke:#ffffff;stroke-linecap:square;stroke-width:0.8;\"/>\r\n     </g>\r\n     <g id=\"line2d_22\">\r\n      <g>\r\n       <use style=\"fill:#555555;stroke:#555555;stroke-width:0.8;\" x=\"48.90125\" xlink:href=\"#mf5502dcf68\" y=\"82.347013\"/>\r\n      </g>\r\n     </g>\r\n     <g id=\"text_11\">\r\n      <!-- 400 -->\r\n      <g style=\"fill:#555555;\" transform=\"translate(22.81375 86.146232)scale(0.1 -0.1)\">\r\n       <use xlink:href=\"#DejaVuSans-52\"/>\r\n       <use x=\"63.623047\" xlink:href=\"#DejaVuSans-48\"/>\r\n       <use x=\"127.246094\" xlink:href=\"#DejaVuSans-48\"/>\r\n      </g>\r\n     </g>\r\n    </g>\r\n    <g id=\"ytick_6\">\r\n     <g id=\"line2d_23\">\r\n      <path clip-path=\"url(#p76c4510826)\" d=\"M 48.90125 19.593766 \r\nL 551.10125 19.593766 \r\n\" style=\"fill:none;stroke:#ffffff;stroke-linecap:square;stroke-width:0.8;\"/>\r\n     </g>\r\n     <g id=\"line2d_24\">\r\n      <g>\r\n       <use style=\"fill:#555555;stroke:#555555;stroke-width:0.8;\" x=\"48.90125\" xlink:href=\"#mf5502dcf68\" y=\"19.593766\"/>\r\n      </g>\r\n     </g>\r\n     <g id=\"text_12\">\r\n      <!-- 500 -->\r\n      <g style=\"fill:#555555;\" transform=\"translate(22.81375 23.392985)scale(0.1 -0.1)\">\r\n       <defs>\r\n        <path d=\"M 10.796875 72.90625 \r\nL 49.515625 72.90625 \r\nL 49.515625 64.59375 \r\nL 19.828125 64.59375 \r\nL 19.828125 46.734375 \r\nQ 21.96875 47.46875 24.109375 47.828125 \r\nQ 26.265625 48.1875 28.421875 48.1875 \r\nQ 40.625 48.1875 47.75 41.5 \r\nQ 54.890625 34.8125 54.890625 23.390625 \r\nQ 54.890625 11.625 47.5625 5.09375 \r\nQ 40.234375 -1.421875 26.90625 -1.421875 \r\nQ 22.3125 -1.421875 17.546875 -0.640625 \r\nQ 12.796875 0.140625 7.71875 1.703125 \r\nL 7.71875 11.625 \r\nQ 12.109375 9.234375 16.796875 8.0625 \r\nQ 21.484375 6.890625 26.703125 6.890625 \r\nQ 35.15625 6.890625 40.078125 11.328125 \r\nQ 45.015625 15.765625 45.015625 23.390625 \r\nQ 45.015625 31 40.078125 35.4375 \r\nQ 35.15625 39.890625 26.703125 39.890625 \r\nQ 22.75 39.890625 18.8125 39.015625 \r\nQ 14.890625 38.140625 10.796875 36.28125 \r\nz\r\n\" id=\"DejaVuSans-53\"/>\r\n       </defs>\r\n       <use xlink:href=\"#DejaVuSans-53\"/>\r\n       <use x=\"63.623047\" xlink:href=\"#DejaVuSans-48\"/>\r\n       <use x=\"127.246094\" xlink:href=\"#DejaVuSans-48\"/>\r\n      </g>\r\n     </g>\r\n    </g>\r\n    <g id=\"text_13\">\r\n     <!-- Count -->\r\n     <g style=\"fill:#555555;\" transform=\"translate(16.318125 188.098125)rotate(-90)scale(0.12 -0.12)\">\r\n      <defs>\r\n       <path d=\"M 64.40625 67.28125 \r\nL 64.40625 56.890625 \r\nQ 59.421875 61.53125 53.78125 63.8125 \r\nQ 48.140625 66.109375 41.796875 66.109375 \r\nQ 29.296875 66.109375 22.65625 58.46875 \r\nQ 16.015625 50.828125 16.015625 36.375 \r\nQ 16.015625 21.96875 22.65625 14.328125 \r\nQ 29.296875 6.6875 41.796875 6.6875 \r\nQ 48.140625 6.6875 53.78125 8.984375 \r\nQ 59.421875 11.28125 64.40625 15.921875 \r\nL 64.40625 5.609375 \r\nQ 59.234375 2.09375 53.4375 0.328125 \r\nQ 47.65625 -1.421875 41.21875 -1.421875 \r\nQ 24.65625 -1.421875 15.125 8.703125 \r\nQ 5.609375 18.84375 5.609375 36.375 \r\nQ 5.609375 53.953125 15.125 64.078125 \r\nQ 24.65625 74.21875 41.21875 74.21875 \r\nQ 47.75 74.21875 53.53125 72.484375 \r\nQ 59.328125 70.75 64.40625 67.28125 \r\nz\r\n\" id=\"DejaVuSans-67\"/>\r\n       <path d=\"M 30.609375 48.390625 \r\nQ 23.390625 48.390625 19.1875 42.75 \r\nQ 14.984375 37.109375 14.984375 27.296875 \r\nQ 14.984375 17.484375 19.15625 11.84375 \r\nQ 23.34375 6.203125 30.609375 6.203125 \r\nQ 37.796875 6.203125 41.984375 11.859375 \r\nQ 46.1875 17.53125 46.1875 27.296875 \r\nQ 46.1875 37.015625 41.984375 42.703125 \r\nQ 37.796875 48.390625 30.609375 48.390625 \r\nz\r\nM 30.609375 56 \r\nQ 42.328125 56 49.015625 48.375 \r\nQ 55.71875 40.765625 55.71875 27.296875 \r\nQ 55.71875 13.875 49.015625 6.21875 \r\nQ 42.328125 -1.421875 30.609375 -1.421875 \r\nQ 18.84375 -1.421875 12.171875 6.21875 \r\nQ 5.515625 13.875 5.515625 27.296875 \r\nQ 5.515625 40.765625 12.171875 48.375 \r\nQ 18.84375 56 30.609375 56 \r\nz\r\n\" id=\"DejaVuSans-111\"/>\r\n       <path d=\"M 8.5 21.578125 \r\nL 8.5 54.6875 \r\nL 17.484375 54.6875 \r\nL 17.484375 21.921875 \r\nQ 17.484375 14.15625 20.5 10.265625 \r\nQ 23.53125 6.390625 29.59375 6.390625 \r\nQ 36.859375 6.390625 41.078125 11.03125 \r\nQ 45.3125 15.671875 45.3125 23.6875 \r\nL 45.3125 54.6875 \r\nL 54.296875 54.6875 \r\nL 54.296875 0 \r\nL 45.3125 0 \r\nL 45.3125 8.40625 \r\nQ 42.046875 3.421875 37.71875 1 \r\nQ 33.40625 -1.421875 27.6875 -1.421875 \r\nQ 18.265625 -1.421875 13.375 4.4375 \r\nQ 8.5 10.296875 8.5 21.578125 \r\nz\r\nM 31.109375 56 \r\nz\r\n\" id=\"DejaVuSans-117\"/>\r\n       <path d=\"M 54.890625 33.015625 \r\nL 54.890625 0 \r\nL 45.90625 0 \r\nL 45.90625 32.71875 \r\nQ 45.90625 40.484375 42.875 44.328125 \r\nQ 39.84375 48.1875 33.796875 48.1875 \r\nQ 26.515625 48.1875 22.3125 43.546875 \r\nQ 18.109375 38.921875 18.109375 30.90625 \r\nL 18.109375 0 \r\nL 9.078125 0 \r\nL 9.078125 54.6875 \r\nL 18.109375 54.6875 \r\nL 18.109375 46.1875 \r\nQ 21.34375 51.125 25.703125 53.5625 \r\nQ 30.078125 56 35.796875 56 \r\nQ 45.21875 56 50.046875 50.171875 \r\nQ 54.890625 44.34375 54.890625 33.015625 \r\nz\r\n\" id=\"DejaVuSans-110\"/>\r\n       <path d=\"M 18.3125 70.21875 \r\nL 18.3125 54.6875 \r\nL 36.8125 54.6875 \r\nL 36.8125 47.703125 \r\nL 18.3125 47.703125 \r\nL 18.3125 18.015625 \r\nQ 18.3125 11.328125 20.140625 9.421875 \r\nQ 21.96875 7.515625 27.59375 7.515625 \r\nL 36.8125 7.515625 \r\nL 36.8125 0 \r\nL 27.59375 0 \r\nQ 17.1875 0 13.234375 3.875 \r\nQ 9.28125 7.765625 9.28125 18.015625 \r\nL 9.28125 47.703125 \r\nL 2.6875 47.703125 \r\nL 2.6875 54.6875 \r\nL 9.28125 54.6875 \r\nL 9.28125 70.21875 \r\nz\r\n\" id=\"DejaVuSans-116\"/>\r\n      </defs>\r\n      <use xlink:href=\"#DejaVuSans-67\"/>\r\n      <use x=\"69.824219\" xlink:href=\"#DejaVuSans-111\"/>\r\n      <use x=\"131.005859\" xlink:href=\"#DejaVuSans-117\"/>\r\n      <use x=\"194.384766\" xlink:href=\"#DejaVuSans-110\"/>\r\n      <use x=\"257.763672\" xlink:href=\"#DejaVuSans-116\"/>\r\n     </g>\r\n    </g>\r\n   </g>\r\n   <g id=\"patch_3\">\r\n    <path clip-path=\"url(#p76c4510826)\" d=\"M 71.728523 333.36 \r\nL 92.480589 333.36 \r\nL 92.480589 34.654545 \r\nL 71.728523 34.654545 \r\nz\r\n\" style=\"fill:#adb5bd;fill-opacity:0.75;stroke:#eeeeee;stroke-linejoin:miter;stroke-width:0.5;\"/>\r\n   </g>\r\n   <g id=\"patch_4\">\r\n    <path clip-path=\"url(#p76c4510826)\" d=\"M 92.480589 333.36 \r\nL 113.232655 333.36 \r\nL 113.232655 44.067532 \r\nL 92.480589 44.067532 \r\nz\r\n\" style=\"fill:#adb5bd;fill-opacity:0.75;stroke:#eeeeee;stroke-linejoin:miter;stroke-width:0.5;\"/>\r\n   </g>\r\n   <g id=\"patch_5\">\r\n    <path clip-path=\"url(#p76c4510826)\" d=\"M 113.232655 333.36 \r\nL 133.984721 333.36 \r\nL 133.984721 35.282078 \r\nL 113.232655 35.282078 \r\nz\r\n\" style=\"fill:#adb5bd;fill-opacity:0.75;stroke:#eeeeee;stroke-linejoin:miter;stroke-width:0.5;\"/>\r\n   </g>\r\n   <g id=\"patch_6\">\r\n    <path clip-path=\"url(#p76c4510826)\" d=\"M 133.984721 333.36 \r\nL 154.736787 333.36 \r\nL 154.736787 56.618182 \r\nL 133.984721 56.618182 \r\nz\r\n\" style=\"fill:#adb5bd;fill-opacity:0.75;stroke:#eeeeee;stroke-linejoin:miter;stroke-width:0.5;\"/>\r\n   </g>\r\n   <g id=\"patch_7\">\r\n    <path clip-path=\"url(#p76c4510826)\" d=\"M 154.736787 333.36 \r\nL 175.488853 333.36 \r\nL 175.488853 71.678961 \r\nL 154.736787 71.678961 \r\nz\r\n\" style=\"fill:#adb5bd;fill-opacity:0.75;stroke:#eeeeee;stroke-linejoin:miter;stroke-width:0.5;\"/>\r\n   </g>\r\n   <g id=\"patch_8\">\r\n    <path clip-path=\"url(#p76c4510826)\" d=\"M 175.488853 333.36 \r\nL 196.240919 333.36 \r\nL 196.240919 55.990649 \r\nL 175.488853 55.990649 \r\nz\r\n\" style=\"fill:#adb5bd;fill-opacity:0.75;stroke:#eeeeee;stroke-linejoin:miter;stroke-width:0.5;\"/>\r\n   </g>\r\n   <g id=\"patch_9\">\r\n    <path clip-path=\"url(#p76c4510826)\" d=\"M 196.240919 333.36 \r\nL 216.992986 333.36 \r\nL 216.992986 54.108052 \r\nL 196.240919 54.108052 \r\nz\r\n\" style=\"fill:#adb5bd;fill-opacity:0.75;stroke:#eeeeee;stroke-linejoin:miter;stroke-width:0.5;\"/>\r\n   </g>\r\n   <g id=\"patch_10\">\r\n    <path clip-path=\"url(#p76c4510826)\" d=\"M 216.992986 333.36 \r\nL 237.745052 333.36 \r\nL 237.745052 52.225455 \r\nL 216.992986 52.225455 \r\nz\r\n\" style=\"fill:#adb5bd;fill-opacity:0.75;stroke:#eeeeee;stroke-linejoin:miter;stroke-width:0.5;\"/>\r\n   </g>\r\n   <g id=\"patch_11\">\r\n    <path clip-path=\"url(#p76c4510826)\" d=\"M 237.745052 333.36 \r\nL 258.497118 333.36 \r\nL 258.497118 51.597922 \r\nL 237.745052 51.597922 \r\nz\r\n\" style=\"fill:#adb5bd;fill-opacity:0.75;stroke:#eeeeee;stroke-linejoin:miter;stroke-width:0.5;\"/>\r\n   </g>\r\n   <g id=\"patch_12\">\r\n    <path clip-path=\"url(#p76c4510826)\" d=\"M 258.497118 333.36 \r\nL 279.249184 333.36 \r\nL 279.249184 50.342857 \r\nL 258.497118 50.342857 \r\nz\r\n\" style=\"fill:#adb5bd;fill-opacity:0.75;stroke:#eeeeee;stroke-linejoin:miter;stroke-width:0.5;\"/>\r\n   </g>\r\n   <g id=\"patch_13\">\r\n    <path clip-path=\"url(#p76c4510826)\" d=\"M 279.249184 333.36 \r\nL 300.00125 333.36 \r\nL 300.00125 22.731429 \r\nL 279.249184 22.731429 \r\nz\r\n\" style=\"fill:#adb5bd;fill-opacity:0.75;stroke:#eeeeee;stroke-linejoin:miter;stroke-width:0.5;\"/>\r\n   </g>\r\n   <g id=\"patch_14\">\r\n    <path clip-path=\"url(#p76c4510826)\" d=\"M 300.00125 333.36 \r\nL 320.753316 333.36 \r\nL 320.753316 42.812468 \r\nL 300.00125 42.812468 \r\nz\r\n\" style=\"fill:#adb5bd;fill-opacity:0.75;stroke:#eeeeee;stroke-linejoin:miter;stroke-width:0.5;\"/>\r\n   </g>\r\n   <g id=\"patch_15\">\r\n    <path clip-path=\"url(#p76c4510826)\" d=\"M 320.753316 333.36 \r\nL 341.505382 333.36 \r\nL 341.505382 39.674805 \r\nL 320.753316 39.674805 \r\nz\r\n\" style=\"fill:#adb5bd;fill-opacity:0.75;stroke:#eeeeee;stroke-linejoin:miter;stroke-width:0.5;\"/>\r\n   </g>\r\n   <g id=\"patch_16\">\r\n    <path clip-path=\"url(#p76c4510826)\" d=\"M 341.505382 333.36 \r\nL 362.257448 333.36 \r\nL 362.257448 44.695065 \r\nL 341.505382 44.695065 \r\nz\r\n\" style=\"fill:#adb5bd;fill-opacity:0.75;stroke:#eeeeee;stroke-linejoin:miter;stroke-width:0.5;\"/>\r\n   </g>\r\n   <g id=\"patch_17\">\r\n    <path clip-path=\"url(#p76c4510826)\" d=\"M 362.257448 333.36 \r\nL 383.009514 333.36 \r\nL 383.009514 54.735584 \r\nL 362.257448 54.735584 \r\nz\r\n\" style=\"fill:#adb5bd;fill-opacity:0.75;stroke:#eeeeee;stroke-linejoin:miter;stroke-width:0.5;\"/>\r\n   </g>\r\n   <g id=\"patch_18\">\r\n    <path clip-path=\"url(#p76c4510826)\" d=\"M 383.009514 333.36 \r\nL 403.761581 333.36 \r\nL 403.761581 60.383377 \r\nL 383.009514 60.383377 \r\nz\r\n\" style=\"fill:#adb5bd;fill-opacity:0.75;stroke:#eeeeee;stroke-linejoin:miter;stroke-width:0.5;\"/>\r\n   </g>\r\n   <g id=\"patch_19\">\r\n    <path clip-path=\"url(#p76c4510826)\" d=\"M 403.761581 333.36 \r\nL 424.513647 333.36 \r\nL 424.513647 53.480519 \r\nL 403.761581 53.480519 \r\nz\r\n\" style=\"fill:#adb5bd;fill-opacity:0.75;stroke:#eeeeee;stroke-linejoin:miter;stroke-width:0.5;\"/>\r\n   </g>\r\n   <g id=\"patch_20\">\r\n    <path clip-path=\"url(#p76c4510826)\" d=\"M 424.513647 333.36 \r\nL 445.265713 333.36 \r\nL 445.265713 35.90961 \r\nL 424.513647 35.90961 \r\nz\r\n\" style=\"fill:#adb5bd;fill-opacity:0.75;stroke:#eeeeee;stroke-linejoin:miter;stroke-width:0.5;\"/>\r\n   </g>\r\n   <g id=\"patch_21\">\r\n    <path clip-path=\"url(#p76c4510826)\" d=\"M 445.265713 333.36 \r\nL 466.017779 333.36 \r\nL 466.017779 47.832727 \r\nL 445.265713 47.832727 \r\nz\r\n\" style=\"fill:#adb5bd;fill-opacity:0.75;stroke:#eeeeee;stroke-linejoin:miter;stroke-width:0.5;\"/>\r\n   </g>\r\n   <g id=\"patch_22\">\r\n    <path clip-path=\"url(#p76c4510826)\" d=\"M 466.017779 333.36 \r\nL 486.769845 333.36 \r\nL 486.769845 47.205195 \r\nL 466.017779 47.205195 \r\nz\r\n\" style=\"fill:#adb5bd;fill-opacity:0.75;stroke:#eeeeee;stroke-linejoin:miter;stroke-width:0.5;\"/>\r\n   </g>\r\n   <g id=\"patch_23\">\r\n    <path clip-path=\"url(#p76c4510826)\" d=\"M 486.769845 333.36 \r\nL 507.521911 333.36 \r\nL 507.521911 54.735584 \r\nL 486.769845 54.735584 \r\nz\r\n\" style=\"fill:#adb5bd;fill-opacity:0.75;stroke:#eeeeee;stroke-linejoin:miter;stroke-width:0.5;\"/>\r\n   </g>\r\n   <g id=\"patch_24\">\r\n    <path clip-path=\"url(#p76c4510826)\" d=\"M 507.521911 333.36 \r\nL 528.273977 333.36 \r\nL 528.273977 47.832727 \r\nL 507.521911 47.832727 \r\nz\r\n\" style=\"fill:#adb5bd;fill-opacity:0.75;stroke:#eeeeee;stroke-linejoin:miter;stroke-width:0.5;\"/>\r\n   </g>\r\n   <g id=\"patch_25\">\r\n    <path d=\"M 48.90125 333.36 \r\nL 48.90125 7.2 \r\n\" style=\"fill:none;stroke:#ffffff;stroke-linecap:square;stroke-linejoin:miter;\"/>\r\n   </g>\r\n   <g id=\"patch_26\">\r\n    <path d=\"M 551.10125 333.36 \r\nL 551.10125 7.2 \r\n\" style=\"fill:none;stroke:#ffffff;stroke-linecap:square;stroke-linejoin:miter;\"/>\r\n   </g>\r\n   <g id=\"patch_27\">\r\n    <path d=\"M 48.90125 333.36 \r\nL 551.10125 333.36 \r\n\" style=\"fill:none;stroke:#ffffff;stroke-linecap:square;stroke-linejoin:miter;\"/>\r\n   </g>\r\n   <g id=\"patch_28\">\r\n    <path d=\"M 48.90125 7.2 \r\nL 551.10125 7.2 \r\n\" style=\"fill:none;stroke:#ffffff;stroke-linecap:square;stroke-linejoin:miter;\"/>\r\n   </g>\r\n  </g>\r\n </g>\r\n <defs>\r\n  <clipPath id=\"p76c4510826\">\r\n   <rect height=\"326.16\" width=\"502.2\" x=\"48.90125\" y=\"7.2\"/>\r\n  </clipPath>\r\n </defs>\r\n</svg>\r\n",
      "image/png": "[encoded data removed]"
     },
     "metadata": {}
    }
   ],
   "source": [
    "# Generates histogram of 10k randomly generated floats from [0, 1) \n",
    "x = rng.random(10000)\n",
    "sns.histplot(x, color='#ADB5BD');"
   ]
  },
  {
   "source": [
    "### Generating Random Sample"
   ],
   "cell_type": "markdown",
   "metadata": {}
  },
  {
   "cell_type": "code",
   "execution_count": 283,
   "metadata": {},
   "outputs": [
    {
     "output_type": "execute_result",
     "data": {
      "text/plain": [
       "2"
      ]
     },
     "metadata": {},
     "execution_count": 283
    }
   ],
   "source": [
    "# rng.choice(a, size=None, replace=True, p=None, axis=0)\n",
    "# Generates a random sample from range from 0 to 9\n",
    "rng.choice(10)"
   ]
  },
  {
   "cell_type": "code",
   "execution_count": 352,
   "metadata": {},
   "outputs": [
    {
     "output_type": "execute_result",
     "data": {
      "text/plain": [
       "array([1, 8, 4, 6, 6, 9, 9, 0, 8, 5])"
      ]
     },
     "metadata": {},
     "execution_count": 352
    }
   ],
   "source": [
    "# Generates an array of random samples from a given array\n",
    "rng.choice(np.arange(10), size=10 )"
   ]
  },
  {
   "cell_type": "code",
   "execution_count": 323,
   "metadata": {},
   "outputs": [
    {
     "output_type": "execute_result",
     "data": {
      "text/plain": [
       "[array([[7, 3, 4],\n",
       "        [9, 7, 6],\n",
       "        [0, 4, 4]])]"
      ]
     },
     "metadata": {},
     "execution_count": 323
    }
   ],
   "source": [
    "# Generates a 3 by 3 matrix with values from the given array.\n",
    "# replace is set to True by default - the values can be repated\n",
    "[rng.choice(np.arange(10), size=(3,3))]\n"
   ]
  },
  {
   "cell_type": "code",
   "execution_count": 333,
   "metadata": {},
   "outputs": [
    {
     "output_type": "execute_result",
     "data": {
      "text/plain": [
       "array([[2, 8, 1],\n",
       "       [0, 5, 7],\n",
       "       [9, 3, 6]])"
      ]
     },
     "metadata": {},
     "execution_count": 333
    }
   ],
   "source": [
    "# Generates a 3 by 3 matrix with values from the given array with replace set to False that there is no replacement \n",
    "rng.choice(np.arange(4), size=(3,3), replace=False)"
   ]
  },
  {
   "cell_type": "code",
   "execution_count": 350,
   "metadata": {},
   "outputs": [
    {
     "output_type": "execute_result",
     "data": {
      "text/plain": [
       "array([[0, 0, 1, 0, 0],\n",
       "       [0, 2, 0, 1, 3],\n",
       "       [1, 2, 0, 0, 0],\n",
       "       [2, 0, 0, 3, 1],\n",
       "       [1, 1, 0, 2, 0]])"
      ]
     },
     "metadata": {},
     "execution_count": 350
    }
   ],
   "source": [
    "# The values of p are the individual probablities of the given array. \n",
    "rng.choice(np.arange(4), size=(5,5), p=[0.5,0.3,0.15,0.05])"
   ]
  },
  {
   "source": [
    "### Generating Random Bytes"
   ],
   "cell_type": "markdown",
   "metadata": {}
  },
  {
   "cell_type": "code",
   "execution_count": 356,
   "metadata": {},
   "outputs": [
    {
     "output_type": "execute_result",
     "data": {
      "text/plain": [
       "b'\\xca\\t\\xfa\\xd0\\xfe\\xa2\\x94\\x88D\\x93'"
      ]
     },
     "metadata": {},
     "execution_count": 356
    }
   ],
   "source": [
    "# Generates random 10 bytes\n",
    "rng.bytes(10)"
   ]
  },
  {
   "source": [
    "## 4. Permutations\n",
    "\n",
    "Permutation refers to the process of rearrangement the linear order or a sequence of an ordered set.\n",
    "\n",
    "- **Shuffle** *return modified sequence by shuffling its content *\n",
    "- **Permutations** *return permuted range or randomly permute a sequence*"
   ],
   "cell_type": "markdown",
   "metadata": {}
  },
  {
   "source": [
    "### Shuffle"
   ],
   "cell_type": "markdown",
   "metadata": {}
  },
  {
   "cell_type": "code",
   "execution_count": 4,
   "metadata": {},
   "outputs": [
    {
     "output_type": "execute_result",
     "data": {
      "text/plain": [
       "array([3, 1, 9, 5, 7, 2, 6, 4, 8, 0])"
      ]
     },
     "metadata": {},
     "execution_count": 4
    }
   ],
   "source": [
    "# np.array generates an array of numbers from 0 to 9\n",
    "x = np.arange(10)\n",
    "# shuffles randomly elements of an array in place\n",
    "rng.shuffle(x)\n",
    "# display \n",
    "x"
   ]
  },
  {
   "cell_type": "code",
   "execution_count": 20,
   "metadata": {},
   "outputs": [
    {
     "output_type": "execute_result",
     "data": {
      "text/plain": [
       "array([[7, 8, 9],\n",
       "       [4, 5, 6],\n",
       "       [1, 2, 3]])"
      ]
     },
     "metadata": {},
     "execution_count": 20
    }
   ],
   "source": [
    "# creates multi-dimensional 3 by 3 an array and shufle it\n",
    "# worth notice that contents of sub-arrays remain the same\n",
    "x = np.arange(1,10).reshape(3,3)\n",
    "rng.shuffle(x)\n",
    "x "
   ]
  },
  {
   "source": [
    "### Permutation"
   ],
   "cell_type": "markdown",
   "metadata": {}
  },
  {
   "cell_type": "code",
   "execution_count": 17,
   "metadata": {},
   "outputs": [
    {
     "output_type": "execute_result",
     "data": {
      "text/plain": [
       "array([5, 9, 0, 1, 6, 2, 3, 8, 4, 7])"
      ]
     },
     "metadata": {},
     "execution_count": 17
    }
   ],
   "source": [
    "# generates an array of randomly permuted range from 0 to 9\n",
    "rng.permutation(10)"
   ]
  },
  {
   "cell_type": "code",
   "execution_count": 28,
   "metadata": {},
   "outputs": [
    {
     "output_type": "execute_result",
     "data": {
      "text/plain": [
       "array([[7, 8, 9],\n",
       "       [1, 2, 3],\n",
       "       [4, 5, 6]])"
      ]
     },
     "metadata": {},
     "execution_count": 28
    }
   ],
   "source": [
    "# creates multi-dimensional 3 by 3 an array \n",
    "x = np.arange(1,10).reshape((3,3))\n",
    "# returns permuted copy of an array shuffled along the x axis(rows)\n",
    "rng.permutation(x)"
   ]
  },
  {
   "cell_type": "code",
   "execution_count": 30,
   "metadata": {},
   "outputs": [
    {
     "output_type": "execute_result",
     "data": {
      "text/plain": [
       "array([[2, 3, 1],\n",
       "       [5, 6, 4],\n",
       "       [8, 9, 7]])"
      ]
     },
     "metadata": {},
     "execution_count": 30
    }
   ],
   "source": [
    "# returns permuted copy of an array shuffled along the y axis(columns)\n",
    "rng.permutation(x, axis=1)"
   ]
  },
  {
   "source": [
    "## 5. Distributions\n",
    "\n",
    "A probability distribution is a statistical function that describes the likelihood of obtaining all the possible values within given range. Where range sets boundaries of the minimum and maximum possible values. In other words, the values of the variable vary based on the underlying probability distribution.\n",
    "\n",
    "- **Normal** *Draw random samples from a normal (Gaussian) distribution.*\n",
    "- **Uniform** *Draw random samples from a uniform distribution.*\n"
   ],
   "cell_type": "markdown",
   "metadata": {}
  },
  {
   "source": [
    "### Normal distribution\n",
    "\n",
    "Also known as the Gaussian distribution is a probability funtion that describes how the values of a variable are distributed. It is a symmetric distribution where most of observations values congregate around the mean, showing that values near the mean are more frequent in occurrence than values far from the mean. In graph form, normal distribution takes shape of a bell curve and often occurs naturally within statistics such as heights, blood pressure, measurement error, and IQ scores.\n",
    "\n",
    "$$ P(x) = {\\frac{1}{\\sigma\\sqrt{2\\pi}}}e^{{- \\left( {x - \\mu } \\right)^2 }/{2{\\sigma}^2} }$$\n",
    "\n",
    "#### Empirical Rule\n",
    "\n",
    "It is statistical rule also known as the three-sigma rule or 68-95-99.7 rule which states that that almost all observed data will lie within a band of three standard deviations of the mean in a normal distribution. "
   ],
   "cell_type": "markdown",
   "metadata": {}
  },
  {
   "cell_type": "code",
   "execution_count": 181,
   "metadata": {},
   "outputs": [
    {
     "output_type": "stream",
     "name": "stdout",
     "text": [
      "The mean of distribution is 0.00350 and standard diviation is 0.49962\n\n"
     ]
    },
    {
     "output_type": "display_data",
     "data": {
      "text/plain": "<Figure size 648x432 with 1 Axes>",
      "image/svg+xml": "<?xml version=\"1.0\" encoding=\"utf-8\" standalone=\"no\"?>\r\n<!DOCTYPE svg PUBLIC \"-//W3C//DTD SVG 1.1//EN\"\r\n  \"http://www.w3.org/Graphics/SVG/1.1/DTD/svg11.dtd\">\r\n<!-- Created with matplotlib (https://matplotlib.org/) -->\r\n<svg height=\"357.238125pt\" version=\"1.1\" viewBox=\"0 0 555.116875 357.238125\" width=\"555.116875pt\" xmlns=\"http://www.w3.org/2000/svg\" xmlns:xlink=\"http://www.w3.org/1999/xlink\">\r\n <metadata>\r\n  <rdf:RDF xmlns:cc=\"http://creativecommons.org/ns#\" xmlns:dc=\"http://purl.org/dc/elements/1.1/\" xmlns:rdf=\"http://www.w3.org/1999/02/22-rdf-syntax-ns#\">\r\n   <cc:Work>\r\n    <dc:type rdf:resource=\"http://purl.org/dc/dcmitype/StillImage\"/>\r\n    <dc:date>2020-11-13T14:47:26.028845</dc:date>\r\n    <dc:format>image/svg+xml</dc:format>\r\n    <dc:creator>\r\n     <cc:Agent>\r\n      <dc:title>Matplotlib v3.3.2, https://matplotlib.org/</dc:title>\r\n     </cc:Agent>\r\n    </dc:creator>\r\n   </cc:Work>\r\n  </rdf:RDF>\r\n </metadata>\r\n <defs>\r\n  <style type=\"text/css\">*{stroke-linecap:butt;stroke-linejoin:round;}</style>\r\n </defs>\r\n <g id=\"figure_1\">\r\n  <g id=\"patch_1\">\r\n   <path d=\"M 0 357.238125 \r\nL 555.116875 357.238125 \r\nL 555.116875 0 \r\nL 0 0 \r\nz\r\n\" style=\"fill:#ffffff;\"/>\r\n  </g>\r\n  <g id=\"axes_1\">\r\n   <g id=\"patch_2\">\r\n    <path d=\"M 45.716875 333.36 \r\nL 547.916875 333.36 \r\nL 547.916875 7.2 \r\nL 45.716875 7.2 \r\nz\r\n\" style=\"fill:#e5e5e5;\"/>\r\n   </g>\r\n   <g id=\"matplotlib.axis_1\">\r\n    <g id=\"xtick_1\">\r\n     <g id=\"line2d_1\">\r\n      <path clip-path=\"url(#p5fe97f7471)\" d=\"M 113.641232 333.36 \r\nL 113.641232 7.2 \r\n\" style=\"fill:none;stroke:#ffffff;stroke-linecap:square;stroke-width:0.8;\"/>\r\n     </g>\r\n     <g id=\"line2d_2\">\r\n      <defs>\r\n       <path d=\"M 0 0 \r\nL 0 3.5 \r\n\" id=\"m1b1073b4f6\" style=\"stroke:#555555;stroke-width:0.8;\"/>\r\n      </defs>\r\n      <g>\r\n       <use style=\"fill:#555555;stroke:#555555;stroke-width:0.8;\" x=\"113.641232\" xlink:href=\"#m1b1073b4f6\" y=\"333.36\"/>\r\n      </g>\r\n     </g>\r\n     <g id=\"text_1\">\r\n      <!-- −2 -->\r\n      <g style=\"fill:#555555;\" transform=\"translate(106.270138 347.958438)scale(0.1 -0.1)\">\r\n       <defs>\r\n        <path d=\"M 10.59375 35.5 \r\nL 73.1875 35.5 \r\nL 73.1875 27.203125 \r\nL 10.59375 27.203125 \r\nz\r\n\" id=\"DejaVuSans-8722\"/>\r\n        <path d=\"M 19.1875 8.296875 \r\nL 53.609375 8.296875 \r\nL 53.609375 0 \r\nL 7.328125 0 \r\nL 7.328125 8.296875 \r\nQ 12.9375 14.109375 22.625 23.890625 \r\nQ 32.328125 33.6875 34.8125 36.53125 \r\nQ 39.546875 41.84375 41.421875 45.53125 \r\nQ 43.3125 49.21875 43.3125 52.78125 \r\nQ 43.3125 58.59375 39.234375 62.25 \r\nQ 35.15625 65.921875 28.609375 65.921875 \r\nQ 23.96875 65.921875 18.8125 64.3125 \r\nQ 13.671875 62.703125 7.8125 59.421875 \r\nL 7.8125 69.390625 \r\nQ 13.765625 71.78125 18.9375 73 \r\nQ 24.125 74.21875 28.421875 74.21875 \r\nQ 39.75 74.21875 46.484375 68.546875 \r\nQ 53.21875 62.890625 53.21875 53.421875 \r\nQ 53.21875 48.921875 51.53125 44.890625 \r\nQ 49.859375 40.875 45.40625 35.40625 \r\nQ 44.1875 33.984375 37.640625 27.21875 \r\nQ 31.109375 20.453125 19.1875 8.296875 \r\nz\r\n\" id=\"DejaVuSans-50\"/>\r\n       </defs>\r\n       <use xlink:href=\"#DejaVuSans-8722\"/>\r\n       <use x=\"83.789062\" xlink:href=\"#DejaVuSans-50\"/>\r\n      </g>\r\n     </g>\r\n    </g>\r\n    <g id=\"xtick_2\">\r\n     <g id=\"line2d_3\">\r\n      <path clip-path=\"url(#p5fe97f7471)\" d=\"M 205.836323 333.36 \r\nL 205.836323 7.2 \r\n\" style=\"fill:none;stroke:#ffffff;stroke-linecap:square;stroke-width:0.8;\"/>\r\n     </g>\r\n     <g id=\"line2d_4\">\r\n      <g>\r\n       <use style=\"fill:#555555;stroke:#555555;stroke-width:0.8;\" x=\"205.836323\" xlink:href=\"#m1b1073b4f6\" y=\"333.36\"/>\r\n      </g>\r\n     </g>\r\n     <g id=\"text_2\">\r\n      <!-- −1 -->\r\n      <g style=\"fill:#555555;\" transform=\"translate(198.465229 347.958438)scale(0.1 -0.1)\">\r\n       <defs>\r\n        <path d=\"M 12.40625 8.296875 \r\nL 28.515625 8.296875 \r\nL 28.515625 63.921875 \r\nL 10.984375 60.40625 \r\nL 10.984375 69.390625 \r\nL 28.421875 72.90625 \r\nL 38.28125 72.90625 \r\nL 38.28125 8.296875 \r\nL 54.390625 8.296875 \r\nL 54.390625 0 \r\nL 12.40625 0 \r\nz\r\n\" id=\"DejaVuSans-49\"/>\r\n       </defs>\r\n       <use xlink:href=\"#DejaVuSans-8722\"/>\r\n       <use x=\"83.789062\" xlink:href=\"#DejaVuSans-49\"/>\r\n      </g>\r\n     </g>\r\n    </g>\r\n    <g id=\"xtick_3\">\r\n     <g id=\"line2d_5\">\r\n      <path clip-path=\"url(#p5fe97f7471)\" d=\"M 298.031413 333.36 \r\nL 298.031413 7.2 \r\n\" style=\"fill:none;stroke:#ffffff;stroke-linecap:square;stroke-width:0.8;\"/>\r\n     </g>\r\n     <g id=\"line2d_6\">\r\n      <g>\r\n       <use style=\"fill:#555555;stroke:#555555;stroke-width:0.8;\" x=\"298.031413\" xlink:href=\"#m1b1073b4f6\" y=\"333.36\"/>\r\n      </g>\r\n     </g>\r\n     <g id=\"text_3\">\r\n      <!-- 0 -->\r\n      <g style=\"fill:#555555;\" transform=\"translate(294.850163 347.958438)scale(0.1 -0.1)\">\r\n       <defs>\r\n        <path d=\"M 31.78125 66.40625 \r\nQ 24.171875 66.40625 20.328125 58.90625 \r\nQ 16.5 51.421875 16.5 36.375 \r\nQ 16.5 21.390625 20.328125 13.890625 \r\nQ 24.171875 6.390625 31.78125 6.390625 \r\nQ 39.453125 6.390625 43.28125 13.890625 \r\nQ 47.125 21.390625 47.125 36.375 \r\nQ 47.125 51.421875 43.28125 58.90625 \r\nQ 39.453125 66.40625 31.78125 66.40625 \r\nz\r\nM 31.78125 74.21875 \r\nQ 44.046875 74.21875 50.515625 64.515625 \r\nQ 56.984375 54.828125 56.984375 36.375 \r\nQ 56.984375 17.96875 50.515625 8.265625 \r\nQ 44.046875 -1.421875 31.78125 -1.421875 \r\nQ 19.53125 -1.421875 13.0625 8.265625 \r\nQ 6.59375 17.96875 6.59375 36.375 \r\nQ 6.59375 54.828125 13.0625 64.515625 \r\nQ 19.53125 74.21875 31.78125 74.21875 \r\nz\r\n\" id=\"DejaVuSans-48\"/>\r\n       </defs>\r\n       <use xlink:href=\"#DejaVuSans-48\"/>\r\n      </g>\r\n     </g>\r\n    </g>\r\n    <g id=\"xtick_4\">\r\n     <g id=\"line2d_7\">\r\n      <path clip-path=\"url(#p5fe97f7471)\" d=\"M 390.226504 333.36 \r\nL 390.226504 7.2 \r\n\" style=\"fill:none;stroke:#ffffff;stroke-linecap:square;stroke-width:0.8;\"/>\r\n     </g>\r\n     <g id=\"line2d_8\">\r\n      <g>\r\n       <use style=\"fill:#555555;stroke:#555555;stroke-width:0.8;\" x=\"390.226504\" xlink:href=\"#m1b1073b4f6\" y=\"333.36\"/>\r\n      </g>\r\n     </g>\r\n     <g id=\"text_4\">\r\n      <!-- 1 -->\r\n      <g style=\"fill:#555555;\" transform=\"translate(387.045254 347.958438)scale(0.1 -0.1)\">\r\n       <use xlink:href=\"#DejaVuSans-49\"/>\r\n      </g>\r\n     </g>\r\n    </g>\r\n    <g id=\"xtick_5\">\r\n     <g id=\"line2d_9\">\r\n      <path clip-path=\"url(#p5fe97f7471)\" d=\"M 482.421595 333.36 \r\nL 482.421595 7.2 \r\n\" style=\"fill:none;stroke:#ffffff;stroke-linecap:square;stroke-width:0.8;\"/>\r\n     </g>\r\n     <g id=\"line2d_10\">\r\n      <g>\r\n       <use style=\"fill:#555555;stroke:#555555;stroke-width:0.8;\" x=\"482.421595\" xlink:href=\"#m1b1073b4f6\" y=\"333.36\"/>\r\n      </g>\r\n     </g>\r\n     <g id=\"text_5\">\r\n      <!-- 2 -->\r\n      <g style=\"fill:#555555;\" transform=\"translate(479.240345 347.958438)scale(0.1 -0.1)\">\r\n       <use xlink:href=\"#DejaVuSans-50\"/>\r\n      </g>\r\n     </g>\r\n    </g>\r\n   </g>\r\n   <g id=\"matplotlib.axis_2\">\r\n    <g id=\"ytick_1\">\r\n     <g id=\"line2d_11\">\r\n      <path clip-path=\"url(#p5fe97f7471)\" d=\"M 45.716875 333.36 \r\nL 547.916875 333.36 \r\n\" style=\"fill:none;stroke:#ffffff;stroke-linecap:square;stroke-width:0.8;\"/>\r\n     </g>\r\n     <g id=\"line2d_12\">\r\n      <defs>\r\n       <path d=\"M 0 0 \r\nL -3.5 0 \r\n\" id=\"m13347da01f\" style=\"stroke:#555555;stroke-width:0.8;\"/>\r\n      </defs>\r\n      <g>\r\n       <use style=\"fill:#555555;stroke:#555555;stroke-width:0.8;\" x=\"45.716875\" xlink:href=\"#m13347da01f\" y=\"333.36\"/>\r\n      </g>\r\n     </g>\r\n     <g id=\"text_6\">\r\n      <!-- 0.0 -->\r\n      <g style=\"fill:#555555;\" transform=\"translate(22.81375 337.159219)scale(0.1 -0.1)\">\r\n       <defs>\r\n        <path d=\"M 10.6875 12.40625 \r\nL 21 12.40625 \r\nL 21 0 \r\nL 10.6875 0 \r\nz\r\n\" id=\"DejaVuSans-46\"/>\r\n       </defs>\r\n       <use xlink:href=\"#DejaVuSans-48\"/>\r\n       <use x=\"63.623047\" xlink:href=\"#DejaVuSans-46\"/>\r\n       <use x=\"95.410156\" xlink:href=\"#DejaVuSans-48\"/>\r\n      </g>\r\n     </g>\r\n    </g>\r\n    <g id=\"ytick_2\">\r\n     <g id=\"line2d_13\">\r\n      <path clip-path=\"url(#p5fe97f7471)\" d=\"M 45.716875 293.865623 \r\nL 547.916875 293.865623 \r\n\" style=\"fill:none;stroke:#ffffff;stroke-linecap:square;stroke-width:0.8;\"/>\r\n     </g>\r\n     <g id=\"line2d_14\">\r\n      <g>\r\n       <use style=\"fill:#555555;stroke:#555555;stroke-width:0.8;\" x=\"45.716875\" xlink:href=\"#m13347da01f\" y=\"293.865623\"/>\r\n      </g>\r\n     </g>\r\n     <g id=\"text_7\">\r\n      <!-- 0.1 -->\r\n      <g style=\"fill:#555555;\" transform=\"translate(22.81375 297.664842)scale(0.1 -0.1)\">\r\n       <use xlink:href=\"#DejaVuSans-48\"/>\r\n       <use x=\"63.623047\" xlink:href=\"#DejaVuSans-46\"/>\r\n       <use x=\"95.410156\" xlink:href=\"#DejaVuSans-49\"/>\r\n      </g>\r\n     </g>\r\n    </g>\r\n    <g id=\"ytick_3\">\r\n     <g id=\"line2d_15\">\r\n      <path clip-path=\"url(#p5fe97f7471)\" d=\"M 45.716875 254.371247 \r\nL 547.916875 254.371247 \r\n\" style=\"fill:none;stroke:#ffffff;stroke-linecap:square;stroke-width:0.8;\"/>\r\n     </g>\r\n     <g id=\"line2d_16\">\r\n      <g>\r\n       <use style=\"fill:#555555;stroke:#555555;stroke-width:0.8;\" x=\"45.716875\" xlink:href=\"#m13347da01f\" y=\"254.371247\"/>\r\n      </g>\r\n     </g>\r\n     <g id=\"text_8\">\r\n      <!-- 0.2 -->\r\n      <g style=\"fill:#555555;\" transform=\"translate(22.81375 258.170465)scale(0.1 -0.1)\">\r\n       <use xlink:href=\"#DejaVuSans-48\"/>\r\n       <use x=\"63.623047\" xlink:href=\"#DejaVuSans-46\"/>\r\n       <use x=\"95.410156\" xlink:href=\"#DejaVuSans-50\"/>\r\n      </g>\r\n     </g>\r\n    </g>\r\n    <g id=\"ytick_4\">\r\n     <g id=\"line2d_17\">\r\n      <path clip-path=\"url(#p5fe97f7471)\" d=\"M 45.716875 214.87687 \r\nL 547.916875 214.87687 \r\n\" style=\"fill:none;stroke:#ffffff;stroke-linecap:square;stroke-width:0.8;\"/>\r\n     </g>\r\n     <g id=\"line2d_18\">\r\n      <g>\r\n       <use style=\"fill:#555555;stroke:#555555;stroke-width:0.8;\" x=\"45.716875\" xlink:href=\"#m13347da01f\" y=\"214.87687\"/>\r\n      </g>\r\n     </g>\r\n     <g id=\"text_9\">\r\n      <!-- 0.3 -->\r\n      <g style=\"fill:#555555;\" transform=\"translate(22.81375 218.676089)scale(0.1 -0.1)\">\r\n       <defs>\r\n        <path d=\"M 40.578125 39.3125 \r\nQ 47.65625 37.796875 51.625 33 \r\nQ 55.609375 28.21875 55.609375 21.1875 \r\nQ 55.609375 10.40625 48.1875 4.484375 \r\nQ 40.765625 -1.421875 27.09375 -1.421875 \r\nQ 22.515625 -1.421875 17.65625 -0.515625 \r\nQ 12.796875 0.390625 7.625 2.203125 \r\nL 7.625 11.71875 \r\nQ 11.71875 9.328125 16.59375 8.109375 \r\nQ 21.484375 6.890625 26.8125 6.890625 \r\nQ 36.078125 6.890625 40.9375 10.546875 \r\nQ 45.796875 14.203125 45.796875 21.1875 \r\nQ 45.796875 27.640625 41.28125 31.265625 \r\nQ 36.765625 34.90625 28.71875 34.90625 \r\nL 20.21875 34.90625 \r\nL 20.21875 43.015625 \r\nL 29.109375 43.015625 \r\nQ 36.375 43.015625 40.234375 45.921875 \r\nQ 44.09375 48.828125 44.09375 54.296875 \r\nQ 44.09375 59.90625 40.109375 62.90625 \r\nQ 36.140625 65.921875 28.71875 65.921875 \r\nQ 24.65625 65.921875 20.015625 65.03125 \r\nQ 15.375 64.15625 9.8125 62.3125 \r\nL 9.8125 71.09375 \r\nQ 15.4375 72.65625 20.34375 73.4375 \r\nQ 25.25 74.21875 29.59375 74.21875 \r\nQ 40.828125 74.21875 47.359375 69.109375 \r\nQ 53.90625 64.015625 53.90625 55.328125 \r\nQ 53.90625 49.265625 50.4375 45.09375 \r\nQ 46.96875 40.921875 40.578125 39.3125 \r\nz\r\n\" id=\"DejaVuSans-51\"/>\r\n       </defs>\r\n       <use xlink:href=\"#DejaVuSans-48\"/>\r\n       <use x=\"63.623047\" xlink:href=\"#DejaVuSans-46\"/>\r\n       <use x=\"95.410156\" xlink:href=\"#DejaVuSans-51\"/>\r\n      </g>\r\n     </g>\r\n    </g>\r\n    <g id=\"ytick_5\">\r\n     <g id=\"line2d_19\">\r\n      <path clip-path=\"url(#p5fe97f7471)\" d=\"M 45.716875 175.382493 \r\nL 547.916875 175.382493 \r\n\" style=\"fill:none;stroke:#ffffff;stroke-linecap:square;stroke-width:0.8;\"/>\r\n     </g>\r\n     <g id=\"line2d_20\">\r\n      <g>\r\n       <use style=\"fill:#555555;stroke:#555555;stroke-width:0.8;\" x=\"45.716875\" xlink:href=\"#m13347da01f\" y=\"175.382493\"/>\r\n      </g>\r\n     </g>\r\n     <g id=\"text_10\">\r\n      <!-- 0.4 -->\r\n      <g style=\"fill:#555555;\" transform=\"translate(22.81375 179.181712)scale(0.1 -0.1)\">\r\n       <defs>\r\n        <path d=\"M 37.796875 64.3125 \r\nL 12.890625 25.390625 \r\nL 37.796875 25.390625 \r\nz\r\nM 35.203125 72.90625 \r\nL 47.609375 72.90625 \r\nL 47.609375 25.390625 \r\nL 58.015625 25.390625 \r\nL 58.015625 17.1875 \r\nL 47.609375 17.1875 \r\nL 47.609375 0 \r\nL 37.796875 0 \r\nL 37.796875 17.1875 \r\nL 4.890625 17.1875 \r\nL 4.890625 26.703125 \r\nz\r\n\" id=\"DejaVuSans-52\"/>\r\n       </defs>\r\n       <use xlink:href=\"#DejaVuSans-48\"/>\r\n       <use x=\"63.623047\" xlink:href=\"#DejaVuSans-46\"/>\r\n       <use x=\"95.410156\" xlink:href=\"#DejaVuSans-52\"/>\r\n      </g>\r\n     </g>\r\n    </g>\r\n    <g id=\"ytick_6\">\r\n     <g id=\"line2d_21\">\r\n      <path clip-path=\"url(#p5fe97f7471)\" d=\"M 45.716875 135.888116 \r\nL 547.916875 135.888116 \r\n\" style=\"fill:none;stroke:#ffffff;stroke-linecap:square;stroke-width:0.8;\"/>\r\n     </g>\r\n     <g id=\"line2d_22\">\r\n      <g>\r\n       <use style=\"fill:#555555;stroke:#555555;stroke-width:0.8;\" x=\"45.716875\" xlink:href=\"#m13347da01f\" y=\"135.888116\"/>\r\n      </g>\r\n     </g>\r\n     <g id=\"text_11\">\r\n      <!-- 0.5 -->\r\n      <g style=\"fill:#555555;\" transform=\"translate(22.81375 139.687335)scale(0.1 -0.1)\">\r\n       <defs>\r\n        <path d=\"M 10.796875 72.90625 \r\nL 49.515625 72.90625 \r\nL 49.515625 64.59375 \r\nL 19.828125 64.59375 \r\nL 19.828125 46.734375 \r\nQ 21.96875 47.46875 24.109375 47.828125 \r\nQ 26.265625 48.1875 28.421875 48.1875 \r\nQ 40.625 48.1875 47.75 41.5 \r\nQ 54.890625 34.8125 54.890625 23.390625 \r\nQ 54.890625 11.625 47.5625 5.09375 \r\nQ 40.234375 -1.421875 26.90625 -1.421875 \r\nQ 22.3125 -1.421875 17.546875 -0.640625 \r\nQ 12.796875 0.140625 7.71875 1.703125 \r\nL 7.71875 11.625 \r\nQ 12.109375 9.234375 16.796875 8.0625 \r\nQ 21.484375 6.890625 26.703125 6.890625 \r\nQ 35.15625 6.890625 40.078125 11.328125 \r\nQ 45.015625 15.765625 45.015625 23.390625 \r\nQ 45.015625 31 40.078125 35.4375 \r\nQ 35.15625 39.890625 26.703125 39.890625 \r\nQ 22.75 39.890625 18.8125 39.015625 \r\nQ 14.890625 38.140625 10.796875 36.28125 \r\nz\r\n\" id=\"DejaVuSans-53\"/>\r\n       </defs>\r\n       <use xlink:href=\"#DejaVuSans-48\"/>\r\n       <use x=\"63.623047\" xlink:href=\"#DejaVuSans-46\"/>\r\n       <use x=\"95.410156\" xlink:href=\"#DejaVuSans-53\"/>\r\n      </g>\r\n     </g>\r\n    </g>\r\n    <g id=\"ytick_7\">\r\n     <g id=\"line2d_23\">\r\n      <path clip-path=\"url(#p5fe97f7471)\" d=\"M 45.716875 96.39374 \r\nL 547.916875 96.39374 \r\n\" style=\"fill:none;stroke:#ffffff;stroke-linecap:square;stroke-width:0.8;\"/>\r\n     </g>\r\n     <g id=\"line2d_24\">\r\n      <g>\r\n       <use style=\"fill:#555555;stroke:#555555;stroke-width:0.8;\" x=\"45.716875\" xlink:href=\"#m13347da01f\" y=\"96.39374\"/>\r\n      </g>\r\n     </g>\r\n     <g id=\"text_12\">\r\n      <!-- 0.6 -->\r\n      <g style=\"fill:#555555;\" transform=\"translate(22.81375 100.192958)scale(0.1 -0.1)\">\r\n       <defs>\r\n        <path d=\"M 33.015625 40.375 \r\nQ 26.375 40.375 22.484375 35.828125 \r\nQ 18.609375 31.296875 18.609375 23.390625 \r\nQ 18.609375 15.53125 22.484375 10.953125 \r\nQ 26.375 6.390625 33.015625 6.390625 \r\nQ 39.65625 6.390625 43.53125 10.953125 \r\nQ 47.40625 15.53125 47.40625 23.390625 \r\nQ 47.40625 31.296875 43.53125 35.828125 \r\nQ 39.65625 40.375 33.015625 40.375 \r\nz\r\nM 52.59375 71.296875 \r\nL 52.59375 62.3125 \r\nQ 48.875 64.0625 45.09375 64.984375 \r\nQ 41.3125 65.921875 37.59375 65.921875 \r\nQ 27.828125 65.921875 22.671875 59.328125 \r\nQ 17.53125 52.734375 16.796875 39.40625 \r\nQ 19.671875 43.65625 24.015625 45.921875 \r\nQ 28.375 48.1875 33.59375 48.1875 \r\nQ 44.578125 48.1875 50.953125 41.515625 \r\nQ 57.328125 34.859375 57.328125 23.390625 \r\nQ 57.328125 12.15625 50.6875 5.359375 \r\nQ 44.046875 -1.421875 33.015625 -1.421875 \r\nQ 20.359375 -1.421875 13.671875 8.265625 \r\nQ 6.984375 17.96875 6.984375 36.375 \r\nQ 6.984375 53.65625 15.1875 63.9375 \r\nQ 23.390625 74.21875 37.203125 74.21875 \r\nQ 40.921875 74.21875 44.703125 73.484375 \r\nQ 48.484375 72.75 52.59375 71.296875 \r\nz\r\n\" id=\"DejaVuSans-54\"/>\r\n       </defs>\r\n       <use xlink:href=\"#DejaVuSans-48\"/>\r\n       <use x=\"63.623047\" xlink:href=\"#DejaVuSans-46\"/>\r\n       <use x=\"95.410156\" xlink:href=\"#DejaVuSans-54\"/>\r\n      </g>\r\n     </g>\r\n    </g>\r\n    <g id=\"ytick_8\">\r\n     <g id=\"line2d_25\">\r\n      <path clip-path=\"url(#p5fe97f7471)\" d=\"M 45.716875 56.899363 \r\nL 547.916875 56.899363 \r\n\" style=\"fill:none;stroke:#ffffff;stroke-linecap:square;stroke-width:0.8;\"/>\r\n     </g>\r\n     <g id=\"line2d_26\">\r\n      <g>\r\n       <use style=\"fill:#555555;stroke:#555555;stroke-width:0.8;\" x=\"45.716875\" xlink:href=\"#m13347da01f\" y=\"56.899363\"/>\r\n      </g>\r\n     </g>\r\n     <g id=\"text_13\">\r\n      <!-- 0.7 -->\r\n      <g style=\"fill:#555555;\" transform=\"translate(22.81375 60.698582)scale(0.1 -0.1)\">\r\n       <defs>\r\n        <path d=\"M 8.203125 72.90625 \r\nL 55.078125 72.90625 \r\nL 55.078125 68.703125 \r\nL 28.609375 0 \r\nL 18.3125 0 \r\nL 43.21875 64.59375 \r\nL 8.203125 64.59375 \r\nz\r\n\" id=\"DejaVuSans-55\"/>\r\n       </defs>\r\n       <use xlink:href=\"#DejaVuSans-48\"/>\r\n       <use x=\"63.623047\" xlink:href=\"#DejaVuSans-46\"/>\r\n       <use x=\"95.410156\" xlink:href=\"#DejaVuSans-55\"/>\r\n      </g>\r\n     </g>\r\n    </g>\r\n    <g id=\"ytick_9\">\r\n     <g id=\"line2d_27\">\r\n      <path clip-path=\"url(#p5fe97f7471)\" d=\"M 45.716875 17.404986 \r\nL 547.916875 17.404986 \r\n\" style=\"fill:none;stroke:#ffffff;stroke-linecap:square;stroke-width:0.8;\"/>\r\n     </g>\r\n     <g id=\"line2d_28\">\r\n      <g>\r\n       <use style=\"fill:#555555;stroke:#555555;stroke-width:0.8;\" x=\"45.716875\" xlink:href=\"#m13347da01f\" y=\"17.404986\"/>\r\n      </g>\r\n     </g>\r\n     <g id=\"text_14\">\r\n      <!-- 0.8 -->\r\n      <g style=\"fill:#555555;\" transform=\"translate(22.81375 21.204205)scale(0.1 -0.1)\">\r\n       <defs>\r\n        <path d=\"M 31.78125 34.625 \r\nQ 24.75 34.625 20.71875 30.859375 \r\nQ 16.703125 27.09375 16.703125 20.515625 \r\nQ 16.703125 13.921875 20.71875 10.15625 \r\nQ 24.75 6.390625 31.78125 6.390625 \r\nQ 38.8125 6.390625 42.859375 10.171875 \r\nQ 46.921875 13.96875 46.921875 20.515625 \r\nQ 46.921875 27.09375 42.890625 30.859375 \r\nQ 38.875 34.625 31.78125 34.625 \r\nz\r\nM 21.921875 38.8125 \r\nQ 15.578125 40.375 12.03125 44.71875 \r\nQ 8.5 49.078125 8.5 55.328125 \r\nQ 8.5 64.0625 14.71875 69.140625 \r\nQ 20.953125 74.21875 31.78125 74.21875 \r\nQ 42.671875 74.21875 48.875 69.140625 \r\nQ 55.078125 64.0625 55.078125 55.328125 \r\nQ 55.078125 49.078125 51.53125 44.71875 \r\nQ 48 40.375 41.703125 38.8125 \r\nQ 48.828125 37.15625 52.796875 32.3125 \r\nQ 56.78125 27.484375 56.78125 20.515625 \r\nQ 56.78125 9.90625 50.3125 4.234375 \r\nQ 43.84375 -1.421875 31.78125 -1.421875 \r\nQ 19.734375 -1.421875 13.25 4.234375 \r\nQ 6.78125 9.90625 6.78125 20.515625 \r\nQ 6.78125 27.484375 10.78125 32.3125 \r\nQ 14.796875 37.15625 21.921875 38.8125 \r\nz\r\nM 18.3125 54.390625 \r\nQ 18.3125 48.734375 21.84375 45.5625 \r\nQ 25.390625 42.390625 31.78125 42.390625 \r\nQ 38.140625 42.390625 41.71875 45.5625 \r\nQ 45.3125 48.734375 45.3125 54.390625 \r\nQ 45.3125 60.0625 41.71875 63.234375 \r\nQ 38.140625 66.40625 31.78125 66.40625 \r\nQ 25.390625 66.40625 21.84375 63.234375 \r\nQ 18.3125 60.0625 18.3125 54.390625 \r\nz\r\n\" id=\"DejaVuSans-56\"/>\r\n       </defs>\r\n       <use xlink:href=\"#DejaVuSans-48\"/>\r\n       <use x=\"63.623047\" xlink:href=\"#DejaVuSans-46\"/>\r\n       <use x=\"95.410156\" xlink:href=\"#DejaVuSans-56\"/>\r\n      </g>\r\n     </g>\r\n    </g>\r\n    <g id=\"text_15\">\r\n     <!-- Density -->\r\n     <g style=\"fill:#555555;\" transform=\"translate(16.318125 193.090313)rotate(-90)scale(0.12 -0.12)\">\r\n      <defs>\r\n       <path d=\"M 19.671875 64.796875 \r\nL 19.671875 8.109375 \r\nL 31.59375 8.109375 \r\nQ 46.6875 8.109375 53.6875 14.9375 \r\nQ 60.6875 21.78125 60.6875 36.53125 \r\nQ 60.6875 51.171875 53.6875 57.984375 \r\nQ 46.6875 64.796875 31.59375 64.796875 \r\nz\r\nM 9.8125 72.90625 \r\nL 30.078125 72.90625 \r\nQ 51.265625 72.90625 61.171875 64.09375 \r\nQ 71.09375 55.28125 71.09375 36.53125 \r\nQ 71.09375 17.671875 61.125 8.828125 \r\nQ 51.171875 0 30.078125 0 \r\nL 9.8125 0 \r\nz\r\n\" id=\"DejaVuSans-68\"/>\r\n       <path d=\"M 56.203125 29.59375 \r\nL 56.203125 25.203125 \r\nL 14.890625 25.203125 \r\nQ 15.484375 15.921875 20.484375 11.0625 \r\nQ 25.484375 6.203125 34.421875 6.203125 \r\nQ 39.59375 6.203125 44.453125 7.46875 \r\nQ 49.3125 8.734375 54.109375 11.28125 \r\nL 54.109375 2.78125 \r\nQ 49.265625 0.734375 44.1875 -0.34375 \r\nQ 39.109375 -1.421875 33.890625 -1.421875 \r\nQ 20.796875 -1.421875 13.15625 6.1875 \r\nQ 5.515625 13.8125 5.515625 26.8125 \r\nQ 5.515625 40.234375 12.765625 48.109375 \r\nQ 20.015625 56 32.328125 56 \r\nQ 43.359375 56 49.78125 48.890625 \r\nQ 56.203125 41.796875 56.203125 29.59375 \r\nz\r\nM 47.21875 32.234375 \r\nQ 47.125 39.59375 43.09375 43.984375 \r\nQ 39.0625 48.390625 32.421875 48.390625 \r\nQ 24.90625 48.390625 20.390625 44.140625 \r\nQ 15.875 39.890625 15.1875 32.171875 \r\nz\r\n\" id=\"DejaVuSans-101\"/>\r\n       <path d=\"M 54.890625 33.015625 \r\nL 54.890625 0 \r\nL 45.90625 0 \r\nL 45.90625 32.71875 \r\nQ 45.90625 40.484375 42.875 44.328125 \r\nQ 39.84375 48.1875 33.796875 48.1875 \r\nQ 26.515625 48.1875 22.3125 43.546875 \r\nQ 18.109375 38.921875 18.109375 30.90625 \r\nL 18.109375 0 \r\nL 9.078125 0 \r\nL 9.078125 54.6875 \r\nL 18.109375 54.6875 \r\nL 18.109375 46.1875 \r\nQ 21.34375 51.125 25.703125 53.5625 \r\nQ 30.078125 56 35.796875 56 \r\nQ 45.21875 56 50.046875 50.171875 \r\nQ 54.890625 44.34375 54.890625 33.015625 \r\nz\r\n\" id=\"DejaVuSans-110\"/>\r\n       <path d=\"M 44.28125 53.078125 \r\nL 44.28125 44.578125 \r\nQ 40.484375 46.53125 36.375 47.5 \r\nQ 32.28125 48.484375 27.875 48.484375 \r\nQ 21.1875 48.484375 17.84375 46.4375 \r\nQ 14.5 44.390625 14.5 40.28125 \r\nQ 14.5 37.15625 16.890625 35.375 \r\nQ 19.28125 33.59375 26.515625 31.984375 \r\nL 29.59375 31.296875 \r\nQ 39.15625 29.25 43.1875 25.515625 \r\nQ 47.21875 21.78125 47.21875 15.09375 \r\nQ 47.21875 7.46875 41.1875 3.015625 \r\nQ 35.15625 -1.421875 24.609375 -1.421875 \r\nQ 20.21875 -1.421875 15.453125 -0.5625 \r\nQ 10.6875 0.296875 5.421875 2 \r\nL 5.421875 11.28125 \r\nQ 10.40625 8.6875 15.234375 7.390625 \r\nQ 20.0625 6.109375 24.8125 6.109375 \r\nQ 31.15625 6.109375 34.5625 8.28125 \r\nQ 37.984375 10.453125 37.984375 14.40625 \r\nQ 37.984375 18.0625 35.515625 20.015625 \r\nQ 33.0625 21.96875 24.703125 23.78125 \r\nL 21.578125 24.515625 \r\nQ 13.234375 26.265625 9.515625 29.90625 \r\nQ 5.8125 33.546875 5.8125 39.890625 \r\nQ 5.8125 47.609375 11.28125 51.796875 \r\nQ 16.75 56 26.8125 56 \r\nQ 31.78125 56 36.171875 55.265625 \r\nQ 40.578125 54.546875 44.28125 53.078125 \r\nz\r\n\" id=\"DejaVuSans-115\"/>\r\n       <path d=\"M 9.421875 54.6875 \r\nL 18.40625 54.6875 \r\nL 18.40625 0 \r\nL 9.421875 0 \r\nz\r\nM 9.421875 75.984375 \r\nL 18.40625 75.984375 \r\nL 18.40625 64.59375 \r\nL 9.421875 64.59375 \r\nz\r\n\" id=\"DejaVuSans-105\"/>\r\n       <path d=\"M 18.3125 70.21875 \r\nL 18.3125 54.6875 \r\nL 36.8125 54.6875 \r\nL 36.8125 47.703125 \r\nL 18.3125 47.703125 \r\nL 18.3125 18.015625 \r\nQ 18.3125 11.328125 20.140625 9.421875 \r\nQ 21.96875 7.515625 27.59375 7.515625 \r\nL 36.8125 7.515625 \r\nL 36.8125 0 \r\nL 27.59375 0 \r\nQ 17.1875 0 13.234375 3.875 \r\nQ 9.28125 7.765625 9.28125 18.015625 \r\nL 9.28125 47.703125 \r\nL 2.6875 47.703125 \r\nL 2.6875 54.6875 \r\nL 9.28125 54.6875 \r\nL 9.28125 70.21875 \r\nz\r\n\" id=\"DejaVuSans-116\"/>\r\n       <path d=\"M 32.171875 -5.078125 \r\nQ 28.375 -14.84375 24.75 -17.8125 \r\nQ 21.140625 -20.796875 15.09375 -20.796875 \r\nL 7.90625 -20.796875 \r\nL 7.90625 -13.28125 \r\nL 13.1875 -13.28125 \r\nQ 16.890625 -13.28125 18.9375 -11.515625 \r\nQ 21 -9.765625 23.484375 -3.21875 \r\nL 25.09375 0.875 \r\nL 2.984375 54.6875 \r\nL 12.5 54.6875 \r\nL 29.59375 11.921875 \r\nL 46.6875 54.6875 \r\nL 56.203125 54.6875 \r\nz\r\n\" id=\"DejaVuSans-121\"/>\r\n      </defs>\r\n      <use xlink:href=\"#DejaVuSans-68\"/>\r\n      <use x=\"77.001953\" xlink:href=\"#DejaVuSans-101\"/>\r\n      <use x=\"138.525391\" xlink:href=\"#DejaVuSans-110\"/>\r\n      <use x=\"201.904297\" xlink:href=\"#DejaVuSans-115\"/>\r\n      <use x=\"254.003906\" xlink:href=\"#DejaVuSans-105\"/>\r\n      <use x=\"281.787109\" xlink:href=\"#DejaVuSans-116\"/>\r\n      <use x=\"320.996094\" xlink:href=\"#DejaVuSans-121\"/>\r\n     </g>\r\n    </g>\r\n   </g>\r\n   <g id=\"patch_3\">\r\n    <path clip-path=\"url(#p5fe97f7471)\" d=\"M 82.362913 333.36 \r\nL 90.941071 333.36 \r\nL 90.941071 333.317553 \r\nL 82.362913 333.317553 \r\nz\r\n\" style=\"fill:#adb5bd;opacity:0.4;\"/>\r\n   </g>\r\n   <g id=\"patch_4\">\r\n    <path clip-path=\"url(#p5fe97f7471)\" d=\"M 90.941071 333.36 \r\nL 99.51923 333.36 \r\nL 99.51923 333.317553 \r\nL 90.941071 333.317553 \r\nz\r\n\" style=\"fill:#adb5bd;opacity:0.4;\"/>\r\n   </g>\r\n   <g id=\"patch_5\">\r\n    <path clip-path=\"url(#p5fe97f7471)\" d=\"M 99.51923 333.36 \r\nL 108.097388 333.36 \r\nL 108.097388 333.317553 \r\nL 99.51923 333.317553 \r\nz\r\n\" style=\"fill:#adb5bd;opacity:0.4;\"/>\r\n   </g>\r\n   <g id=\"patch_6\">\r\n    <path clip-path=\"url(#p5fe97f7471)\" d=\"M 108.097388 333.36 \r\nL 116.675547 333.36 \r\nL 116.675547 333.317553 \r\nL 108.097388 333.317553 \r\nz\r\n\" style=\"fill:#adb5bd;opacity:0.4;\"/>\r\n   </g>\r\n   <g id=\"patch_7\">\r\n    <path clip-path=\"url(#p5fe97f7471)\" d=\"M 116.675547 333.36 \r\nL 125.253705 333.36 \r\nL 125.253705 333.06287 \r\nL 116.675547 333.06287 \r\nz\r\n\" style=\"fill:#adb5bd;opacity:0.4;\"/>\r\n   </g>\r\n   <g id=\"patch_8\">\r\n    <path clip-path=\"url(#p5fe97f7471)\" d=\"M 125.253705 333.36 \r\nL 133.831864 333.36 \r\nL 133.831864 332.977975 \r\nL 125.253705 332.977975 \r\nz\r\n\" style=\"fill:#adb5bd;opacity:0.4;\"/>\r\n   </g>\r\n   <g id=\"patch_9\">\r\n    <path clip-path=\"url(#p5fe97f7471)\" d=\"M 133.831864 333.36 \r\nL 142.410022 333.36 \r\nL 142.410022 332.426162 \r\nL 133.831864 332.426162 \r\nz\r\n\" style=\"fill:#adb5bd;opacity:0.4;\"/>\r\n   </g>\r\n   <g id=\"patch_10\">\r\n    <path clip-path=\"url(#p5fe97f7471)\" d=\"M 142.410022 333.36 \r\nL 150.988181 333.36 \r\nL 150.988181 332.129031 \r\nL 142.410022 332.129031 \r\nz\r\n\" style=\"fill:#adb5bd;opacity:0.4;\"/>\r\n   </g>\r\n   <g id=\"patch_11\">\r\n    <path clip-path=\"url(#p5fe97f7471)\" d=\"M 150.988181 333.36 \r\nL 159.566339 333.36 \r\nL 159.566339 330.94051 \r\nL 150.988181 330.94051 \r\nz\r\n\" style=\"fill:#adb5bd;opacity:0.4;\"/>\r\n   </g>\r\n   <g id=\"patch_12\">\r\n    <path clip-path=\"url(#p5fe97f7471)\" d=\"M 159.566339 333.36 \r\nL 168.144498 333.36 \r\nL 168.144498 329.751988 \r\nL 159.566339 329.751988 \r\nz\r\n\" style=\"fill:#adb5bd;opacity:0.4;\"/>\r\n   </g>\r\n   <g id=\"patch_13\">\r\n    <path clip-path=\"url(#p5fe97f7471)\" d=\"M 168.144498 333.36 \r\nL 176.722656 333.36 \r\nL 176.722656 325.592163 \r\nL 168.144498 325.592163 \r\nz\r\n\" style=\"fill:#adb5bd;opacity:0.4;\"/>\r\n   </g>\r\n   <g id=\"patch_14\">\r\n    <path clip-path=\"url(#p5fe97f7471)\" d=\"M 176.722656 333.36 \r\nL 185.300815 333.36 \r\nL 185.300815 321.389891 \r\nL 176.722656 321.389891 \r\nz\r\n\" style=\"fill:#adb5bd;opacity:0.4;\"/>\r\n   </g>\r\n   <g id=\"patch_15\">\r\n    <path clip-path=\"url(#p5fe97f7471)\" d=\"M 185.300815 333.36 \r\nL 193.878973 333.36 \r\nL 193.878973 313.367371 \r\nL 185.300815 313.367371 \r\nz\r\n\" style=\"fill:#adb5bd;opacity:0.4;\"/>\r\n   </g>\r\n   <g id=\"patch_16\">\r\n    <path clip-path=\"url(#p5fe97f7471)\" d=\"M 193.878973 333.36 \r\nL 202.457132 333.36 \r\nL 202.457132 305.387299 \r\nL 193.878973 305.387299 \r\nz\r\n\" style=\"fill:#adb5bd;opacity:0.4;\"/>\r\n   </g>\r\n   <g id=\"patch_17\">\r\n    <path clip-path=\"url(#p5fe97f7471)\" d=\"M 202.457132 333.36 \r\nL 211.03529 333.36 \r\nL 211.03529 289.469601 \r\nL 202.457132 289.469601 \r\nz\r\n\" style=\"fill:#adb5bd;opacity:0.4;\"/>\r\n   </g>\r\n   <g id=\"patch_18\">\r\n    <path clip-path=\"url(#p5fe97f7471)\" d=\"M 211.03529 333.36 \r\nL 219.613449 333.36 \r\nL 219.613449 270.453257 \r\nL 211.03529 270.453257 \r\nz\r\n\" style=\"fill:#adb5bd;opacity:0.4;\"/>\r\n   </g>\r\n   <g id=\"patch_19\">\r\n    <path clip-path=\"url(#p5fe97f7471)\" d=\"M 219.613449 333.36 \r\nL 228.191607 333.36 \r\nL 228.191607 243.244605 \r\nL 219.613449 243.244605 \r\nz\r\n\" style=\"fill:#adb5bd;opacity:0.4;\"/>\r\n   </g>\r\n   <g id=\"patch_20\">\r\n    <path clip-path=\"url(#p5fe97f7471)\" d=\"M 228.191607 333.36 \r\nL 236.769766 333.36 \r\nL 236.769766 220.32312 \r\nL 228.191607 220.32312 \r\nz\r\n\" style=\"fill:#adb5bd;opacity:0.4;\"/>\r\n   </g>\r\n   <g id=\"patch_21\">\r\n    <path clip-path=\"url(#p5fe97f7471)\" d=\"M 236.769766 333.36 \r\nL 245.347924 333.36 \r\nL 245.347924 189.081985 \r\nL 236.769766 189.081985 \r\nz\r\n\" style=\"fill:#adb5bd;opacity:0.4;\"/>\r\n   </g>\r\n   <g id=\"patch_22\">\r\n    <path clip-path=\"url(#p5fe97f7471)\" d=\"M 245.347924 333.36 \r\nL 253.926083 333.36 \r\nL 253.926083 149.139175 \r\nL 245.347924 149.139175 \r\nz\r\n\" style=\"fill:#adb5bd;opacity:0.4;\"/>\r\n   </g>\r\n   <g id=\"patch_23\">\r\n    <path clip-path=\"url(#p5fe97f7471)\" d=\"M 253.926083 333.36 \r\nL 262.504241 333.36 \r\nL 262.504241 119.765716 \r\nL 253.926083 119.765716 \r\nz\r\n\" style=\"fill:#adb5bd;opacity:0.4;\"/>\r\n   </g>\r\n   <g id=\"patch_24\">\r\n    <path clip-path=\"url(#p5fe97f7471)\" d=\"M 262.504241 333.36 \r\nL 271.0824 333.36 \r\nL 271.0824 86.996481 \r\nL 262.504241 86.996481 \r\nz\r\n\" style=\"fill:#adb5bd;opacity:0.4;\"/>\r\n   </g>\r\n   <g id=\"patch_25\">\r\n    <path clip-path=\"url(#p5fe97f7471)\" d=\"M 271.0824 333.36 \r\nL 279.660558 333.36 \r\nL 279.660558 53.505645 \r\nL 271.0824 53.505645 \r\nz\r\n\" style=\"fill:#adb5bd;opacity:0.4;\"/>\r\n   </g>\r\n   <g id=\"patch_26\">\r\n    <path clip-path=\"url(#p5fe97f7471)\" d=\"M 279.660558 333.36 \r\nL 288.238717 333.36 \r\nL 288.238717 30.287029 \r\nL 279.660558 30.287029 \r\nz\r\n\" style=\"fill:#adb5bd;opacity:0.4;\"/>\r\n   </g>\r\n   <g id=\"patch_27\">\r\n    <path clip-path=\"url(#p5fe97f7471)\" d=\"M 288.238717 333.36 \r\nL 296.816875 333.36 \r\nL 296.816875 23.198348 \r\nL 288.238717 23.198348 \r\nz\r\n\" style=\"fill:#adb5bd;opacity:0.4;\"/>\r\n   </g>\r\n   <g id=\"patch_28\">\r\n    <path clip-path=\"url(#p5fe97f7471)\" d=\"M 296.816875 333.36 \r\nL 305.395033 333.36 \r\nL 305.395033 22.731429 \r\nL 296.816875 22.731429 \r\nz\r\n\" style=\"fill:#adb5bd;opacity:0.4;\"/>\r\n   </g>\r\n   <g id=\"patch_29\">\r\n    <path clip-path=\"url(#p5fe97f7471)\" d=\"M 305.395033 333.36 \r\nL 313.973192 333.36 \r\nL 313.973192 33.852594 \r\nL 305.395033 33.852594 \r\nz\r\n\" style=\"fill:#adb5bd;opacity:0.4;\"/>\r\n   </g>\r\n   <g id=\"patch_30\">\r\n    <path clip-path=\"url(#p5fe97f7471)\" d=\"M 313.973192 333.36 \r\nL 322.55135 333.36 \r\nL 322.55135 45.525572 \r\nL 313.973192 45.525572 \r\nz\r\n\" style=\"fill:#adb5bd;opacity:0.4;\"/>\r\n   </g>\r\n   <g id=\"patch_31\">\r\n    <path clip-path=\"url(#p5fe97f7471)\" d=\"M 322.55135 333.36 \r\nL 331.129509 333.36 \r\nL 331.129509 71.800386 \r\nL 322.55135 71.800386 \r\nz\r\n\" style=\"fill:#adb5bd;opacity:0.4;\"/>\r\n   </g>\r\n   <g id=\"patch_32\">\r\n    <path clip-path=\"url(#p5fe97f7471)\" d=\"M 331.129509 333.36 \r\nL 339.707667 333.36 \r\nL 339.707667 102.532155 \r\nL 331.129509 102.532155 \r\nz\r\n\" style=\"fill:#adb5bd;opacity:0.4;\"/>\r\n   </g>\r\n   <g id=\"patch_33\">\r\n    <path clip-path=\"url(#p5fe97f7471)\" d=\"M 339.707667 333.36 \r\nL 348.285826 333.36 \r\nL 348.285826 136.362569 \r\nL 339.707667 136.362569 \r\nz\r\n\" style=\"fill:#adb5bd;opacity:0.4;\"/>\r\n   </g>\r\n   <g id=\"patch_34\">\r\n    <path clip-path=\"url(#p5fe97f7471)\" d=\"M 348.285826 333.36 \r\nL 356.863984 333.36 \r\nL 356.863984 173.206734 \r\nL 348.285826 173.206734 \r\nz\r\n\" style=\"fill:#adb5bd;opacity:0.4;\"/>\r\n   </g>\r\n   <g id=\"patch_35\">\r\n    <path clip-path=\"url(#p5fe97f7471)\" d=\"M 356.863984 333.36 \r\nL 365.442143 333.36 \r\nL 365.442143 209.456638 \r\nL 356.863984 209.456638 \r\nz\r\n\" style=\"fill:#adb5bd;opacity:0.4;\"/>\r\n   </g>\r\n   <g id=\"patch_36\">\r\n    <path clip-path=\"url(#p5fe97f7471)\" d=\"M 365.442143 333.36 \r\nL 374.020301 333.36 \r\nL 374.020301 241.928742 \r\nL 365.442143 241.928742 \r\nz\r\n\" style=\"fill:#adb5bd;opacity:0.4;\"/>\r\n   </g>\r\n   <g id=\"patch_37\">\r\n    <path clip-path=\"url(#p5fe97f7471)\" d=\"M 374.020301 333.36 \r\nL 382.59846 333.36 \r\nL 382.59846 262.940104 \r\nL 374.020301 262.940104 \r\nz\r\n\" style=\"fill:#adb5bd;opacity:0.4;\"/>\r\n   </g>\r\n   <g id=\"patch_38\">\r\n    <path clip-path=\"url(#p5fe97f7471)\" d=\"M 382.59846 333.36 \r\nL 391.176618 333.36 \r\nL 391.176618 282.041342 \r\nL 382.59846 282.041342 \r\nz\r\n\" style=\"fill:#adb5bd;opacity:0.4;\"/>\r\n   </g>\r\n   <g id=\"patch_39\">\r\n    <path clip-path=\"url(#p5fe97f7471)\" d=\"M 391.176618 333.36 \r\nL 399.754777 333.36 \r\nL 399.754777 299.147561 \r\nL 391.176618 299.147561 \r\nz\r\n\" style=\"fill:#adb5bd;opacity:0.4;\"/>\r\n   </g>\r\n   <g id=\"patch_40\">\r\n    <path clip-path=\"url(#p5fe97f7471)\" d=\"M 399.754777 333.36 \r\nL 408.332935 333.36 \r\nL 408.332935 311.584589 \r\nL 399.754777 311.584589 \r\nz\r\n\" style=\"fill:#adb5bd;opacity:0.4;\"/>\r\n   </g>\r\n   <g id=\"patch_41\">\r\n    <path clip-path=\"url(#p5fe97f7471)\" d=\"M 408.332935 333.36 \r\nL 416.911094 333.36 \r\nL 416.911094 318.545929 \r\nL 408.332935 318.545929 \r\nz\r\n\" style=\"fill:#adb5bd;opacity:0.4;\"/>\r\n   </g>\r\n   <g id=\"patch_42\">\r\n    <path clip-path=\"url(#p5fe97f7471)\" d=\"M 416.911094 333.36 \r\nL 425.489252 333.36 \r\nL 425.489252 324.488536 \r\nL 416.911094 324.488536 \r\nz\r\n\" style=\"fill:#adb5bd;opacity:0.4;\"/>\r\n   </g>\r\n   <g id=\"patch_43\">\r\n    <path clip-path=\"url(#p5fe97f7471)\" d=\"M 425.489252 333.36 \r\nL 434.067411 333.36 \r\nL 434.067411 327.587182 \r\nL 425.489252 327.587182 \r\nz\r\n\" style=\"fill:#adb5bd;opacity:0.4;\"/>\r\n   </g>\r\n   <g id=\"patch_44\">\r\n    <path clip-path=\"url(#p5fe97f7471)\" d=\"M 434.067411 333.36 \r\nL 442.645569 333.36 \r\nL 442.645569 330.431144 \r\nL 434.067411 330.431144 \r\nz\r\n\" style=\"fill:#adb5bd;opacity:0.4;\"/>\r\n   </g>\r\n   <g id=\"patch_45\">\r\n    <path clip-path=\"url(#p5fe97f7471)\" d=\"M 442.645569 333.36 \r\nL 451.223728 333.36 \r\nL 451.223728 331.831901 \r\nL 442.645569 331.831901 \r\nz\r\n\" style=\"fill:#adb5bd;opacity:0.4;\"/>\r\n   </g>\r\n   <g id=\"patch_46\">\r\n    <path clip-path=\"url(#p5fe97f7471)\" d=\"M 451.223728 333.36 \r\nL 459.801886 333.36 \r\nL 459.801886 332.426162 \r\nL 451.223728 332.426162 \r\nz\r\n\" style=\"fill:#adb5bd;opacity:0.4;\"/>\r\n   </g>\r\n   <g id=\"patch_47\">\r\n    <path clip-path=\"url(#p5fe97f7471)\" d=\"M 459.801886 333.36 \r\nL 468.380045 333.36 \r\nL 468.380045 332.680845 \r\nL 459.801886 332.680845 \r\nz\r\n\" style=\"fill:#adb5bd;opacity:0.4;\"/>\r\n   </g>\r\n   <g id=\"patch_48\">\r\n    <path clip-path=\"url(#p5fe97f7471)\" d=\"M 468.380045 333.36 \r\nL 476.958203 333.36 \r\nL 476.958203 333.147764 \r\nL 468.380045 333.147764 \r\nz\r\n\" style=\"fill:#adb5bd;opacity:0.4;\"/>\r\n   </g>\r\n   <g id=\"patch_49\">\r\n    <path clip-path=\"url(#p5fe97f7471)\" d=\"M 476.958203 333.36 \r\nL 485.536362 333.36 \r\nL 485.536362 333.317553 \r\nL 476.958203 333.317553 \r\nz\r\n\" style=\"fill:#adb5bd;opacity:0.4;\"/>\r\n   </g>\r\n   <g id=\"patch_50\">\r\n    <path clip-path=\"url(#p5fe97f7471)\" d=\"M 485.536362 333.36 \r\nL 494.11452 333.36 \r\nL 494.11452 333.317553 \r\nL 485.536362 333.317553 \r\nz\r\n\" style=\"fill:#adb5bd;opacity:0.4;\"/>\r\n   </g>\r\n   <g id=\"patch_51\">\r\n    <path clip-path=\"url(#p5fe97f7471)\" d=\"M 494.11452 333.36 \r\nL 502.692679 333.36 \r\nL 502.692679 333.317553 \r\nL 494.11452 333.317553 \r\nz\r\n\" style=\"fill:#adb5bd;opacity:0.4;\"/>\r\n   </g>\r\n   <g id=\"patch_52\">\r\n    <path clip-path=\"url(#p5fe97f7471)\" d=\"M 502.692679 333.36 \r\nL 511.270837 333.36 \r\nL 511.270837 333.317553 \r\nL 502.692679 333.317553 \r\nz\r\n\" style=\"fill:#adb5bd;opacity:0.4;\"/>\r\n   </g>\r\n   <g id=\"line2d_29\">\r\n    <path clip-path=\"url(#p5fe97f7471)\" d=\"M 68.544148 333.35965 \r\nL 116.722311 333.227479 \r\nL 132.781699 332.691976 \r\nL 148.841087 331.874189 \r\nL 153.429483 331.279489 \r\nL 164.900475 329.10295 \r\nL 167.194673 328.330775 \r\nL 169.488871 327.256547 \r\nL 183.254061 319.461761 \r\nL 185.548259 317.750423 \r\nL 187.842457 315.790991 \r\nL 190.136656 313.661598 \r\nL 192.430854 311.379205 \r\nL 194.725052 308.8525 \r\nL 197.019251 305.951002 \r\nL 199.313449 302.609616 \r\nL 201.607647 298.856122 \r\nL 203.901845 294.748137 \r\nL 206.196044 290.301666 \r\nL 208.490242 285.480562 \r\nL 210.78444 280.247953 \r\nL 213.078638 274.615126 \r\nL 215.372837 268.622202 \r\nL 219.961233 255.702157 \r\nL 231.432224 221.820418 \r\nL 236.020621 206.497442 \r\nL 238.314819 198.4335 \r\nL 240.609018 189.931162 \r\nL 242.903216 180.616644 \r\nL 249.785811 150.401008 \r\nL 252.080009 141.456157 \r\nL 272.727793 64.839328 \r\nL 275.021991 56.115621 \r\nL 277.31619 48.019509 \r\nL 279.610388 41.116571 \r\nL 281.904586 35.719633 \r\nL 284.198785 31.750572 \r\nL 286.492983 28.860124 \r\nL 288.787181 26.688844 \r\nL 291.081379 25.033814 \r\nL 293.375578 23.833387 \r\nL 295.669776 23.100045 \r\nL 297.963974 22.916434 \r\nL 300.258172 23.423962 \r\nL 302.552371 24.725576 \r\nL 304.846569 26.797334 \r\nL 307.140767 29.510205 \r\nL 309.434965 32.711022 \r\nL 311.729164 36.30203 \r\nL 314.023362 40.310692 \r\nL 316.31756 44.875087 \r\nL 318.611759 50.098148 \r\nL 320.905957 55.899572 \r\nL 325.494353 68.379134 \r\nL 327.788552 75.047083 \r\nL 330.08275 82.401186 \r\nL 332.376948 90.627326 \r\nL 341.553741 126.591398 \r\nL 346.142138 145.146891 \r\nL 357.613129 194.590172 \r\nL 362.201526 212.604538 \r\nL 366.789922 229.66417 \r\nL 369.08412 237.724059 \r\nL 371.378319 245.109044 \r\nL 373.672517 251.648035 \r\nL 375.966715 257.509312 \r\nL 380.555112 268.527662 \r\nL 385.143508 278.940515 \r\nL 389.731905 288.547076 \r\nL 392.026103 292.938506 \r\nL 394.320301 296.86045 \r\nL 396.614499 300.367855 \r\nL 401.202896 306.74669 \r\nL 403.497094 309.586682 \r\nL 405.791293 312.098912 \r\nL 410.379689 316.479172 \r\nL 414.968086 320.431385 \r\nL 417.262284 322.106342 \r\nL 419.556482 323.478355 \r\nL 421.85068 324.568318 \r\nL 426.439077 326.302542 \r\nL 435.61587 329.562761 \r\nL 437.910068 330.212359 \r\nL 442.498465 331.14873 \r\nL 447.086861 331.784736 \r\nL 451.675258 332.225652 \r\nL 458.557853 332.522354 \r\nL 483.794034 333.294393 \r\nL 520.501206 333.355765 \r\nL 525.089602 333.35965 \r\nL 525.089602 333.35965 \r\n\" style=\"fill:none;stroke:#adb5bd;stroke-linecap:square;stroke-width:1.5;\"/>\r\n   </g>\r\n   <g id=\"patch_53\">\r\n    <path d=\"M 45.716875 333.36 \r\nL 45.716875 7.2 \r\n\" style=\"fill:none;stroke:#ffffff;stroke-linecap:square;stroke-linejoin:miter;\"/>\r\n   </g>\r\n   <g id=\"patch_54\">\r\n    <path d=\"M 547.916875 333.36 \r\nL 547.916875 7.2 \r\n\" style=\"fill:none;stroke:#ffffff;stroke-linecap:square;stroke-linejoin:miter;\"/>\r\n   </g>\r\n   <g id=\"patch_55\">\r\n    <path d=\"M 45.716875 333.36 \r\nL 547.916875 333.36 \r\n\" style=\"fill:none;stroke:#ffffff;stroke-linecap:square;stroke-linejoin:miter;\"/>\r\n   </g>\r\n   <g id=\"patch_56\">\r\n    <path d=\"M 45.716875 7.2 \r\nL 547.916875 7.2 \r\n\" style=\"fill:none;stroke:#ffffff;stroke-linecap:square;stroke-linejoin:miter;\"/>\r\n   </g>\r\n  </g>\r\n </g>\r\n <defs>\r\n  <clipPath id=\"p5fe97f7471\">\r\n   <rect height=\"326.16\" width=\"502.2\" x=\"45.716875\" y=\"7.2\"/>\r\n  </clipPath>\r\n </defs>\r\n</svg>\r\n",
      "image/png": "[encoded data removed]"
     },
     "metadata": {}
    }
   ],
   "source": [
    "# rng.normal(loc=0.0, scale=1.0, size=None)\n",
    "# loc: mean of the distribution, \n",
    "# scale: the standard diviation of the distribution(the width of the distribution)\n",
    "# size: the size of the distribution \n",
    "mu, sigma = 0, 0.5 # mean and standard deviation\n",
    "x = rng.normal(mu, sigma, 100000)\n",
    "sl1 = mu - sigma\n",
    "sr1 = mu + sigma\n",
    "sl2 = mu - 2 * sigma\n",
    "sr2 = mu + 2 * sigma\n",
    "sl3 = mu - 3 * sigma\n",
    "sr3 = mu + 3 * sigma\n",
    "ax = sns.distplot(x, kde=True, color='#ADB5BD');\n",
    "'''\n",
    "kde_x, kde_y = ax.lines[0].get_data()\n",
    "\n",
    "ax.fill_between(kde_x, kde_y, where=(kde_x>sl1) & (kde_x<sr1) , \n",
    "                interpolate=True, color='#212529', alpha=0.5)\n",
    "ax.fill_between(kde_x, kde_y, where=(kde_x<sl1) & (kde_x>sl2) | (kde_x>sr1) & (kde_x<sr2) , \n",
    "                interpolate=True, color='#343A40', alpha=0.4)\n",
    "\n",
    "ax.fill_between(kde_x, kde_y, where=(kde_x<sl2) & (kde_x>sl3) | (kde_x>sr2) & (kde_x<sr3) , \n",
    "                interpolate=True, color='#495057', alpha=0.3)\n",
    "\n",
    "plt.axvline(sl1, color='#212529', alpha=0.2)\n",
    "plt.axvline(sr1, color='#212529', alpha=0.2)\n",
    "plt.axvline(sl2, color='#343A40', alpha=0.2)\n",
    "plt.axvline(sr2, color='#343A40', alpha=0.2)\n",
    "plt.axvline(sl3, color='#495057', alpha=0.2)\n",
    "plt.axvline(sr3, color='#495057', alpha=0.2)\n",
    "'''\n",
    "print('The mean of distribution is {:.5f} and standard diviation is {:.5f}\\n'.format(x.mean(),x.std()))\n"
   ]
  },
  {
   "source": [
    "### Uniform\n",
    "\n",
    "One of the simplest probability distributions in statistics, known as the continuous uniform distribution or rectangular distribution is a family of symmetric probability distributions with events that are equally likely to occur.\n",
    "\n",
    "The probability density function for a uniform distribution taking values in the range a to b is:\n",
    "\n",
    "\n",
    "$$ f(x) = \\frac{1}{b-a} $$\n",
    "$$\\text{ for } a \\leq x \\leq b $$\n",
    " "
   ],
   "cell_type": "markdown",
   "metadata": {}
  },
  {
   "cell_type": "code",
   "execution_count": 200,
   "metadata": {},
   "outputs": [
    {
     "output_type": "display_data",
     "data": {
      "text/plain": "<Figure size 648x432 with 1 Axes>",
      "image/svg+xml": "<?xml version=\"1.0\" encoding=\"utf-8\" standalone=\"no\"?>\r\n<!DOCTYPE svg PUBLIC \"-//W3C//DTD SVG 1.1//EN\"\r\n  \"http://www.w3.org/Graphics/SVG/1.1/DTD/svg11.dtd\">\r\n<!-- Created with matplotlib (https://matplotlib.org/) -->\r\n<svg height=\"357.238125pt\" version=\"1.1\" viewBox=\"0 0 558.30125 357.238125\" width=\"558.30125pt\" xmlns=\"http://www.w3.org/2000/svg\" xmlns:xlink=\"http://www.w3.org/1999/xlink\">\r\n <metadata>\r\n  <rdf:RDF xmlns:cc=\"http://creativecommons.org/ns#\" xmlns:dc=\"http://purl.org/dc/elements/1.1/\" xmlns:rdf=\"http://www.w3.org/1999/02/22-rdf-syntax-ns#\">\r\n   <cc:Work>\r\n    <dc:type rdf:resource=\"http://purl.org/dc/dcmitype/StillImage\"/>\r\n    <dc:date>2020-11-13T14:55:07.935004</dc:date>\r\n    <dc:format>image/svg+xml</dc:format>\r\n    <dc:creator>\r\n     <cc:Agent>\r\n      <dc:title>Matplotlib v3.3.2, https://matplotlib.org/</dc:title>\r\n     </cc:Agent>\r\n    </dc:creator>\r\n   </cc:Work>\r\n  </rdf:RDF>\r\n </metadata>\r\n <defs>\r\n  <style type=\"text/css\">*{stroke-linecap:butt;stroke-linejoin:round;}</style>\r\n </defs>\r\n <g id=\"figure_1\">\r\n  <g id=\"patch_1\">\r\n   <path d=\"M 0 357.238125 \r\nL 558.30125 357.238125 \r\nL 558.30125 0 \r\nL 0 0 \r\nz\r\n\" style=\"fill:#ffffff;\"/>\r\n  </g>\r\n  <g id=\"axes_1\">\r\n   <g id=\"patch_2\">\r\n    <path d=\"M 48.90125 333.36 \r\nL 551.10125 333.36 \r\nL 551.10125 7.2 \r\nL 48.90125 7.2 \r\nz\r\n\" style=\"fill:#e5e5e5;\"/>\r\n   </g>\r\n   <g id=\"matplotlib.axis_1\">\r\n    <g id=\"xtick_1\">\r\n     <g id=\"line2d_1\">\r\n      <path clip-path=\"url(#pb174bde7c3)\" d=\"M 66.79405 333.36 \r\nL 66.79405 7.2 \r\n\" style=\"fill:none;stroke:#ffffff;stroke-linecap:square;stroke-width:0.8;\"/>\r\n     </g>\r\n     <g id=\"line2d_2\">\r\n      <defs>\r\n       <path d=\"M 0 0 \r\nL 0 3.5 \r\n\" id=\"m66a455a842\" style=\"stroke:#555555;stroke-width:0.8;\"/>\r\n      </defs>\r\n      <g>\r\n       <use style=\"fill:#555555;stroke:#555555;stroke-width:0.8;\" x=\"66.79405\" xlink:href=\"#m66a455a842\" y=\"333.36\"/>\r\n      </g>\r\n     </g>\r\n     <g id=\"text_1\">\r\n      <!-- 0 -->\r\n      <g style=\"fill:#555555;\" transform=\"translate(63.6128 347.958438)scale(0.1 -0.1)\">\r\n       <defs>\r\n        <path d=\"M 31.78125 66.40625 \r\nQ 24.171875 66.40625 20.328125 58.90625 \r\nQ 16.5 51.421875 16.5 36.375 \r\nQ 16.5 21.390625 20.328125 13.890625 \r\nQ 24.171875 6.390625 31.78125 6.390625 \r\nQ 39.453125 6.390625 43.28125 13.890625 \r\nQ 47.125 21.390625 47.125 36.375 \r\nQ 47.125 51.421875 43.28125 58.90625 \r\nQ 39.453125 66.40625 31.78125 66.40625 \r\nz\r\nM 31.78125 74.21875 \r\nQ 44.046875 74.21875 50.515625 64.515625 \r\nQ 56.984375 54.828125 56.984375 36.375 \r\nQ 56.984375 17.96875 50.515625 8.265625 \r\nQ 44.046875 -1.421875 31.78125 -1.421875 \r\nQ 19.53125 -1.421875 13.0625 8.265625 \r\nQ 6.59375 17.96875 6.59375 36.375 \r\nQ 6.59375 54.828125 13.0625 64.515625 \r\nQ 19.53125 74.21875 31.78125 74.21875 \r\nz\r\n\" id=\"DejaVuSans-48\"/>\r\n       </defs>\r\n       <use xlink:href=\"#DejaVuSans-48\"/>\r\n      </g>\r\n     </g>\r\n    </g>\r\n    <g id=\"xtick_2\">\r\n     <g id=\"line2d_3\">\r\n      <path clip-path=\"url(#pb174bde7c3)\" d=\"M 159.131681 333.36 \r\nL 159.131681 7.2 \r\n\" style=\"fill:none;stroke:#ffffff;stroke-linecap:square;stroke-width:0.8;\"/>\r\n     </g>\r\n     <g id=\"line2d_4\">\r\n      <g>\r\n       <use style=\"fill:#555555;stroke:#555555;stroke-width:0.8;\" x=\"159.131681\" xlink:href=\"#m66a455a842\" y=\"333.36\"/>\r\n      </g>\r\n     </g>\r\n     <g id=\"text_2\">\r\n      <!-- 20 -->\r\n      <g style=\"fill:#555555;\" transform=\"translate(152.769181 347.958438)scale(0.1 -0.1)\">\r\n       <defs>\r\n        <path d=\"M 19.1875 8.296875 \r\nL 53.609375 8.296875 \r\nL 53.609375 0 \r\nL 7.328125 0 \r\nL 7.328125 8.296875 \r\nQ 12.9375 14.109375 22.625 23.890625 \r\nQ 32.328125 33.6875 34.8125 36.53125 \r\nQ 39.546875 41.84375 41.421875 45.53125 \r\nQ 43.3125 49.21875 43.3125 52.78125 \r\nQ 43.3125 58.59375 39.234375 62.25 \r\nQ 35.15625 65.921875 28.609375 65.921875 \r\nQ 23.96875 65.921875 18.8125 64.3125 \r\nQ 13.671875 62.703125 7.8125 59.421875 \r\nL 7.8125 69.390625 \r\nQ 13.765625 71.78125 18.9375 73 \r\nQ 24.125 74.21875 28.421875 74.21875 \r\nQ 39.75 74.21875 46.484375 68.546875 \r\nQ 53.21875 62.890625 53.21875 53.421875 \r\nQ 53.21875 48.921875 51.53125 44.890625 \r\nQ 49.859375 40.875 45.40625 35.40625 \r\nQ 44.1875 33.984375 37.640625 27.21875 \r\nQ 31.109375 20.453125 19.1875 8.296875 \r\nz\r\n\" id=\"DejaVuSans-50\"/>\r\n       </defs>\r\n       <use xlink:href=\"#DejaVuSans-50\"/>\r\n       <use x=\"63.623047\" xlink:href=\"#DejaVuSans-48\"/>\r\n      </g>\r\n     </g>\r\n    </g>\r\n    <g id=\"xtick_3\">\r\n     <g id=\"line2d_5\">\r\n      <path clip-path=\"url(#pb174bde7c3)\" d=\"M 251.469312 333.36 \r\nL 251.469312 7.2 \r\n\" style=\"fill:none;stroke:#ffffff;stroke-linecap:square;stroke-width:0.8;\"/>\r\n     </g>\r\n     <g id=\"line2d_6\">\r\n      <g>\r\n       <use style=\"fill:#555555;stroke:#555555;stroke-width:0.8;\" x=\"251.469312\" xlink:href=\"#m66a455a842\" y=\"333.36\"/>\r\n      </g>\r\n     </g>\r\n     <g id=\"text_3\">\r\n      <!-- 40 -->\r\n      <g style=\"fill:#555555;\" transform=\"translate(245.106812 347.958438)scale(0.1 -0.1)\">\r\n       <defs>\r\n        <path d=\"M 37.796875 64.3125 \r\nL 12.890625 25.390625 \r\nL 37.796875 25.390625 \r\nz\r\nM 35.203125 72.90625 \r\nL 47.609375 72.90625 \r\nL 47.609375 25.390625 \r\nL 58.015625 25.390625 \r\nL 58.015625 17.1875 \r\nL 47.609375 17.1875 \r\nL 47.609375 0 \r\nL 37.796875 0 \r\nL 37.796875 17.1875 \r\nL 4.890625 17.1875 \r\nL 4.890625 26.703125 \r\nz\r\n\" id=\"DejaVuSans-52\"/>\r\n       </defs>\r\n       <use xlink:href=\"#DejaVuSans-52\"/>\r\n       <use x=\"63.623047\" xlink:href=\"#DejaVuSans-48\"/>\r\n      </g>\r\n     </g>\r\n    </g>\r\n    <g id=\"xtick_4\">\r\n     <g id=\"line2d_7\">\r\n      <path clip-path=\"url(#pb174bde7c3)\" d=\"M 343.806944 333.36 \r\nL 343.806944 7.2 \r\n\" style=\"fill:none;stroke:#ffffff;stroke-linecap:square;stroke-width:0.8;\"/>\r\n     </g>\r\n     <g id=\"line2d_8\">\r\n      <g>\r\n       <use style=\"fill:#555555;stroke:#555555;stroke-width:0.8;\" x=\"343.806944\" xlink:href=\"#m66a455a842\" y=\"333.36\"/>\r\n      </g>\r\n     </g>\r\n     <g id=\"text_4\">\r\n      <!-- 60 -->\r\n      <g style=\"fill:#555555;\" transform=\"translate(337.444444 347.958438)scale(0.1 -0.1)\">\r\n       <defs>\r\n        <path d=\"M 33.015625 40.375 \r\nQ 26.375 40.375 22.484375 35.828125 \r\nQ 18.609375 31.296875 18.609375 23.390625 \r\nQ 18.609375 15.53125 22.484375 10.953125 \r\nQ 26.375 6.390625 33.015625 6.390625 \r\nQ 39.65625 6.390625 43.53125 10.953125 \r\nQ 47.40625 15.53125 47.40625 23.390625 \r\nQ 47.40625 31.296875 43.53125 35.828125 \r\nQ 39.65625 40.375 33.015625 40.375 \r\nz\r\nM 52.59375 71.296875 \r\nL 52.59375 62.3125 \r\nQ 48.875 64.0625 45.09375 64.984375 \r\nQ 41.3125 65.921875 37.59375 65.921875 \r\nQ 27.828125 65.921875 22.671875 59.328125 \r\nQ 17.53125 52.734375 16.796875 39.40625 \r\nQ 19.671875 43.65625 24.015625 45.921875 \r\nQ 28.375 48.1875 33.59375 48.1875 \r\nQ 44.578125 48.1875 50.953125 41.515625 \r\nQ 57.328125 34.859375 57.328125 23.390625 \r\nQ 57.328125 12.15625 50.6875 5.359375 \r\nQ 44.046875 -1.421875 33.015625 -1.421875 \r\nQ 20.359375 -1.421875 13.671875 8.265625 \r\nQ 6.984375 17.96875 6.984375 36.375 \r\nQ 6.984375 53.65625 15.1875 63.9375 \r\nQ 23.390625 74.21875 37.203125 74.21875 \r\nQ 40.921875 74.21875 44.703125 73.484375 \r\nQ 48.484375 72.75 52.59375 71.296875 \r\nz\r\n\" id=\"DejaVuSans-54\"/>\r\n       </defs>\r\n       <use xlink:href=\"#DejaVuSans-54\"/>\r\n       <use x=\"63.623047\" xlink:href=\"#DejaVuSans-48\"/>\r\n      </g>\r\n     </g>\r\n    </g>\r\n    <g id=\"xtick_5\">\r\n     <g id=\"line2d_9\">\r\n      <path clip-path=\"url(#pb174bde7c3)\" d=\"M 436.144575 333.36 \r\nL 436.144575 7.2 \r\n\" style=\"fill:none;stroke:#ffffff;stroke-linecap:square;stroke-width:0.8;\"/>\r\n     </g>\r\n     <g id=\"line2d_10\">\r\n      <g>\r\n       <use style=\"fill:#555555;stroke:#555555;stroke-width:0.8;\" x=\"436.144575\" xlink:href=\"#m66a455a842\" y=\"333.36\"/>\r\n      </g>\r\n     </g>\r\n     <g id=\"text_5\">\r\n      <!-- 80 -->\r\n      <g style=\"fill:#555555;\" transform=\"translate(429.782075 347.958438)scale(0.1 -0.1)\">\r\n       <defs>\r\n        <path d=\"M 31.78125 34.625 \r\nQ 24.75 34.625 20.71875 30.859375 \r\nQ 16.703125 27.09375 16.703125 20.515625 \r\nQ 16.703125 13.921875 20.71875 10.15625 \r\nQ 24.75 6.390625 31.78125 6.390625 \r\nQ 38.8125 6.390625 42.859375 10.171875 \r\nQ 46.921875 13.96875 46.921875 20.515625 \r\nQ 46.921875 27.09375 42.890625 30.859375 \r\nQ 38.875 34.625 31.78125 34.625 \r\nz\r\nM 21.921875 38.8125 \r\nQ 15.578125 40.375 12.03125 44.71875 \r\nQ 8.5 49.078125 8.5 55.328125 \r\nQ 8.5 64.0625 14.71875 69.140625 \r\nQ 20.953125 74.21875 31.78125 74.21875 \r\nQ 42.671875 74.21875 48.875 69.140625 \r\nQ 55.078125 64.0625 55.078125 55.328125 \r\nQ 55.078125 49.078125 51.53125 44.71875 \r\nQ 48 40.375 41.703125 38.8125 \r\nQ 48.828125 37.15625 52.796875 32.3125 \r\nQ 56.78125 27.484375 56.78125 20.515625 \r\nQ 56.78125 9.90625 50.3125 4.234375 \r\nQ 43.84375 -1.421875 31.78125 -1.421875 \r\nQ 19.734375 -1.421875 13.25 4.234375 \r\nQ 6.78125 9.90625 6.78125 20.515625 \r\nQ 6.78125 27.484375 10.78125 32.3125 \r\nQ 14.796875 37.15625 21.921875 38.8125 \r\nz\r\nM 18.3125 54.390625 \r\nQ 18.3125 48.734375 21.84375 45.5625 \r\nQ 25.390625 42.390625 31.78125 42.390625 \r\nQ 38.140625 42.390625 41.71875 45.5625 \r\nQ 45.3125 48.734375 45.3125 54.390625 \r\nQ 45.3125 60.0625 41.71875 63.234375 \r\nQ 38.140625 66.40625 31.78125 66.40625 \r\nQ 25.390625 66.40625 21.84375 63.234375 \r\nQ 18.3125 60.0625 18.3125 54.390625 \r\nz\r\n\" id=\"DejaVuSans-56\"/>\r\n       </defs>\r\n       <use xlink:href=\"#DejaVuSans-56\"/>\r\n       <use x=\"63.623047\" xlink:href=\"#DejaVuSans-48\"/>\r\n      </g>\r\n     </g>\r\n    </g>\r\n    <g id=\"xtick_6\">\r\n     <g id=\"line2d_11\">\r\n      <path clip-path=\"url(#pb174bde7c3)\" d=\"M 528.482207 333.36 \r\nL 528.482207 7.2 \r\n\" style=\"fill:none;stroke:#ffffff;stroke-linecap:square;stroke-width:0.8;\"/>\r\n     </g>\r\n     <g id=\"line2d_12\">\r\n      <g>\r\n       <use style=\"fill:#555555;stroke:#555555;stroke-width:0.8;\" x=\"528.482207\" xlink:href=\"#m66a455a842\" y=\"333.36\"/>\r\n      </g>\r\n     </g>\r\n     <g id=\"text_6\">\r\n      <!-- 100 -->\r\n      <g style=\"fill:#555555;\" transform=\"translate(518.938457 347.958438)scale(0.1 -0.1)\">\r\n       <defs>\r\n        <path d=\"M 12.40625 8.296875 \r\nL 28.515625 8.296875 \r\nL 28.515625 63.921875 \r\nL 10.984375 60.40625 \r\nL 10.984375 69.390625 \r\nL 28.421875 72.90625 \r\nL 38.28125 72.90625 \r\nL 38.28125 8.296875 \r\nL 54.390625 8.296875 \r\nL 54.390625 0 \r\nL 12.40625 0 \r\nz\r\n\" id=\"DejaVuSans-49\"/>\r\n       </defs>\r\n       <use xlink:href=\"#DejaVuSans-49\"/>\r\n       <use x=\"63.623047\" xlink:href=\"#DejaVuSans-48\"/>\r\n       <use x=\"127.246094\" xlink:href=\"#DejaVuSans-48\"/>\r\n      </g>\r\n     </g>\r\n    </g>\r\n   </g>\r\n   <g id=\"matplotlib.axis_2\">\r\n    <g id=\"ytick_1\">\r\n     <g id=\"line2d_13\">\r\n      <path clip-path=\"url(#pb174bde7c3)\" d=\"M 48.90125 333.36 \r\nL 551.10125 333.36 \r\n\" style=\"fill:none;stroke:#ffffff;stroke-linecap:square;stroke-width:0.8;\"/>\r\n     </g>\r\n     <g id=\"line2d_14\">\r\n      <defs>\r\n       <path d=\"M 0 0 \r\nL -3.5 0 \r\n\" id=\"m9ffa5483c8\" style=\"stroke:#555555;stroke-width:0.8;\"/>\r\n      </defs>\r\n      <g>\r\n       <use style=\"fill:#555555;stroke:#555555;stroke-width:0.8;\" x=\"48.90125\" xlink:href=\"#m9ffa5483c8\" y=\"333.36\"/>\r\n      </g>\r\n     </g>\r\n     <g id=\"text_7\">\r\n      <!-- 0 -->\r\n      <g style=\"fill:#555555;\" transform=\"translate(35.53875 337.159219)scale(0.1 -0.1)\">\r\n       <use xlink:href=\"#DejaVuSans-48\"/>\r\n      </g>\r\n     </g>\r\n    </g>\r\n    <g id=\"ytick_2\">\r\n     <g id=\"line2d_15\">\r\n      <path clip-path=\"url(#pb174bde7c3)\" d=\"M 48.90125 278.381492 \r\nL 551.10125 278.381492 \r\n\" style=\"fill:none;stroke:#ffffff;stroke-linecap:square;stroke-width:0.8;\"/>\r\n     </g>\r\n     <g id=\"line2d_16\">\r\n      <g>\r\n       <use style=\"fill:#555555;stroke:#555555;stroke-width:0.8;\" x=\"48.90125\" xlink:href=\"#m9ffa5483c8\" y=\"278.381492\"/>\r\n      </g>\r\n     </g>\r\n     <g id=\"text_8\">\r\n      <!-- 20 -->\r\n      <g style=\"fill:#555555;\" transform=\"translate(29.17625 282.180711)scale(0.1 -0.1)\">\r\n       <use xlink:href=\"#DejaVuSans-50\"/>\r\n       <use x=\"63.623047\" xlink:href=\"#DejaVuSans-48\"/>\r\n      </g>\r\n     </g>\r\n    </g>\r\n    <g id=\"ytick_3\">\r\n     <g id=\"line2d_17\">\r\n      <path clip-path=\"url(#pb174bde7c3)\" d=\"M 48.90125 223.402984 \r\nL 551.10125 223.402984 \r\n\" style=\"fill:none;stroke:#ffffff;stroke-linecap:square;stroke-width:0.8;\"/>\r\n     </g>\r\n     <g id=\"line2d_18\">\r\n      <g>\r\n       <use style=\"fill:#555555;stroke:#555555;stroke-width:0.8;\" x=\"48.90125\" xlink:href=\"#m9ffa5483c8\" y=\"223.402984\"/>\r\n      </g>\r\n     </g>\r\n     <g id=\"text_9\">\r\n      <!-- 40 -->\r\n      <g style=\"fill:#555555;\" transform=\"translate(29.17625 227.202202)scale(0.1 -0.1)\">\r\n       <use xlink:href=\"#DejaVuSans-52\"/>\r\n       <use x=\"63.623047\" xlink:href=\"#DejaVuSans-48\"/>\r\n      </g>\r\n     </g>\r\n    </g>\r\n    <g id=\"ytick_4\">\r\n     <g id=\"line2d_19\">\r\n      <path clip-path=\"url(#pb174bde7c3)\" d=\"M 48.90125 168.424475 \r\nL 551.10125 168.424475 \r\n\" style=\"fill:none;stroke:#ffffff;stroke-linecap:square;stroke-width:0.8;\"/>\r\n     </g>\r\n     <g id=\"line2d_20\">\r\n      <g>\r\n       <use style=\"fill:#555555;stroke:#555555;stroke-width:0.8;\" x=\"48.90125\" xlink:href=\"#m9ffa5483c8\" y=\"168.424475\"/>\r\n      </g>\r\n     </g>\r\n     <g id=\"text_10\">\r\n      <!-- 60 -->\r\n      <g style=\"fill:#555555;\" transform=\"translate(29.17625 172.223694)scale(0.1 -0.1)\">\r\n       <use xlink:href=\"#DejaVuSans-54\"/>\r\n       <use x=\"63.623047\" xlink:href=\"#DejaVuSans-48\"/>\r\n      </g>\r\n     </g>\r\n    </g>\r\n    <g id=\"ytick_5\">\r\n     <g id=\"line2d_21\">\r\n      <path clip-path=\"url(#pb174bde7c3)\" d=\"M 48.90125 113.445967 \r\nL 551.10125 113.445967 \r\n\" style=\"fill:none;stroke:#ffffff;stroke-linecap:square;stroke-width:0.8;\"/>\r\n     </g>\r\n     <g id=\"line2d_22\">\r\n      <g>\r\n       <use style=\"fill:#555555;stroke:#555555;stroke-width:0.8;\" x=\"48.90125\" xlink:href=\"#m9ffa5483c8\" y=\"113.445967\"/>\r\n      </g>\r\n     </g>\r\n     <g id=\"text_11\">\r\n      <!-- 80 -->\r\n      <g style=\"fill:#555555;\" transform=\"translate(29.17625 117.245186)scale(0.1 -0.1)\">\r\n       <use xlink:href=\"#DejaVuSans-56\"/>\r\n       <use x=\"63.623047\" xlink:href=\"#DejaVuSans-48\"/>\r\n      </g>\r\n     </g>\r\n    </g>\r\n    <g id=\"ytick_6\">\r\n     <g id=\"line2d_23\">\r\n      <path clip-path=\"url(#pb174bde7c3)\" d=\"M 48.90125 58.467459 \r\nL 551.10125 58.467459 \r\n\" style=\"fill:none;stroke:#ffffff;stroke-linecap:square;stroke-width:0.8;\"/>\r\n     </g>\r\n     <g id=\"line2d_24\">\r\n      <g>\r\n       <use style=\"fill:#555555;stroke:#555555;stroke-width:0.8;\" x=\"48.90125\" xlink:href=\"#m9ffa5483c8\" y=\"58.467459\"/>\r\n      </g>\r\n     </g>\r\n     <g id=\"text_12\">\r\n      <!-- 100 -->\r\n      <g style=\"fill:#555555;\" transform=\"translate(22.81375 62.266678)scale(0.1 -0.1)\">\r\n       <use xlink:href=\"#DejaVuSans-49\"/>\r\n       <use x=\"63.623047\" xlink:href=\"#DejaVuSans-48\"/>\r\n       <use x=\"127.246094\" xlink:href=\"#DejaVuSans-48\"/>\r\n      </g>\r\n     </g>\r\n    </g>\r\n    <g id=\"text_13\">\r\n     <!-- Count -->\r\n     <g style=\"fill:#555555;\" transform=\"translate(16.318125 188.098125)rotate(-90)scale(0.12 -0.12)\">\r\n      <defs>\r\n       <path d=\"M 64.40625 67.28125 \r\nL 64.40625 56.890625 \r\nQ 59.421875 61.53125 53.78125 63.8125 \r\nQ 48.140625 66.109375 41.796875 66.109375 \r\nQ 29.296875 66.109375 22.65625 58.46875 \r\nQ 16.015625 50.828125 16.015625 36.375 \r\nQ 16.015625 21.96875 22.65625 14.328125 \r\nQ 29.296875 6.6875 41.796875 6.6875 \r\nQ 48.140625 6.6875 53.78125 8.984375 \r\nQ 59.421875 11.28125 64.40625 15.921875 \r\nL 64.40625 5.609375 \r\nQ 59.234375 2.09375 53.4375 0.328125 \r\nQ 47.65625 -1.421875 41.21875 -1.421875 \r\nQ 24.65625 -1.421875 15.125 8.703125 \r\nQ 5.609375 18.84375 5.609375 36.375 \r\nQ 5.609375 53.953125 15.125 64.078125 \r\nQ 24.65625 74.21875 41.21875 74.21875 \r\nQ 47.75 74.21875 53.53125 72.484375 \r\nQ 59.328125 70.75 64.40625 67.28125 \r\nz\r\n\" id=\"DejaVuSans-67\"/>\r\n       <path d=\"M 30.609375 48.390625 \r\nQ 23.390625 48.390625 19.1875 42.75 \r\nQ 14.984375 37.109375 14.984375 27.296875 \r\nQ 14.984375 17.484375 19.15625 11.84375 \r\nQ 23.34375 6.203125 30.609375 6.203125 \r\nQ 37.796875 6.203125 41.984375 11.859375 \r\nQ 46.1875 17.53125 46.1875 27.296875 \r\nQ 46.1875 37.015625 41.984375 42.703125 \r\nQ 37.796875 48.390625 30.609375 48.390625 \r\nz\r\nM 30.609375 56 \r\nQ 42.328125 56 49.015625 48.375 \r\nQ 55.71875 40.765625 55.71875 27.296875 \r\nQ 55.71875 13.875 49.015625 6.21875 \r\nQ 42.328125 -1.421875 30.609375 -1.421875 \r\nQ 18.84375 -1.421875 12.171875 6.21875 \r\nQ 5.515625 13.875 5.515625 27.296875 \r\nQ 5.515625 40.765625 12.171875 48.375 \r\nQ 18.84375 56 30.609375 56 \r\nz\r\n\" id=\"DejaVuSans-111\"/>\r\n       <path d=\"M 8.5 21.578125 \r\nL 8.5 54.6875 \r\nL 17.484375 54.6875 \r\nL 17.484375 21.921875 \r\nQ 17.484375 14.15625 20.5 10.265625 \r\nQ 23.53125 6.390625 29.59375 6.390625 \r\nQ 36.859375 6.390625 41.078125 11.03125 \r\nQ 45.3125 15.671875 45.3125 23.6875 \r\nL 45.3125 54.6875 \r\nL 54.296875 54.6875 \r\nL 54.296875 0 \r\nL 45.3125 0 \r\nL 45.3125 8.40625 \r\nQ 42.046875 3.421875 37.71875 1 \r\nQ 33.40625 -1.421875 27.6875 -1.421875 \r\nQ 18.265625 -1.421875 13.375 4.4375 \r\nQ 8.5 10.296875 8.5 21.578125 \r\nz\r\nM 31.109375 56 \r\nz\r\n\" id=\"DejaVuSans-117\"/>\r\n       <path d=\"M 54.890625 33.015625 \r\nL 54.890625 0 \r\nL 45.90625 0 \r\nL 45.90625 32.71875 \r\nQ 45.90625 40.484375 42.875 44.328125 \r\nQ 39.84375 48.1875 33.796875 48.1875 \r\nQ 26.515625 48.1875 22.3125 43.546875 \r\nQ 18.109375 38.921875 18.109375 30.90625 \r\nL 18.109375 0 \r\nL 9.078125 0 \r\nL 9.078125 54.6875 \r\nL 18.109375 54.6875 \r\nL 18.109375 46.1875 \r\nQ 21.34375 51.125 25.703125 53.5625 \r\nQ 30.078125 56 35.796875 56 \r\nQ 45.21875 56 50.046875 50.171875 \r\nQ 54.890625 44.34375 54.890625 33.015625 \r\nz\r\n\" id=\"DejaVuSans-110\"/>\r\n       <path d=\"M 18.3125 70.21875 \r\nL 18.3125 54.6875 \r\nL 36.8125 54.6875 \r\nL 36.8125 47.703125 \r\nL 18.3125 47.703125 \r\nL 18.3125 18.015625 \r\nQ 18.3125 11.328125 20.140625 9.421875 \r\nQ 21.96875 7.515625 27.59375 7.515625 \r\nL 36.8125 7.515625 \r\nL 36.8125 0 \r\nL 27.59375 0 \r\nQ 17.1875 0 13.234375 3.875 \r\nQ 9.28125 7.765625 9.28125 18.015625 \r\nL 9.28125 47.703125 \r\nL 2.6875 47.703125 \r\nL 2.6875 54.6875 \r\nL 9.28125 54.6875 \r\nL 9.28125 70.21875 \r\nz\r\n\" id=\"DejaVuSans-116\"/>\r\n      </defs>\r\n      <use xlink:href=\"#DejaVuSans-67\"/>\r\n      <use x=\"69.824219\" xlink:href=\"#DejaVuSans-111\"/>\r\n      <use x=\"131.005859\" xlink:href=\"#DejaVuSans-117\"/>\r\n      <use x=\"194.384766\" xlink:href=\"#DejaVuSans-110\"/>\r\n      <use x=\"257.763672\" xlink:href=\"#DejaVuSans-116\"/>\r\n     </g>\r\n    </g>\r\n   </g>\r\n   <g id=\"patch_3\">\r\n    <path clip-path=\"url(#pb174bde7c3)\" d=\"M 71.728523 333.36 \r\nL 117.383068 333.36 \r\nL 117.383068 41.973906 \r\nL 71.728523 41.973906 \r\nz\r\n\" style=\"fill:#adb5bd;fill-opacity:0.75;stroke:#eeeeee;stroke-linejoin:miter;stroke-width:0.5;\"/>\r\n   </g>\r\n   <g id=\"patch_4\">\r\n    <path clip-path=\"url(#pb174bde7c3)\" d=\"M 117.383068 333.36 \r\nL 163.037614 333.36 \r\nL 163.037614 63.96531 \r\nL 117.383068 63.96531 \r\nz\r\n\" style=\"fill:#adb5bd;fill-opacity:0.75;stroke:#eeeeee;stroke-linejoin:miter;stroke-width:0.5;\"/>\r\n   </g>\r\n   <g id=\"patch_5\">\r\n    <path clip-path=\"url(#pb174bde7c3)\" d=\"M 163.037614 333.36 \r\nL 208.692159 333.36 \r\nL 208.692159 69.463161 \r\nL 163.037614 69.463161 \r\nz\r\n\" style=\"fill:#adb5bd;fill-opacity:0.75;stroke:#eeeeee;stroke-linejoin:miter;stroke-width:0.5;\"/>\r\n   </g>\r\n   <g id=\"patch_6\">\r\n    <path clip-path=\"url(#pb174bde7c3)\" d=\"M 208.692159 333.36 \r\nL 254.346705 333.36 \r\nL 254.346705 105.199191 \r\nL 208.692159 105.199191 \r\nz\r\n\" style=\"fill:#adb5bd;fill-opacity:0.75;stroke:#eeeeee;stroke-linejoin:miter;stroke-width:0.5;\"/>\r\n   </g>\r\n   <g id=\"patch_7\">\r\n    <path clip-path=\"url(#pb174bde7c3)\" d=\"M 254.346705 333.36 \r\nL 300.00125 333.36 \r\nL 300.00125 83.207788 \r\nL 254.346705 83.207788 \r\nz\r\n\" style=\"fill:#adb5bd;fill-opacity:0.75;stroke:#eeeeee;stroke-linejoin:miter;stroke-width:0.5;\"/>\r\n   </g>\r\n   <g id=\"patch_8\">\r\n    <path clip-path=\"url(#pb174bde7c3)\" d=\"M 300.00125 333.36 \r\nL 345.655795 333.36 \r\nL 345.655795 58.467459 \r\nL 300.00125 58.467459 \r\nz\r\n\" style=\"fill:#adb5bd;fill-opacity:0.75;stroke:#eeeeee;stroke-linejoin:miter;stroke-width:0.5;\"/>\r\n   </g>\r\n   <g id=\"patch_9\">\r\n    <path clip-path=\"url(#pb174bde7c3)\" d=\"M 345.655795 333.36 \r\nL 391.310341 333.36 \r\nL 391.310341 63.96531 \r\nL 345.655795 63.96531 \r\nz\r\n\" style=\"fill:#adb5bd;fill-opacity:0.75;stroke:#eeeeee;stroke-linejoin:miter;stroke-width:0.5;\"/>\r\n   </g>\r\n   <g id=\"patch_10\">\r\n    <path clip-path=\"url(#pb174bde7c3)\" d=\"M 391.310341 333.36 \r\nL 436.964886 333.36 \r\nL 436.964886 22.731429 \r\nL 391.310341 22.731429 \r\nz\r\n\" style=\"fill:#adb5bd;fill-opacity:0.75;stroke:#eeeeee;stroke-linejoin:miter;stroke-width:0.5;\"/>\r\n   </g>\r\n   <g id=\"patch_11\">\r\n    <path clip-path=\"url(#pb174bde7c3)\" d=\"M 436.964886 333.36 \r\nL 482.619432 333.36 \r\nL 482.619432 28.229279 \r\nL 436.964886 28.229279 \r\nz\r\n\" style=\"fill:#adb5bd;fill-opacity:0.75;stroke:#eeeeee;stroke-linejoin:miter;stroke-width:0.5;\"/>\r\n   </g>\r\n   <g id=\"patch_12\">\r\n    <path clip-path=\"url(#pb174bde7c3)\" d=\"M 482.619432 333.36 \r\nL 528.273977 333.36 \r\nL 528.273977 47.471757 \r\nL 482.619432 47.471757 \r\nz\r\n\" style=\"fill:#adb5bd;fill-opacity:0.75;stroke:#eeeeee;stroke-linejoin:miter;stroke-width:0.5;\"/>\r\n   </g>\r\n   <g id=\"line2d_25\">\r\n    <path clip-path=\"url(#pb174bde7c3)\" d=\"M 48.90125 58.467459 \r\nL 551.10125 58.467459 \r\n\" style=\"fill:none;stroke:#495057;stroke-dasharray:5.55,2.4;stroke-dashoffset:0;stroke-opacity:0.3;stroke-width:1.5;\"/>\r\n   </g>\r\n   <g id=\"patch_13\">\r\n    <path d=\"M 48.90125 333.36 \r\nL 48.90125 7.2 \r\n\" style=\"fill:none;stroke:#ffffff;stroke-linecap:square;stroke-linejoin:miter;\"/>\r\n   </g>\r\n   <g id=\"patch_14\">\r\n    <path d=\"M 551.10125 333.36 \r\nL 551.10125 7.2 \r\n\" style=\"fill:none;stroke:#ffffff;stroke-linecap:square;stroke-linejoin:miter;\"/>\r\n   </g>\r\n   <g id=\"patch_15\">\r\n    <path d=\"M 48.90125 333.36 \r\nL 551.10125 333.36 \r\n\" style=\"fill:none;stroke:#ffffff;stroke-linecap:square;stroke-linejoin:miter;\"/>\r\n   </g>\r\n   <g id=\"patch_16\">\r\n    <path d=\"M 48.90125 7.2 \r\nL 551.10125 7.2 \r\n\" style=\"fill:none;stroke:#ffffff;stroke-linecap:square;stroke-linejoin:miter;\"/>\r\n   </g>\r\n  </g>\r\n </g>\r\n <defs>\r\n  <clipPath id=\"pb174bde7c3\">\r\n   <rect height=\"326.16\" width=\"502.2\" x=\"48.90125\" y=\"7.2\"/>\r\n  </clipPath>\r\n </defs>\r\n</svg>\r\n",
      "image/png": "[encoded data removed]"
     },
     "metadata": {}
    }
   ],
   "source": [
    "# rng.uniform(low=0.0, high=1.0, size=None)\n",
    "# low: lower boundary of the output interval, \n",
    "# high: upper boundary of the output interval,\n",
    "# size: output shape.\n",
    "# generates random numbers from 1 up to 100 in uniform distribution \n",
    "x = rng.uniform(1,100,1000)\n",
    "sns.histplot(x, bins=10, color='#ADB5BD');\n",
    "plt.axhline(100, ls='--', color='#495057', alpha=0.3);"
   ]
  },
  {
   "source": [
    "## References\n",
    "\n",
    "[1] Random Number https://en.wikipedia.org/wiki/Random_number\n",
    "\n",
    "[2] Random number generation https://en.wikipedia.org/wiki/Random_number_generation\n",
    "\n",
    "[3]: Numpy https://en.wikipedia.org/wiki/NumPy\n",
    "\n",
    "[4] Random sampling https://numpy.org/doc/1.19/reference/random/index.html\n",
    "\n",
    "[5] Parallel Random Number Generation https://numpy.org/doc/1.19/reference/random/parallel.html\n",
    "\n",
    "[6] Permutation https://en.wikipedia.org/wiki/Permutation#:~:text=In%20mathematics%2C%20a%20permutation%20of,order%20of%20an%20ordered%20set.\n",
    "\n",
    "[7] Normal distribution https://en.wikipedia.org/wiki/Normal_distribution\n",
    "\n",
    "[8] Empirical rule https://en.wikipedia.org/wiki/68%E2%80%9395%E2%80%9399.7_rule\n",
    "\n",
    "[9] Continuous uniform distribution https://en.wikipedia.org/wiki/Continuous_uniform_distribution\n"
   ],
   "cell_type": "markdown",
   "metadata": {}
  },
  {
   "cell_type": "code",
   "execution_count": null,
   "metadata": {},
   "outputs": [],
   "source": []
  }
 ]
}