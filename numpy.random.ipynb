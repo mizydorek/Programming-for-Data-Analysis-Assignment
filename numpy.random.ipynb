{
 "metadata": {
  "language_info": {
   "codemirror_mode": {
    "name": "ipython",
    "version": 3
   },
   "file_extension": ".py",
   "mimetype": "text/x-python",
   "name": "python",
   "nbconvert_exporter": "python",
   "pygments_lexer": "ipython3",
   "version": "3.9.0-final"
  },
  "orig_nbformat": 2,
  "kernelspec": {
   "name": "python3",
   "display_name": "Python 3.9.0 64-bit ('venv')",
   "metadata": {
    "interpreter": {
     "hash": "c4bf02fa0d2d8d79f40f4e9377b744e8be0d12e17a9fb69fc695f26879842d79"
    }
   }
  }
 },
 "nbformat": 4,
 "nbformat_minor": 2,
 "cells": [
  {
   "source": [
    "# The numpy.random package."
   ],
   "cell_type": "markdown",
   "metadata": {}
  },
  {
   "source": [
    "# Table of contents\n",
    "1. [Randomness](#Randomness)\n",
    "2. [Numpy](#Numpy)\n",
    "    1. [Arrays](#Arrays)\n",
    "3. [Simple Random Data](#randomdata)\n",
    "    1. [Integers](#Integers)\n",
    "    2. [Random](#Random)\n",
    "    3. [Choice](#Choice)\n",
    "    4. [Bytes](#Bytes)\n",
    "4. [Permutations](#Permutations)\n",
    "    1. [Shuffle](#Shuffle)\n",
    "    2. [Permutation](#Permutation)\n",
    "5. [Distribution](#randomdata)\n",
    "    1. [Normal](#Normal)"
   ],
   "cell_type": "markdown",
   "metadata": {}
  },
  {
   "source": [
    "## 1. Randomness <a id=\"Randomness\"></a>\n",
    "\n",
    "In mathematics and statistics, random number is a number generated for, or part of some specified distribution presenting statistical randomness.\n",
    "\n",
    "Random numbers that occur in a sequence characterized with two conditions: the values have to be uniformly distributed over a defined interval or set, and it cannot be possible to predict future values based on past ones.[1,2]\n"
   ],
   "cell_type": "markdown",
   "metadata": {}
  },
  {
   "source": [
    "## 2. Numpy <a name=\"Numpy\"></a>\n",
    "\n",
    "Python fundamental package for scientific computing and data analysis that adding support for high-performance, complex multi-dimensional arrays and matrices, along with a wide range of high-level mathematical functions to operate on these arrays such as built-in functions for linear algebra and random number generation. Many Python packages such as Matplotlib, SciPy depend on functionality of Numpy. The numpy.random module enlarges the Python built-in random package about a large number of probability distributions.[^3]\n",
    "\n",
    "### Arrays\n",
    "\n",
    "A Numpy array is flexible grid of values, all of the same type, indexed by a tuple of nonnegative integers for large data sets in Python. The shape of an array is a tuple of integers giving the size of the array along each dimension."
   ],
   "cell_type": "markdown",
   "metadata": {}
  },
  {
   "source": [
    "__Single-dimensional Array__"
   ],
   "cell_type": "markdown",
   "metadata": {}
  },
  {
   "cell_type": "code",
   "execution_count": 1,
   "metadata": {},
   "outputs": [],
   "source": [
    "# import packages\n",
    "import numpy as np\n",
    "import matplotlib.pyplot as plt\n",
    "import seaborn as sns\n",
    "\n",
    "%matplotlib inline\n",
    "plt.style.use('ggplot')\n",
    "plt.rcParams['figure.figsize'] = [9,6]\n",
    "# Construct a new Generator with the default BitGenerator (PCG64).\n",
    "rng = np.random.default_rng()"
   ]
  },
  {
   "cell_type": "code",
   "execution_count": 84,
   "metadata": {},
   "outputs": [
    {
     "output_type": "execute_result",
     "data": {
      "text/plain": [
       "array([1, 2, 3, 4, 5, 6])"
      ]
     },
     "metadata": {},
     "execution_count": 84
    }
   ],
   "source": [
    "# np.array generates an array of numbers\n",
    "array = np.array([1,2,3,4,5,6])\n",
    "array"
   ]
  },
  {
   "cell_type": "code",
   "execution_count": 81,
   "metadata": {},
   "outputs": [
    {
     "output_type": "execute_result",
     "data": {
      "text/plain": [
       "array([1, 2, 3, 4, 5, 6])"
      ]
     },
     "metadata": {},
     "execution_count": 81
    }
   ],
   "source": [
    "# or arange function can be used to generate a range of numbers for the given parameter\n",
    "np.arange(1,7)"
   ]
  },
  {
   "cell_type": "code",
   "execution_count": 67,
   "metadata": {},
   "outputs": [
    {
     "output_type": "execute_result",
     "data": {
      "text/plain": [
       "array([ 0. ,  2.5,  5. ,  7.5, 10. ])"
      ]
     },
     "metadata": {},
     "execution_count": 67
    }
   ],
   "source": [
    "# linspace function returns evenly spaced numbers over a specified interval.\n",
    "np.linspace(0, 10, num=5)"
   ]
  },
  {
   "cell_type": "code",
   "execution_count": 70,
   "metadata": {},
   "outputs": [
    {
     "output_type": "execute_result",
     "data": {
      "text/plain": [
       "(6,)"
      ]
     },
     "metadata": {},
     "execution_count": 70
    }
   ],
   "source": [
    "# numpy array class contains some features we can perform on array \n",
    "# shape returns dimensions of the array\n",
    "array.shape "
   ]
  },
  {
   "cell_type": "code",
   "execution_count": 71,
   "metadata": {},
   "outputs": [
    {
     "output_type": "execute_result",
     "data": {
      "text/plain": [
       "6"
      ]
     },
     "metadata": {},
     "execution_count": 71
    }
   ],
   "source": [
    "# size returns total number of elements in the array\n",
    "array.size"
   ]
  },
  {
   "cell_type": "code",
   "execution_count": 72,
   "metadata": {},
   "outputs": [
    {
     "output_type": "execute_result",
     "data": {
      "text/plain": [
       "1"
      ]
     },
     "metadata": {},
     "execution_count": 72
    }
   ],
   "source": [
    "# ndmi returns the number of axes in the array\n",
    "array.ndim"
   ]
  },
  {
   "cell_type": "code",
   "execution_count": 73,
   "metadata": {},
   "outputs": [
    {
     "output_type": "execute_result",
     "data": {
      "text/plain": [
       "dtype('int32')"
      ]
     },
     "metadata": {},
     "execution_count": 73
    }
   ],
   "source": [
    "# dtype returns the data type of the elements in the array\n",
    "array.dtype"
   ]
  },
  {
   "source": [
    "__Multi-dimensional Array__"
   ],
   "cell_type": "markdown",
   "metadata": {}
  },
  {
   "cell_type": "code",
   "execution_count": 76,
   "metadata": {},
   "outputs": [
    {
     "output_type": "execute_result",
     "data": {
      "text/plain": [
       "array([[1, 2, 3],\n",
       "       [4, 5, 6]])"
      ]
     },
     "metadata": {},
     "execution_count": 76
    }
   ],
   "source": [
    "# numpy array can be use to generate multi-dimensional array \n",
    "np.array([(1,2,3),(4,5,6)])"
   ]
  },
  {
   "cell_type": "code",
   "execution_count": 79,
   "metadata": {},
   "outputs": [
    {
     "output_type": "execute_result",
     "data": {
      "text/plain": [
       "array([[1, 2, 3],\n",
       "       [4, 5, 6]])"
      ]
     },
     "metadata": {},
     "execution_count": 79
    }
   ],
   "source": [
    "# or reshape function can be perform on arange to create multi-dimensional array\n",
    "np.arange(1,7).reshape(2,3)"
   ]
  },
  {
   "source": [
    "## 3. Simple random data <div id='randomdata'/>\n",
    "\n",
    "Simple random sample is a subset of members chosen from a larger set (a population). In which each member of the subset is chosen randomly and has an equal probability of being chosen at any stage during the sampling process. A simple random sample is meant to be an unbiased representation of a group.\n",
    "\n",
    "- **Integers** *returns random integers*\n",
    "- **Random** *return random floats*\n",
    "- **Choice** *return a random sample from a given 1-D array*\n",
    "- **Bytes** *return randombytes*"
   ],
   "cell_type": "markdown",
   "metadata": {}
  },
  {
   "source": [
    "### Generating Random Integer"
   ],
   "cell_type": "markdown",
   "metadata": {}
  },
  {
   "cell_type": "code",
   "execution_count": 162,
   "metadata": {},
   "outputs": [
    {
     "output_type": "execute_result",
     "data": {
      "text/plain": [
       "5"
      ]
     },
     "metadata": {},
     "execution_count": 162
    }
   ],
   "source": [
    "# Construct a new Generator with the default BitGenerator (PCG64).\n",
    "# rng = np.random.default_rng()\n",
    "# rng.integers(low, high=None, size=None, dtype=np.int)\n",
    "\n",
    "# generates a random integer in the range from 0(inclusive) to 9(exclusive)\n",
    "# equivalent to rng.integers(0, 10)\n",
    "rng.integers(10)"
   ]
  },
  {
   "cell_type": "code",
   "execution_count": 3,
   "metadata": {},
   "outputs": [
    {
     "output_type": "execute_result",
     "data": {
      "text/plain": [
       "array([0, 1, 1, 0, 1, 0, 0, 0, 1, 1], dtype=int64)"
      ]
     },
     "metadata": {},
     "execution_count": 3
    }
   ],
   "source": [
    "# Generates array of numbers from 0 to 1 of size equals 10\n",
    "# size parameter allows to specify dimension of the array \n",
    "rng.integers(2, size=10)\n"
   ]
  },
  {
   "cell_type": "code",
   "execution_count": 158,
   "metadata": {},
   "outputs": [
    {
     "output_type": "execute_result",
     "data": {
      "text/plain": [
       "array([[2, 2, 0, 7, 0, 3, 7, 7, 1, 4],\n",
       "       [1, 9, 5, 0, 3, 6, 2, 5, 4, 7],\n",
       "       [4, 5, 7, 9, 4, 7, 8, 9, 9, 8]], dtype=int64)"
      ]
     },
     "metadata": {},
     "execution_count": 158
    }
   ],
   "source": [
    "# Returns a random number from low(inclusive) to high(exclusive) with shape (3,10) \n",
    "rng.integers(0, 10, size=(3,10))\n"
   ]
  },
  {
   "cell_type": "code",
   "execution_count": 228,
   "metadata": {},
   "outputs": [
    {
     "output_type": "execute_result",
     "data": {
      "text/plain": [
       "array([1, 2, 3], dtype=int64)"
      ]
     },
     "metadata": {},
     "execution_count": 228
    }
   ],
   "source": [
    "# Generates a 1 by 3 array with lower bound 0 and upper bound any of(2,3,4) \n",
    "rng.integers([2,3,4])"
   ]
  },
  {
   "cell_type": "code",
   "execution_count": 2,
   "metadata": {},
   "outputs": [
    {
     "output_type": "display_data",
     "data": {
      "text/plain": "<Figure size 648x432 with 1 Axes>",
      "image/svg+xml": "<?xml version=\"1.0\" encoding=\"utf-8\" standalone=\"no\"?>\r\n<!DOCTYPE svg PUBLIC \"-//W3C//DTD SVG 1.1//EN\"\r\n  \"http://www.w3.org/Graphics/SVG/1.1/DTD/svg11.dtd\">\r\n<!-- Created with matplotlib (https://matplotlib.org/) -->\r\n<svg height=\"357.238125pt\" version=\"1.1\" viewBox=\"0 0 558.30125 357.238125\" width=\"558.30125pt\" xmlns=\"http://www.w3.org/2000/svg\" xmlns:xlink=\"http://www.w3.org/1999/xlink\">\r\n <metadata>\r\n  <rdf:RDF xmlns:cc=\"http://creativecommons.org/ns#\" xmlns:dc=\"http://purl.org/dc/elements/1.1/\" xmlns:rdf=\"http://www.w3.org/1999/02/22-rdf-syntax-ns#\">\r\n   <cc:Work>\r\n    <dc:type rdf:resource=\"http://purl.org/dc/dcmitype/StillImage\"/>\r\n    <dc:date>2020-11-12T15:39:43.448207</dc:date>\r\n    <dc:format>image/svg+xml</dc:format>\r\n    <dc:creator>\r\n     <cc:Agent>\r\n      <dc:title>Matplotlib v3.3.2, https://matplotlib.org/</dc:title>\r\n     </cc:Agent>\r\n    </dc:creator>\r\n   </cc:Work>\r\n  </rdf:RDF>\r\n </metadata>\r\n <defs>\r\n  <style type=\"text/css\">*{stroke-linecap:butt;stroke-linejoin:round;}</style>\r\n </defs>\r\n <g id=\"figure_1\">\r\n  <g id=\"patch_1\">\r\n   <path d=\"M 0 357.238125 \r\nL 558.30125 357.238125 \r\nL 558.30125 0 \r\nL 0 0 \r\nz\r\n\" style=\"fill:#ffffff;\"/>\r\n  </g>\r\n  <g id=\"axes_1\">\r\n   <g id=\"patch_2\">\r\n    <path d=\"M 48.90125 333.36 \r\nL 551.10125 333.36 \r\nL 551.10125 7.2 \r\nL 48.90125 7.2 \r\nz\r\n\" style=\"fill:#e5e5e5;\"/>\r\n   </g>\r\n   <g id=\"matplotlib.axis_1\">\r\n    <g id=\"xtick_1\">\r\n     <g id=\"line2d_1\">\r\n      <path clip-path=\"url(#p05c32a6813)\" d=\"M 71.728523 333.36 \r\nL 71.728523 7.2 \r\n\" style=\"fill:none;stroke:#ffffff;stroke-linecap:square;stroke-width:0.8;\"/>\r\n     </g>\r\n     <g id=\"line2d_2\">\r\n      <defs>\r\n       <path d=\"M 0 0 \r\nL 0 3.5 \r\n\" id=\"mdee67786c5\" style=\"stroke:#555555;stroke-width:0.8;\"/>\r\n      </defs>\r\n      <g>\r\n       <use style=\"fill:#555555;stroke:#555555;stroke-width:0.8;\" x=\"71.728523\" xlink:href=\"#mdee67786c5\" y=\"333.36\"/>\r\n      </g>\r\n     </g>\r\n     <g id=\"text_1\">\r\n      <!-- 0 -->\r\n      <g style=\"fill:#555555;\" transform=\"translate(68.547273 347.958438)scale(0.1 -0.1)\">\r\n       <defs>\r\n        <path d=\"M 31.78125 66.40625 \r\nQ 24.171875 66.40625 20.328125 58.90625 \r\nQ 16.5 51.421875 16.5 36.375 \r\nQ 16.5 21.390625 20.328125 13.890625 \r\nQ 24.171875 6.390625 31.78125 6.390625 \r\nQ 39.453125 6.390625 43.28125 13.890625 \r\nQ 47.125 21.390625 47.125 36.375 \r\nQ 47.125 51.421875 43.28125 58.90625 \r\nQ 39.453125 66.40625 31.78125 66.40625 \r\nz\r\nM 31.78125 74.21875 \r\nQ 44.046875 74.21875 50.515625 64.515625 \r\nQ 56.984375 54.828125 56.984375 36.375 \r\nQ 56.984375 17.96875 50.515625 8.265625 \r\nQ 44.046875 -1.421875 31.78125 -1.421875 \r\nQ 19.53125 -1.421875 13.0625 8.265625 \r\nQ 6.59375 17.96875 6.59375 36.375 \r\nQ 6.59375 54.828125 13.0625 64.515625 \r\nQ 19.53125 74.21875 31.78125 74.21875 \r\nz\r\n\" id=\"DejaVuSans-48\"/>\r\n       </defs>\r\n       <use xlink:href=\"#DejaVuSans-48\"/>\r\n      </g>\r\n     </g>\r\n    </g>\r\n    <g id=\"xtick_2\">\r\n     <g id=\"line2d_3\">\r\n      <path clip-path=\"url(#p05c32a6813)\" d=\"M 163.959928 333.36 \r\nL 163.959928 7.2 \r\n\" style=\"fill:none;stroke:#ffffff;stroke-linecap:square;stroke-width:0.8;\"/>\r\n     </g>\r\n     <g id=\"line2d_4\">\r\n      <g>\r\n       <use style=\"fill:#555555;stroke:#555555;stroke-width:0.8;\" x=\"163.959928\" xlink:href=\"#mdee67786c5\" y=\"333.36\"/>\r\n      </g>\r\n     </g>\r\n     <g id=\"text_2\">\r\n      <!-- 20 -->\r\n      <g style=\"fill:#555555;\" transform=\"translate(157.597428 347.958438)scale(0.1 -0.1)\">\r\n       <defs>\r\n        <path d=\"M 19.1875 8.296875 \r\nL 53.609375 8.296875 \r\nL 53.609375 0 \r\nL 7.328125 0 \r\nL 7.328125 8.296875 \r\nQ 12.9375 14.109375 22.625 23.890625 \r\nQ 32.328125 33.6875 34.8125 36.53125 \r\nQ 39.546875 41.84375 41.421875 45.53125 \r\nQ 43.3125 49.21875 43.3125 52.78125 \r\nQ 43.3125 58.59375 39.234375 62.25 \r\nQ 35.15625 65.921875 28.609375 65.921875 \r\nQ 23.96875 65.921875 18.8125 64.3125 \r\nQ 13.671875 62.703125 7.8125 59.421875 \r\nL 7.8125 69.390625 \r\nQ 13.765625 71.78125 18.9375 73 \r\nQ 24.125 74.21875 28.421875 74.21875 \r\nQ 39.75 74.21875 46.484375 68.546875 \r\nQ 53.21875 62.890625 53.21875 53.421875 \r\nQ 53.21875 48.921875 51.53125 44.890625 \r\nQ 49.859375 40.875 45.40625 35.40625 \r\nQ 44.1875 33.984375 37.640625 27.21875 \r\nQ 31.109375 20.453125 19.1875 8.296875 \r\nz\r\n\" id=\"DejaVuSans-50\"/>\r\n       </defs>\r\n       <use xlink:href=\"#DejaVuSans-50\"/>\r\n       <use x=\"63.623047\" xlink:href=\"#DejaVuSans-48\"/>\r\n      </g>\r\n     </g>\r\n    </g>\r\n    <g id=\"xtick_3\">\r\n     <g id=\"line2d_5\">\r\n      <path clip-path=\"url(#p05c32a6813)\" d=\"M 256.191333 333.36 \r\nL 256.191333 7.2 \r\n\" style=\"fill:none;stroke:#ffffff;stroke-linecap:square;stroke-width:0.8;\"/>\r\n     </g>\r\n     <g id=\"line2d_6\">\r\n      <g>\r\n       <use style=\"fill:#555555;stroke:#555555;stroke-width:0.8;\" x=\"256.191333\" xlink:href=\"#mdee67786c5\" y=\"333.36\"/>\r\n      </g>\r\n     </g>\r\n     <g id=\"text_3\">\r\n      <!-- 40 -->\r\n      <g style=\"fill:#555555;\" transform=\"translate(249.828833 347.958438)scale(0.1 -0.1)\">\r\n       <defs>\r\n        <path d=\"M 37.796875 64.3125 \r\nL 12.890625 25.390625 \r\nL 37.796875 25.390625 \r\nz\r\nM 35.203125 72.90625 \r\nL 47.609375 72.90625 \r\nL 47.609375 25.390625 \r\nL 58.015625 25.390625 \r\nL 58.015625 17.1875 \r\nL 47.609375 17.1875 \r\nL 47.609375 0 \r\nL 37.796875 0 \r\nL 37.796875 17.1875 \r\nL 4.890625 17.1875 \r\nL 4.890625 26.703125 \r\nz\r\n\" id=\"DejaVuSans-52\"/>\r\n       </defs>\r\n       <use xlink:href=\"#DejaVuSans-52\"/>\r\n       <use x=\"63.623047\" xlink:href=\"#DejaVuSans-48\"/>\r\n      </g>\r\n     </g>\r\n    </g>\r\n    <g id=\"xtick_4\">\r\n     <g id=\"line2d_7\">\r\n      <path clip-path=\"url(#p05c32a6813)\" d=\"M 348.422738 333.36 \r\nL 348.422738 7.2 \r\n\" style=\"fill:none;stroke:#ffffff;stroke-linecap:square;stroke-width:0.8;\"/>\r\n     </g>\r\n     <g id=\"line2d_8\">\r\n      <g>\r\n       <use style=\"fill:#555555;stroke:#555555;stroke-width:0.8;\" x=\"348.422738\" xlink:href=\"#mdee67786c5\" y=\"333.36\"/>\r\n      </g>\r\n     </g>\r\n     <g id=\"text_4\">\r\n      <!-- 60 -->\r\n      <g style=\"fill:#555555;\" transform=\"translate(342.060238 347.958438)scale(0.1 -0.1)\">\r\n       <defs>\r\n        <path d=\"M 33.015625 40.375 \r\nQ 26.375 40.375 22.484375 35.828125 \r\nQ 18.609375 31.296875 18.609375 23.390625 \r\nQ 18.609375 15.53125 22.484375 10.953125 \r\nQ 26.375 6.390625 33.015625 6.390625 \r\nQ 39.65625 6.390625 43.53125 10.953125 \r\nQ 47.40625 15.53125 47.40625 23.390625 \r\nQ 47.40625 31.296875 43.53125 35.828125 \r\nQ 39.65625 40.375 33.015625 40.375 \r\nz\r\nM 52.59375 71.296875 \r\nL 52.59375 62.3125 \r\nQ 48.875 64.0625 45.09375 64.984375 \r\nQ 41.3125 65.921875 37.59375 65.921875 \r\nQ 27.828125 65.921875 22.671875 59.328125 \r\nQ 17.53125 52.734375 16.796875 39.40625 \r\nQ 19.671875 43.65625 24.015625 45.921875 \r\nQ 28.375 48.1875 33.59375 48.1875 \r\nQ 44.578125 48.1875 50.953125 41.515625 \r\nQ 57.328125 34.859375 57.328125 23.390625 \r\nQ 57.328125 12.15625 50.6875 5.359375 \r\nQ 44.046875 -1.421875 33.015625 -1.421875 \r\nQ 20.359375 -1.421875 13.671875 8.265625 \r\nQ 6.984375 17.96875 6.984375 36.375 \r\nQ 6.984375 53.65625 15.1875 63.9375 \r\nQ 23.390625 74.21875 37.203125 74.21875 \r\nQ 40.921875 74.21875 44.703125 73.484375 \r\nQ 48.484375 72.75 52.59375 71.296875 \r\nz\r\n\" id=\"DejaVuSans-54\"/>\r\n       </defs>\r\n       <use xlink:href=\"#DejaVuSans-54\"/>\r\n       <use x=\"63.623047\" xlink:href=\"#DejaVuSans-48\"/>\r\n      </g>\r\n     </g>\r\n    </g>\r\n    <g id=\"xtick_5\">\r\n     <g id=\"line2d_9\">\r\n      <path clip-path=\"url(#p05c32a6813)\" d=\"M 440.654143 333.36 \r\nL 440.654143 7.2 \r\n\" style=\"fill:none;stroke:#ffffff;stroke-linecap:square;stroke-width:0.8;\"/>\r\n     </g>\r\n     <g id=\"line2d_10\">\r\n      <g>\r\n       <use style=\"fill:#555555;stroke:#555555;stroke-width:0.8;\" x=\"440.654143\" xlink:href=\"#mdee67786c5\" y=\"333.36\"/>\r\n      </g>\r\n     </g>\r\n     <g id=\"text_5\">\r\n      <!-- 80 -->\r\n      <g style=\"fill:#555555;\" transform=\"translate(434.291643 347.958438)scale(0.1 -0.1)\">\r\n       <defs>\r\n        <path d=\"M 31.78125 34.625 \r\nQ 24.75 34.625 20.71875 30.859375 \r\nQ 16.703125 27.09375 16.703125 20.515625 \r\nQ 16.703125 13.921875 20.71875 10.15625 \r\nQ 24.75 6.390625 31.78125 6.390625 \r\nQ 38.8125 6.390625 42.859375 10.171875 \r\nQ 46.921875 13.96875 46.921875 20.515625 \r\nQ 46.921875 27.09375 42.890625 30.859375 \r\nQ 38.875 34.625 31.78125 34.625 \r\nz\r\nM 21.921875 38.8125 \r\nQ 15.578125 40.375 12.03125 44.71875 \r\nQ 8.5 49.078125 8.5 55.328125 \r\nQ 8.5 64.0625 14.71875 69.140625 \r\nQ 20.953125 74.21875 31.78125 74.21875 \r\nQ 42.671875 74.21875 48.875 69.140625 \r\nQ 55.078125 64.0625 55.078125 55.328125 \r\nQ 55.078125 49.078125 51.53125 44.71875 \r\nQ 48 40.375 41.703125 38.8125 \r\nQ 48.828125 37.15625 52.796875 32.3125 \r\nQ 56.78125 27.484375 56.78125 20.515625 \r\nQ 56.78125 9.90625 50.3125 4.234375 \r\nQ 43.84375 -1.421875 31.78125 -1.421875 \r\nQ 19.734375 -1.421875 13.25 4.234375 \r\nQ 6.78125 9.90625 6.78125 20.515625 \r\nQ 6.78125 27.484375 10.78125 32.3125 \r\nQ 14.796875 37.15625 21.921875 38.8125 \r\nz\r\nM 18.3125 54.390625 \r\nQ 18.3125 48.734375 21.84375 45.5625 \r\nQ 25.390625 42.390625 31.78125 42.390625 \r\nQ 38.140625 42.390625 41.71875 45.5625 \r\nQ 45.3125 48.734375 45.3125 54.390625 \r\nQ 45.3125 60.0625 41.71875 63.234375 \r\nQ 38.140625 66.40625 31.78125 66.40625 \r\nQ 25.390625 66.40625 21.84375 63.234375 \r\nQ 18.3125 60.0625 18.3125 54.390625 \r\nz\r\n\" id=\"DejaVuSans-56\"/>\r\n       </defs>\r\n       <use xlink:href=\"#DejaVuSans-56\"/>\r\n       <use x=\"63.623047\" xlink:href=\"#DejaVuSans-48\"/>\r\n      </g>\r\n     </g>\r\n    </g>\r\n    <g id=\"xtick_6\">\r\n     <g id=\"line2d_11\">\r\n      <path clip-path=\"url(#p05c32a6813)\" d=\"M 532.885548 333.36 \r\nL 532.885548 7.2 \r\n\" style=\"fill:none;stroke:#ffffff;stroke-linecap:square;stroke-width:0.8;\"/>\r\n     </g>\r\n     <g id=\"line2d_12\">\r\n      <g>\r\n       <use style=\"fill:#555555;stroke:#555555;stroke-width:0.8;\" x=\"532.885548\" xlink:href=\"#mdee67786c5\" y=\"333.36\"/>\r\n      </g>\r\n     </g>\r\n     <g id=\"text_6\">\r\n      <!-- 100 -->\r\n      <g style=\"fill:#555555;\" transform=\"translate(523.341798 347.958438)scale(0.1 -0.1)\">\r\n       <defs>\r\n        <path d=\"M 12.40625 8.296875 \r\nL 28.515625 8.296875 \r\nL 28.515625 63.921875 \r\nL 10.984375 60.40625 \r\nL 10.984375 69.390625 \r\nL 28.421875 72.90625 \r\nL 38.28125 72.90625 \r\nL 38.28125 8.296875 \r\nL 54.390625 8.296875 \r\nL 54.390625 0 \r\nL 12.40625 0 \r\nz\r\n\" id=\"DejaVuSans-49\"/>\r\n       </defs>\r\n       <use xlink:href=\"#DejaVuSans-49\"/>\r\n       <use x=\"63.623047\" xlink:href=\"#DejaVuSans-48\"/>\r\n       <use x=\"127.246094\" xlink:href=\"#DejaVuSans-48\"/>\r\n      </g>\r\n     </g>\r\n    </g>\r\n   </g>\r\n   <g id=\"matplotlib.axis_2\">\r\n    <g id=\"ytick_1\">\r\n     <g id=\"line2d_13\">\r\n      <path clip-path=\"url(#p05c32a6813)\" d=\"M 48.90125 333.36 \r\nL 551.10125 333.36 \r\n\" style=\"fill:none;stroke:#ffffff;stroke-linecap:square;stroke-width:0.8;\"/>\r\n     </g>\r\n     <g id=\"line2d_14\">\r\n      <defs>\r\n       <path d=\"M 0 0 \r\nL -3.5 0 \r\n\" id=\"mdcd7957ed4\" style=\"stroke:#555555;stroke-width:0.8;\"/>\r\n      </defs>\r\n      <g>\r\n       <use style=\"fill:#555555;stroke:#555555;stroke-width:0.8;\" x=\"48.90125\" xlink:href=\"#mdcd7957ed4\" y=\"333.36\"/>\r\n      </g>\r\n     </g>\r\n     <g id=\"text_7\">\r\n      <!-- 0 -->\r\n      <g style=\"fill:#555555;\" transform=\"translate(35.53875 337.159219)scale(0.1 -0.1)\">\r\n       <use xlink:href=\"#DejaVuSans-48\"/>\r\n      </g>\r\n     </g>\r\n    </g>\r\n    <g id=\"ytick_2\">\r\n     <g id=\"line2d_15\">\r\n      <path clip-path=\"url(#p05c32a6813)\" d=\"M 48.90125 273.508637 \r\nL 551.10125 273.508637 \r\n\" style=\"fill:none;stroke:#ffffff;stroke-linecap:square;stroke-width:0.8;\"/>\r\n     </g>\r\n     <g id=\"line2d_16\">\r\n      <g>\r\n       <use style=\"fill:#555555;stroke:#555555;stroke-width:0.8;\" x=\"48.90125\" xlink:href=\"#mdcd7957ed4\" y=\"273.508637\"/>\r\n      </g>\r\n     </g>\r\n     <g id=\"text_8\">\r\n      <!-- 100 -->\r\n      <g style=\"fill:#555555;\" transform=\"translate(22.81375 277.307856)scale(0.1 -0.1)\">\r\n       <use xlink:href=\"#DejaVuSans-49\"/>\r\n       <use x=\"63.623047\" xlink:href=\"#DejaVuSans-48\"/>\r\n       <use x=\"127.246094\" xlink:href=\"#DejaVuSans-48\"/>\r\n      </g>\r\n     </g>\r\n    </g>\r\n    <g id=\"ytick_3\">\r\n     <g id=\"line2d_17\">\r\n      <path clip-path=\"url(#p05c32a6813)\" d=\"M 48.90125 213.657275 \r\nL 551.10125 213.657275 \r\n\" style=\"fill:none;stroke:#ffffff;stroke-linecap:square;stroke-width:0.8;\"/>\r\n     </g>\r\n     <g id=\"line2d_18\">\r\n      <g>\r\n       <use style=\"fill:#555555;stroke:#555555;stroke-width:0.8;\" x=\"48.90125\" xlink:href=\"#mdcd7957ed4\" y=\"213.657275\"/>\r\n      </g>\r\n     </g>\r\n     <g id=\"text_9\">\r\n      <!-- 200 -->\r\n      <g style=\"fill:#555555;\" transform=\"translate(22.81375 217.456494)scale(0.1 -0.1)\">\r\n       <use xlink:href=\"#DejaVuSans-50\"/>\r\n       <use x=\"63.623047\" xlink:href=\"#DejaVuSans-48\"/>\r\n       <use x=\"127.246094\" xlink:href=\"#DejaVuSans-48\"/>\r\n      </g>\r\n     </g>\r\n    </g>\r\n    <g id=\"ytick_4\">\r\n     <g id=\"line2d_19\">\r\n      <path clip-path=\"url(#p05c32a6813)\" d=\"M 48.90125 153.805912 \r\nL 551.10125 153.805912 \r\n\" style=\"fill:none;stroke:#ffffff;stroke-linecap:square;stroke-width:0.8;\"/>\r\n     </g>\r\n     <g id=\"line2d_20\">\r\n      <g>\r\n       <use style=\"fill:#555555;stroke:#555555;stroke-width:0.8;\" x=\"48.90125\" xlink:href=\"#mdcd7957ed4\" y=\"153.805912\"/>\r\n      </g>\r\n     </g>\r\n     <g id=\"text_10\">\r\n      <!-- 300 -->\r\n      <g style=\"fill:#555555;\" transform=\"translate(22.81375 157.605131)scale(0.1 -0.1)\">\r\n       <defs>\r\n        <path d=\"M 40.578125 39.3125 \r\nQ 47.65625 37.796875 51.625 33 \r\nQ 55.609375 28.21875 55.609375 21.1875 \r\nQ 55.609375 10.40625 48.1875 4.484375 \r\nQ 40.765625 -1.421875 27.09375 -1.421875 \r\nQ 22.515625 -1.421875 17.65625 -0.515625 \r\nQ 12.796875 0.390625 7.625 2.203125 \r\nL 7.625 11.71875 \r\nQ 11.71875 9.328125 16.59375 8.109375 \r\nQ 21.484375 6.890625 26.8125 6.890625 \r\nQ 36.078125 6.890625 40.9375 10.546875 \r\nQ 45.796875 14.203125 45.796875 21.1875 \r\nQ 45.796875 27.640625 41.28125 31.265625 \r\nQ 36.765625 34.90625 28.71875 34.90625 \r\nL 20.21875 34.90625 \r\nL 20.21875 43.015625 \r\nL 29.109375 43.015625 \r\nQ 36.375 43.015625 40.234375 45.921875 \r\nQ 44.09375 48.828125 44.09375 54.296875 \r\nQ 44.09375 59.90625 40.109375 62.90625 \r\nQ 36.140625 65.921875 28.71875 65.921875 \r\nQ 24.65625 65.921875 20.015625 65.03125 \r\nQ 15.375 64.15625 9.8125 62.3125 \r\nL 9.8125 71.09375 \r\nQ 15.4375 72.65625 20.34375 73.4375 \r\nQ 25.25 74.21875 29.59375 74.21875 \r\nQ 40.828125 74.21875 47.359375 69.109375 \r\nQ 53.90625 64.015625 53.90625 55.328125 \r\nQ 53.90625 49.265625 50.4375 45.09375 \r\nQ 46.96875 40.921875 40.578125 39.3125 \r\nz\r\n\" id=\"DejaVuSans-51\"/>\r\n       </defs>\r\n       <use xlink:href=\"#DejaVuSans-51\"/>\r\n       <use x=\"63.623047\" xlink:href=\"#DejaVuSans-48\"/>\r\n       <use x=\"127.246094\" xlink:href=\"#DejaVuSans-48\"/>\r\n      </g>\r\n     </g>\r\n    </g>\r\n    <g id=\"ytick_5\">\r\n     <g id=\"line2d_21\">\r\n      <path clip-path=\"url(#p05c32a6813)\" d=\"M 48.90125 93.95455 \r\nL 551.10125 93.95455 \r\n\" style=\"fill:none;stroke:#ffffff;stroke-linecap:square;stroke-width:0.8;\"/>\r\n     </g>\r\n     <g id=\"line2d_22\">\r\n      <g>\r\n       <use style=\"fill:#555555;stroke:#555555;stroke-width:0.8;\" x=\"48.90125\" xlink:href=\"#mdcd7957ed4\" y=\"93.95455\"/>\r\n      </g>\r\n     </g>\r\n     <g id=\"text_11\">\r\n      <!-- 400 -->\r\n      <g style=\"fill:#555555;\" transform=\"translate(22.81375 97.753769)scale(0.1 -0.1)\">\r\n       <use xlink:href=\"#DejaVuSans-52\"/>\r\n       <use x=\"63.623047\" xlink:href=\"#DejaVuSans-48\"/>\r\n       <use x=\"127.246094\" xlink:href=\"#DejaVuSans-48\"/>\r\n      </g>\r\n     </g>\r\n    </g>\r\n    <g id=\"ytick_6\">\r\n     <g id=\"line2d_23\">\r\n      <path clip-path=\"url(#p05c32a6813)\" d=\"M 48.90125 34.103187 \r\nL 551.10125 34.103187 \r\n\" style=\"fill:none;stroke:#ffffff;stroke-linecap:square;stroke-width:0.8;\"/>\r\n     </g>\r\n     <g id=\"line2d_24\">\r\n      <g>\r\n       <use style=\"fill:#555555;stroke:#555555;stroke-width:0.8;\" x=\"48.90125\" xlink:href=\"#mdcd7957ed4\" y=\"34.103187\"/>\r\n      </g>\r\n     </g>\r\n     <g id=\"text_12\">\r\n      <!-- 500 -->\r\n      <g style=\"fill:#555555;\" transform=\"translate(22.81375 37.902406)scale(0.1 -0.1)\">\r\n       <defs>\r\n        <path d=\"M 10.796875 72.90625 \r\nL 49.515625 72.90625 \r\nL 49.515625 64.59375 \r\nL 19.828125 64.59375 \r\nL 19.828125 46.734375 \r\nQ 21.96875 47.46875 24.109375 47.828125 \r\nQ 26.265625 48.1875 28.421875 48.1875 \r\nQ 40.625 48.1875 47.75 41.5 \r\nQ 54.890625 34.8125 54.890625 23.390625 \r\nQ 54.890625 11.625 47.5625 5.09375 \r\nQ 40.234375 -1.421875 26.90625 -1.421875 \r\nQ 22.3125 -1.421875 17.546875 -0.640625 \r\nQ 12.796875 0.140625 7.71875 1.703125 \r\nL 7.71875 11.625 \r\nQ 12.109375 9.234375 16.796875 8.0625 \r\nQ 21.484375 6.890625 26.703125 6.890625 \r\nQ 35.15625 6.890625 40.078125 11.328125 \r\nQ 45.015625 15.765625 45.015625 23.390625 \r\nQ 45.015625 31 40.078125 35.4375 \r\nQ 35.15625 39.890625 26.703125 39.890625 \r\nQ 22.75 39.890625 18.8125 39.015625 \r\nQ 14.890625 38.140625 10.796875 36.28125 \r\nz\r\n\" id=\"DejaVuSans-53\"/>\r\n       </defs>\r\n       <use xlink:href=\"#DejaVuSans-53\"/>\r\n       <use x=\"63.623047\" xlink:href=\"#DejaVuSans-48\"/>\r\n       <use x=\"127.246094\" xlink:href=\"#DejaVuSans-48\"/>\r\n      </g>\r\n     </g>\r\n    </g>\r\n    <g id=\"text_13\">\r\n     <!-- Count -->\r\n     <g style=\"fill:#555555;\" transform=\"translate(16.318125 188.098125)rotate(-90)scale(0.12 -0.12)\">\r\n      <defs>\r\n       <path d=\"M 64.40625 67.28125 \r\nL 64.40625 56.890625 \r\nQ 59.421875 61.53125 53.78125 63.8125 \r\nQ 48.140625 66.109375 41.796875 66.109375 \r\nQ 29.296875 66.109375 22.65625 58.46875 \r\nQ 16.015625 50.828125 16.015625 36.375 \r\nQ 16.015625 21.96875 22.65625 14.328125 \r\nQ 29.296875 6.6875 41.796875 6.6875 \r\nQ 48.140625 6.6875 53.78125 8.984375 \r\nQ 59.421875 11.28125 64.40625 15.921875 \r\nL 64.40625 5.609375 \r\nQ 59.234375 2.09375 53.4375 0.328125 \r\nQ 47.65625 -1.421875 41.21875 -1.421875 \r\nQ 24.65625 -1.421875 15.125 8.703125 \r\nQ 5.609375 18.84375 5.609375 36.375 \r\nQ 5.609375 53.953125 15.125 64.078125 \r\nQ 24.65625 74.21875 41.21875 74.21875 \r\nQ 47.75 74.21875 53.53125 72.484375 \r\nQ 59.328125 70.75 64.40625 67.28125 \r\nz\r\n\" id=\"DejaVuSans-67\"/>\r\n       <path d=\"M 30.609375 48.390625 \r\nQ 23.390625 48.390625 19.1875 42.75 \r\nQ 14.984375 37.109375 14.984375 27.296875 \r\nQ 14.984375 17.484375 19.15625 11.84375 \r\nQ 23.34375 6.203125 30.609375 6.203125 \r\nQ 37.796875 6.203125 41.984375 11.859375 \r\nQ 46.1875 17.53125 46.1875 27.296875 \r\nQ 46.1875 37.015625 41.984375 42.703125 \r\nQ 37.796875 48.390625 30.609375 48.390625 \r\nz\r\nM 30.609375 56 \r\nQ 42.328125 56 49.015625 48.375 \r\nQ 55.71875 40.765625 55.71875 27.296875 \r\nQ 55.71875 13.875 49.015625 6.21875 \r\nQ 42.328125 -1.421875 30.609375 -1.421875 \r\nQ 18.84375 -1.421875 12.171875 6.21875 \r\nQ 5.515625 13.875 5.515625 27.296875 \r\nQ 5.515625 40.765625 12.171875 48.375 \r\nQ 18.84375 56 30.609375 56 \r\nz\r\n\" id=\"DejaVuSans-111\"/>\r\n       <path d=\"M 8.5 21.578125 \r\nL 8.5 54.6875 \r\nL 17.484375 54.6875 \r\nL 17.484375 21.921875 \r\nQ 17.484375 14.15625 20.5 10.265625 \r\nQ 23.53125 6.390625 29.59375 6.390625 \r\nQ 36.859375 6.390625 41.078125 11.03125 \r\nQ 45.3125 15.671875 45.3125 23.6875 \r\nL 45.3125 54.6875 \r\nL 54.296875 54.6875 \r\nL 54.296875 0 \r\nL 45.3125 0 \r\nL 45.3125 8.40625 \r\nQ 42.046875 3.421875 37.71875 1 \r\nQ 33.40625 -1.421875 27.6875 -1.421875 \r\nQ 18.265625 -1.421875 13.375 4.4375 \r\nQ 8.5 10.296875 8.5 21.578125 \r\nz\r\nM 31.109375 56 \r\nz\r\n\" id=\"DejaVuSans-117\"/>\r\n       <path d=\"M 54.890625 33.015625 \r\nL 54.890625 0 \r\nL 45.90625 0 \r\nL 45.90625 32.71875 \r\nQ 45.90625 40.484375 42.875 44.328125 \r\nQ 39.84375 48.1875 33.796875 48.1875 \r\nQ 26.515625 48.1875 22.3125 43.546875 \r\nQ 18.109375 38.921875 18.109375 30.90625 \r\nL 18.109375 0 \r\nL 9.078125 0 \r\nL 9.078125 54.6875 \r\nL 18.109375 54.6875 \r\nL 18.109375 46.1875 \r\nQ 21.34375 51.125 25.703125 53.5625 \r\nQ 30.078125 56 35.796875 56 \r\nQ 45.21875 56 50.046875 50.171875 \r\nQ 54.890625 44.34375 54.890625 33.015625 \r\nz\r\n\" id=\"DejaVuSans-110\"/>\r\n       <path d=\"M 18.3125 70.21875 \r\nL 18.3125 54.6875 \r\nL 36.8125 54.6875 \r\nL 36.8125 47.703125 \r\nL 18.3125 47.703125 \r\nL 18.3125 18.015625 \r\nQ 18.3125 11.328125 20.140625 9.421875 \r\nQ 21.96875 7.515625 27.59375 7.515625 \r\nL 36.8125 7.515625 \r\nL 36.8125 0 \r\nL 27.59375 0 \r\nQ 17.1875 0 13.234375 3.875 \r\nQ 9.28125 7.765625 9.28125 18.015625 \r\nL 9.28125 47.703125 \r\nL 2.6875 47.703125 \r\nL 2.6875 54.6875 \r\nL 9.28125 54.6875 \r\nL 9.28125 70.21875 \r\nz\r\n\" id=\"DejaVuSans-116\"/>\r\n      </defs>\r\n      <use xlink:href=\"#DejaVuSans-67\"/>\r\n      <use x=\"69.824219\" xlink:href=\"#DejaVuSans-111\"/>\r\n      <use x=\"131.005859\" xlink:href=\"#DejaVuSans-117\"/>\r\n      <use x=\"194.384766\" xlink:href=\"#DejaVuSans-110\"/>\r\n      <use x=\"257.763672\" xlink:href=\"#DejaVuSans-116\"/>\r\n     </g>\r\n    </g>\r\n   </g>\r\n   <g id=\"patch_3\">\r\n    <path clip-path=\"url(#p05c32a6813)\" d=\"M 71.728523 333.36 \r\nL 92.480589 333.36 \r\nL 92.480589 46.07346 \r\nL 71.728523 46.07346 \r\nz\r\n\" style=\"fill:#348abd;fill-opacity:0.75;stroke:#eeeeee;stroke-linejoin:miter;stroke-width:0.5;\"/>\r\n   </g>\r\n   <g id=\"patch_4\">\r\n    <path clip-path=\"url(#p05c32a6813)\" d=\"M 92.480589 333.36 \r\nL 113.232655 333.36 \r\nL 113.232655 80.188737 \r\nL 92.480589 80.188737 \r\nz\r\n\" style=\"fill:#348abd;fill-opacity:0.75;stroke:#eeeeee;stroke-linejoin:miter;stroke-width:0.5;\"/>\r\n   </g>\r\n   <g id=\"patch_5\">\r\n    <path clip-path=\"url(#p05c32a6813)\" d=\"M 113.232655 333.36 \r\nL 133.984721 333.36 \r\nL 133.984721 40.686837 \r\nL 113.232655 40.686837 \r\nz\r\n\" style=\"fill:#348abd;fill-opacity:0.75;stroke:#eeeeee;stroke-linejoin:miter;stroke-width:0.5;\"/>\r\n   </g>\r\n   <g id=\"patch_6\">\r\n    <path clip-path=\"url(#p05c32a6813)\" d=\"M 133.984721 333.36 \r\nL 154.736787 333.36 \r\nL 154.736787 104.727795 \r\nL 133.984721 104.727795 \r\nz\r\n\" style=\"fill:#348abd;fill-opacity:0.75;stroke:#eeeeee;stroke-linejoin:miter;stroke-width:0.5;\"/>\r\n   </g>\r\n   <g id=\"patch_7\">\r\n    <path clip-path=\"url(#p05c32a6813)\" d=\"M 154.736787 333.36 \r\nL 175.488853 333.36 \r\nL 175.488853 29.913592 \r\nL 154.736787 29.913592 \r\nz\r\n\" style=\"fill:#348abd;fill-opacity:0.75;stroke:#eeeeee;stroke-linejoin:miter;stroke-width:0.5;\"/>\r\n   </g>\r\n   <g id=\"patch_8\">\r\n    <path clip-path=\"url(#p05c32a6813)\" d=\"M 175.488853 333.36 \r\nL 196.240919 333.36 \r\nL 196.240919 84.378332 \r\nL 175.488853 84.378332 \r\nz\r\n\" style=\"fill:#348abd;fill-opacity:0.75;stroke:#eeeeee;stroke-linejoin:miter;stroke-width:0.5;\"/>\r\n   </g>\r\n   <g id=\"patch_9\">\r\n    <path clip-path=\"url(#p05c32a6813)\" d=\"M 196.240919 333.36 \r\nL 216.992986 333.36 \r\nL 216.992986 33.504674 \r\nL 196.240919 33.504674 \r\nz\r\n\" style=\"fill:#348abd;fill-opacity:0.75;stroke:#eeeeee;stroke-linejoin:miter;stroke-width:0.5;\"/>\r\n   </g>\r\n   <g id=\"patch_10\">\r\n    <path clip-path=\"url(#p05c32a6813)\" d=\"M 216.992986 333.36 \r\nL 237.745052 333.36 \r\nL 237.745052 100.5382 \r\nL 216.992986 100.5382 \r\nz\r\n\" style=\"fill:#348abd;fill-opacity:0.75;stroke:#eeeeee;stroke-linejoin:miter;stroke-width:0.5;\"/>\r\n   </g>\r\n   <g id=\"patch_11\">\r\n    <path clip-path=\"url(#p05c32a6813)\" d=\"M 237.745052 333.36 \r\nL 258.497118 333.36 \r\nL 258.497118 40.686837 \r\nL 237.745052 40.686837 \r\nz\r\n\" style=\"fill:#348abd;fill-opacity:0.75;stroke:#eeeeee;stroke-linejoin:miter;stroke-width:0.5;\"/>\r\n   </g>\r\n   <g id=\"patch_12\">\r\n    <path clip-path=\"url(#p05c32a6813)\" d=\"M 258.497118 333.36 \r\nL 279.249184 333.36 \r\nL 279.249184 64.028869 \r\nL 258.497118 64.028869 \r\nz\r\n\" style=\"fill:#348abd;fill-opacity:0.75;stroke:#eeeeee;stroke-linejoin:miter;stroke-width:0.5;\"/>\r\n   </g>\r\n   <g id=\"patch_13\">\r\n    <path clip-path=\"url(#p05c32a6813)\" d=\"M 279.249184 333.36 \r\nL 300.00125 333.36 \r\nL 300.00125 28.716565 \r\nL 279.249184 28.716565 \r\nz\r\n\" style=\"fill:#348abd;fill-opacity:0.75;stroke:#eeeeee;stroke-linejoin:miter;stroke-width:0.5;\"/>\r\n   </g>\r\n   <g id=\"patch_14\">\r\n    <path clip-path=\"url(#p05c32a6813)\" d=\"M 300.00125 333.36 \r\nL 320.753316 333.36 \r\nL 320.753316 98.144145 \r\nL 300.00125 98.144145 \r\nz\r\n\" style=\"fill:#348abd;fill-opacity:0.75;stroke:#eeeeee;stroke-linejoin:miter;stroke-width:0.5;\"/>\r\n   </g>\r\n   <g id=\"patch_15\">\r\n    <path clip-path=\"url(#p05c32a6813)\" d=\"M 320.753316 333.36 \r\nL 341.505382 333.36 \r\nL 341.505382 38.891296 \r\nL 320.753316 38.891296 \r\nz\r\n\" style=\"fill:#348abd;fill-opacity:0.75;stroke:#eeeeee;stroke-linejoin:miter;stroke-width:0.5;\"/>\r\n   </g>\r\n   <g id=\"patch_16\">\r\n    <path clip-path=\"url(#p05c32a6813)\" d=\"M 341.505382 333.36 \r\nL 362.257448 333.36 \r\nL 362.257448 87.3709 \r\nL 341.505382 87.3709 \r\nz\r\n\" style=\"fill:#348abd;fill-opacity:0.75;stroke:#eeeeee;stroke-linejoin:miter;stroke-width:0.5;\"/>\r\n   </g>\r\n   <g id=\"patch_17\">\r\n    <path clip-path=\"url(#p05c32a6813)\" d=\"M 362.257448 333.36 \r\nL 383.009514 333.36 \r\nL 383.009514 52.65711 \r\nL 362.257448 52.65711 \r\nz\r\n\" style=\"fill:#348abd;fill-opacity:0.75;stroke:#eeeeee;stroke-linejoin:miter;stroke-width:0.5;\"/>\r\n   </g>\r\n   <g id=\"patch_18\">\r\n    <path clip-path=\"url(#p05c32a6813)\" d=\"M 383.009514 333.36 \r\nL 403.761581 333.36 \r\nL 403.761581 87.969414 \r\nL 383.009514 87.969414 \r\nz\r\n\" style=\"fill:#348abd;fill-opacity:0.75;stroke:#eeeeee;stroke-linejoin:miter;stroke-width:0.5;\"/>\r\n   </g>\r\n   <g id=\"patch_19\">\r\n    <path clip-path=\"url(#p05c32a6813)\" d=\"M 403.761581 333.36 \r\nL 424.513647 333.36 \r\nL 424.513647 64.028869 \r\nL 403.761581 64.028869 \r\nz\r\n\" style=\"fill:#348abd;fill-opacity:0.75;stroke:#eeeeee;stroke-linejoin:miter;stroke-width:0.5;\"/>\r\n   </g>\r\n   <g id=\"patch_20\">\r\n    <path clip-path=\"url(#p05c32a6813)\" d=\"M 424.513647 333.36 \r\nL 445.265713 333.36 \r\nL 445.265713 76.597655 \r\nL 424.513647 76.597655 \r\nz\r\n\" style=\"fill:#348abd;fill-opacity:0.75;stroke:#eeeeee;stroke-linejoin:miter;stroke-width:0.5;\"/>\r\n   </g>\r\n   <g id=\"patch_21\">\r\n    <path clip-path=\"url(#p05c32a6813)\" d=\"M 445.265713 333.36 \r\nL 466.017779 333.36 \r\nL 466.017779 22.731429 \r\nL 445.265713 22.731429 \r\nz\r\n\" style=\"fill:#348abd;fill-opacity:0.75;stroke:#eeeeee;stroke-linejoin:miter;stroke-width:0.5;\"/>\r\n   </g>\r\n   <g id=\"patch_22\">\r\n    <path clip-path=\"url(#p05c32a6813)\" d=\"M 466.017779 333.36 \r\nL 486.769845 333.36 \r\nL 486.769845 92.159009 \r\nL 466.017779 92.159009 \r\nz\r\n\" style=\"fill:#348abd;fill-opacity:0.75;stroke:#eeeeee;stroke-linejoin:miter;stroke-width:0.5;\"/>\r\n   </g>\r\n   <g id=\"patch_23\">\r\n    <path clip-path=\"url(#p05c32a6813)\" d=\"M 486.769845 333.36 \r\nL 507.521911 333.36 \r\nL 507.521911 39.48981 \r\nL 486.769845 39.48981 \r\nz\r\n\" style=\"fill:#348abd;fill-opacity:0.75;stroke:#eeeeee;stroke-linejoin:miter;stroke-width:0.5;\"/>\r\n   </g>\r\n   <g id=\"patch_24\">\r\n    <path clip-path=\"url(#p05c32a6813)\" d=\"M 507.521911 333.36 \r\nL 528.273977 333.36 \r\nL 528.273977 35.300215 \r\nL 507.521911 35.300215 \r\nz\r\n\" style=\"fill:#348abd;fill-opacity:0.75;stroke:#eeeeee;stroke-linejoin:miter;stroke-width:0.5;\"/>\r\n   </g>\r\n   <g id=\"patch_25\">\r\n    <path d=\"M 48.90125 333.36 \r\nL 48.90125 7.2 \r\n\" style=\"fill:none;stroke:#ffffff;stroke-linecap:square;stroke-linejoin:miter;\"/>\r\n   </g>\r\n   <g id=\"patch_26\">\r\n    <path d=\"M 551.10125 333.36 \r\nL 551.10125 7.2 \r\n\" style=\"fill:none;stroke:#ffffff;stroke-linecap:square;stroke-linejoin:miter;\"/>\r\n   </g>\r\n   <g id=\"patch_27\">\r\n    <path d=\"M 48.90125 333.36 \r\nL 551.10125 333.36 \r\n\" style=\"fill:none;stroke:#ffffff;stroke-linecap:square;stroke-linejoin:miter;\"/>\r\n   </g>\r\n   <g id=\"patch_28\">\r\n    <path d=\"M 48.90125 7.2 \r\nL 551.10125 7.2 \r\n\" style=\"fill:none;stroke:#ffffff;stroke-linecap:square;stroke-linejoin:miter;\"/>\r\n   </g>\r\n  </g>\r\n </g>\r\n <defs>\r\n  <clipPath id=\"p05c32a6813\">\r\n   <rect height=\"326.16\" width=\"502.2\" x=\"48.90125\" y=\"7.2\"/>\r\n  </clipPath>\r\n </defs>\r\n</svg>\r\n",
      "image/png": "[encoded data removed]"
     },
     "metadata": {}
    }
   ],
   "source": [
    "# Generates histogram of 10k randomly generated integers \n",
    "x = rng.integers(0,100, size=10000)\n",
    "sns.histplot(x);"
   ]
  },
  {
   "source": [
    "### Generating Random Float"
   ],
   "cell_type": "markdown",
   "metadata": {}
  },
  {
   "cell_type": "code",
   "execution_count": 241,
   "metadata": {},
   "outputs": [
    {
     "output_type": "execute_result",
     "data": {
      "text/plain": [
       "0.4232850697823358"
      ]
     },
     "metadata": {},
     "execution_count": 241
    }
   ],
   "source": [
    "# rng.random(size=None, dtype=np.float64)\n",
    "# generates random float numbers between [0,1)\n",
    "rng.random()\n"
   ]
  },
  {
   "cell_type": "code",
   "execution_count": 242,
   "metadata": {},
   "outputs": [
    {
     "output_type": "execute_result",
     "data": {
      "text/plain": [
       "array([0.81795531, 0.93542186, 0.954963  , 0.4222904 , 0.1529984 ,\n",
       "       0.45988066, 0.80584139, 0.06866685, 0.32621077])"
      ]
     },
     "metadata": {},
     "execution_count": 242
    }
   ],
   "source": [
    "# generates random 1d array of floats of length 9\n",
    "rng.random(9)"
   ]
  },
  {
   "cell_type": "code",
   "execution_count": 244,
   "metadata": {},
   "outputs": [
    {
     "output_type": "execute_result",
     "data": {
      "text/plain": [
       "array([[0.22790089, 0.15456986, 0.88518197],\n",
       "       [0.02714262, 0.32734895, 0.760893  ],\n",
       "       [0.85321772, 0.84501674, 0.80254677]])"
      ]
     },
     "metadata": {},
     "execution_count": 244
    }
   ],
   "source": [
    "# generates 3 by 3 array of floats\n",
    "rng.random((3,3))"
   ]
  },
  {
   "cell_type": "code",
   "execution_count": 256,
   "metadata": {},
   "outputs": [
    {
     "output_type": "execute_result",
     "data": {
      "text/plain": [
       "array([[2.4260803 , 2.34865792, 2.55675154, 3.76956612, 3.46143723],\n",
       "       [2.98877021, 3.61682546, 3.30589514, 3.52977762, 3.69467048]])"
      ]
     },
     "metadata": {},
     "execution_count": 256
    }
   ],
   "source": [
    "# Generates random floats in custom range and of the required shape\n",
    "# a + b * rng.random((c.d)) (where a,b,c,d are optional)\n",
    "\n",
    "2 + 2 * rng.random((2,5))"
   ]
  },
  {
   "cell_type": "code",
   "execution_count": 3,
   "metadata": {},
   "outputs": [
    {
     "output_type": "display_data",
     "data": {
      "text/plain": "<Figure size 648x432 with 1 Axes>",
      "image/svg+xml": "<?xml version=\"1.0\" encoding=\"utf-8\" standalone=\"no\"?>\r\n<!DOCTYPE svg PUBLIC \"-//W3C//DTD SVG 1.1//EN\"\r\n  \"http://www.w3.org/Graphics/SVG/1.1/DTD/svg11.dtd\">\r\n<!-- Created with matplotlib (https://matplotlib.org/) -->\r\n<svg height=\"357.238125pt\" version=\"1.1\" viewBox=\"0 0 558.30125 357.238125\" width=\"558.30125pt\" xmlns=\"http://www.w3.org/2000/svg\" xmlns:xlink=\"http://www.w3.org/1999/xlink\">\r\n <metadata>\r\n  <rdf:RDF xmlns:cc=\"http://creativecommons.org/ns#\" xmlns:dc=\"http://purl.org/dc/elements/1.1/\" xmlns:rdf=\"http://www.w3.org/1999/02/22-rdf-syntax-ns#\">\r\n   <cc:Work>\r\n    <dc:type rdf:resource=\"http://purl.org/dc/dcmitype/StillImage\"/>\r\n    <dc:date>2020-11-12T15:39:49.202002</dc:date>\r\n    <dc:format>image/svg+xml</dc:format>\r\n    <dc:creator>\r\n     <cc:Agent>\r\n      <dc:title>Matplotlib v3.3.2, https://matplotlib.org/</dc:title>\r\n     </cc:Agent>\r\n    </dc:creator>\r\n   </cc:Work>\r\n  </rdf:RDF>\r\n </metadata>\r\n <defs>\r\n  <style type=\"text/css\">*{stroke-linecap:butt;stroke-linejoin:round;}</style>\r\n </defs>\r\n <g id=\"figure_1\">\r\n  <g id=\"patch_1\">\r\n   <path d=\"M 0 357.238125 \r\nL 558.30125 357.238125 \r\nL 558.30125 0 \r\nL 0 0 \r\nz\r\n\" style=\"fill:#ffffff;\"/>\r\n  </g>\r\n  <g id=\"axes_1\">\r\n   <g id=\"patch_2\">\r\n    <path d=\"M 48.90125 333.36 \r\nL 551.10125 333.36 \r\nL 551.10125 7.2 \r\nL 48.90125 7.2 \r\nz\r\n\" style=\"fill:#e5e5e5;\"/>\r\n   </g>\r\n   <g id=\"matplotlib.axis_1\">\r\n    <g id=\"xtick_1\">\r\n     <g id=\"line2d_1\">\r\n      <path clip-path=\"url(#pef7f16980f)\" d=\"M 71.655607 333.36 \r\nL 71.655607 7.2 \r\n\" style=\"fill:none;stroke:#ffffff;stroke-linecap:square;stroke-width:0.8;\"/>\r\n     </g>\r\n     <g id=\"line2d_2\">\r\n      <defs>\r\n       <path d=\"M 0 0 \r\nL 0 3.5 \r\n\" id=\"m93e1774383\" style=\"stroke:#555555;stroke-width:0.8;\"/>\r\n      </defs>\r\n      <g>\r\n       <use style=\"fill:#555555;stroke:#555555;stroke-width:0.8;\" x=\"71.655607\" xlink:href=\"#m93e1774383\" y=\"333.36\"/>\r\n      </g>\r\n     </g>\r\n     <g id=\"text_1\">\r\n      <!-- 0.0 -->\r\n      <g style=\"fill:#555555;\" transform=\"translate(63.704045 347.958438)scale(0.1 -0.1)\">\r\n       <defs>\r\n        <path d=\"M 31.78125 66.40625 \r\nQ 24.171875 66.40625 20.328125 58.90625 \r\nQ 16.5 51.421875 16.5 36.375 \r\nQ 16.5 21.390625 20.328125 13.890625 \r\nQ 24.171875 6.390625 31.78125 6.390625 \r\nQ 39.453125 6.390625 43.28125 13.890625 \r\nQ 47.125 21.390625 47.125 36.375 \r\nQ 47.125 51.421875 43.28125 58.90625 \r\nQ 39.453125 66.40625 31.78125 66.40625 \r\nz\r\nM 31.78125 74.21875 \r\nQ 44.046875 74.21875 50.515625 64.515625 \r\nQ 56.984375 54.828125 56.984375 36.375 \r\nQ 56.984375 17.96875 50.515625 8.265625 \r\nQ 44.046875 -1.421875 31.78125 -1.421875 \r\nQ 19.53125 -1.421875 13.0625 8.265625 \r\nQ 6.59375 17.96875 6.59375 36.375 \r\nQ 6.59375 54.828125 13.0625 64.515625 \r\nQ 19.53125 74.21875 31.78125 74.21875 \r\nz\r\n\" id=\"DejaVuSans-48\"/>\r\n        <path d=\"M 10.6875 12.40625 \r\nL 21 12.40625 \r\nL 21 0 \r\nL 10.6875 0 \r\nz\r\n\" id=\"DejaVuSans-46\"/>\r\n       </defs>\r\n       <use xlink:href=\"#DejaVuSans-48\"/>\r\n       <use x=\"63.623047\" xlink:href=\"#DejaVuSans-46\"/>\r\n       <use x=\"95.410156\" xlink:href=\"#DejaVuSans-48\"/>\r\n      </g>\r\n     </g>\r\n    </g>\r\n    <g id=\"xtick_2\">\r\n     <g id=\"line2d_3\">\r\n      <path clip-path=\"url(#pef7f16980f)\" d=\"M 162.985708 333.36 \r\nL 162.985708 7.2 \r\n\" style=\"fill:none;stroke:#ffffff;stroke-linecap:square;stroke-width:0.8;\"/>\r\n     </g>\r\n     <g id=\"line2d_4\">\r\n      <g>\r\n       <use style=\"fill:#555555;stroke:#555555;stroke-width:0.8;\" x=\"162.985708\" xlink:href=\"#m93e1774383\" y=\"333.36\"/>\r\n      </g>\r\n     </g>\r\n     <g id=\"text_2\">\r\n      <!-- 0.2 -->\r\n      <g style=\"fill:#555555;\" transform=\"translate(155.034145 347.958438)scale(0.1 -0.1)\">\r\n       <defs>\r\n        <path d=\"M 19.1875 8.296875 \r\nL 53.609375 8.296875 \r\nL 53.609375 0 \r\nL 7.328125 0 \r\nL 7.328125 8.296875 \r\nQ 12.9375 14.109375 22.625 23.890625 \r\nQ 32.328125 33.6875 34.8125 36.53125 \r\nQ 39.546875 41.84375 41.421875 45.53125 \r\nQ 43.3125 49.21875 43.3125 52.78125 \r\nQ 43.3125 58.59375 39.234375 62.25 \r\nQ 35.15625 65.921875 28.609375 65.921875 \r\nQ 23.96875 65.921875 18.8125 64.3125 \r\nQ 13.671875 62.703125 7.8125 59.421875 \r\nL 7.8125 69.390625 \r\nQ 13.765625 71.78125 18.9375 73 \r\nQ 24.125 74.21875 28.421875 74.21875 \r\nQ 39.75 74.21875 46.484375 68.546875 \r\nQ 53.21875 62.890625 53.21875 53.421875 \r\nQ 53.21875 48.921875 51.53125 44.890625 \r\nQ 49.859375 40.875 45.40625 35.40625 \r\nQ 44.1875 33.984375 37.640625 27.21875 \r\nQ 31.109375 20.453125 19.1875 8.296875 \r\nz\r\n\" id=\"DejaVuSans-50\"/>\r\n       </defs>\r\n       <use xlink:href=\"#DejaVuSans-48\"/>\r\n       <use x=\"63.623047\" xlink:href=\"#DejaVuSans-46\"/>\r\n       <use x=\"95.410156\" xlink:href=\"#DejaVuSans-50\"/>\r\n      </g>\r\n     </g>\r\n    </g>\r\n    <g id=\"xtick_3\">\r\n     <g id=\"line2d_5\">\r\n      <path clip-path=\"url(#pef7f16980f)\" d=\"M 254.315809 333.36 \r\nL 254.315809 7.2 \r\n\" style=\"fill:none;stroke:#ffffff;stroke-linecap:square;stroke-width:0.8;\"/>\r\n     </g>\r\n     <g id=\"line2d_6\">\r\n      <g>\r\n       <use style=\"fill:#555555;stroke:#555555;stroke-width:0.8;\" x=\"254.315809\" xlink:href=\"#m93e1774383\" y=\"333.36\"/>\r\n      </g>\r\n     </g>\r\n     <g id=\"text_3\">\r\n      <!-- 0.4 -->\r\n      <g style=\"fill:#555555;\" transform=\"translate(246.364246 347.958438)scale(0.1 -0.1)\">\r\n       <defs>\r\n        <path d=\"M 37.796875 64.3125 \r\nL 12.890625 25.390625 \r\nL 37.796875 25.390625 \r\nz\r\nM 35.203125 72.90625 \r\nL 47.609375 72.90625 \r\nL 47.609375 25.390625 \r\nL 58.015625 25.390625 \r\nL 58.015625 17.1875 \r\nL 47.609375 17.1875 \r\nL 47.609375 0 \r\nL 37.796875 0 \r\nL 37.796875 17.1875 \r\nL 4.890625 17.1875 \r\nL 4.890625 26.703125 \r\nz\r\n\" id=\"DejaVuSans-52\"/>\r\n       </defs>\r\n       <use xlink:href=\"#DejaVuSans-48\"/>\r\n       <use x=\"63.623047\" xlink:href=\"#DejaVuSans-46\"/>\r\n       <use x=\"95.410156\" xlink:href=\"#DejaVuSans-52\"/>\r\n      </g>\r\n     </g>\r\n    </g>\r\n    <g id=\"xtick_4\">\r\n     <g id=\"line2d_7\">\r\n      <path clip-path=\"url(#pef7f16980f)\" d=\"M 345.645909 333.36 \r\nL 345.645909 7.2 \r\n\" style=\"fill:none;stroke:#ffffff;stroke-linecap:square;stroke-width:0.8;\"/>\r\n     </g>\r\n     <g id=\"line2d_8\">\r\n      <g>\r\n       <use style=\"fill:#555555;stroke:#555555;stroke-width:0.8;\" x=\"345.645909\" xlink:href=\"#m93e1774383\" y=\"333.36\"/>\r\n      </g>\r\n     </g>\r\n     <g id=\"text_4\">\r\n      <!-- 0.6 -->\r\n      <g style=\"fill:#555555;\" transform=\"translate(337.694347 347.958438)scale(0.1 -0.1)\">\r\n       <defs>\r\n        <path d=\"M 33.015625 40.375 \r\nQ 26.375 40.375 22.484375 35.828125 \r\nQ 18.609375 31.296875 18.609375 23.390625 \r\nQ 18.609375 15.53125 22.484375 10.953125 \r\nQ 26.375 6.390625 33.015625 6.390625 \r\nQ 39.65625 6.390625 43.53125 10.953125 \r\nQ 47.40625 15.53125 47.40625 23.390625 \r\nQ 47.40625 31.296875 43.53125 35.828125 \r\nQ 39.65625 40.375 33.015625 40.375 \r\nz\r\nM 52.59375 71.296875 \r\nL 52.59375 62.3125 \r\nQ 48.875 64.0625 45.09375 64.984375 \r\nQ 41.3125 65.921875 37.59375 65.921875 \r\nQ 27.828125 65.921875 22.671875 59.328125 \r\nQ 17.53125 52.734375 16.796875 39.40625 \r\nQ 19.671875 43.65625 24.015625 45.921875 \r\nQ 28.375 48.1875 33.59375 48.1875 \r\nQ 44.578125 48.1875 50.953125 41.515625 \r\nQ 57.328125 34.859375 57.328125 23.390625 \r\nQ 57.328125 12.15625 50.6875 5.359375 \r\nQ 44.046875 -1.421875 33.015625 -1.421875 \r\nQ 20.359375 -1.421875 13.671875 8.265625 \r\nQ 6.984375 17.96875 6.984375 36.375 \r\nQ 6.984375 53.65625 15.1875 63.9375 \r\nQ 23.390625 74.21875 37.203125 74.21875 \r\nQ 40.921875 74.21875 44.703125 73.484375 \r\nQ 48.484375 72.75 52.59375 71.296875 \r\nz\r\n\" id=\"DejaVuSans-54\"/>\r\n       </defs>\r\n       <use xlink:href=\"#DejaVuSans-48\"/>\r\n       <use x=\"63.623047\" xlink:href=\"#DejaVuSans-46\"/>\r\n       <use x=\"95.410156\" xlink:href=\"#DejaVuSans-54\"/>\r\n      </g>\r\n     </g>\r\n    </g>\r\n    <g id=\"xtick_5\">\r\n     <g id=\"line2d_9\">\r\n      <path clip-path=\"url(#pef7f16980f)\" d=\"M 436.97601 333.36 \r\nL 436.97601 7.2 \r\n\" style=\"fill:none;stroke:#ffffff;stroke-linecap:square;stroke-width:0.8;\"/>\r\n     </g>\r\n     <g id=\"line2d_10\">\r\n      <g>\r\n       <use style=\"fill:#555555;stroke:#555555;stroke-width:0.8;\" x=\"436.97601\" xlink:href=\"#m93e1774383\" y=\"333.36\"/>\r\n      </g>\r\n     </g>\r\n     <g id=\"text_5\">\r\n      <!-- 0.8 -->\r\n      <g style=\"fill:#555555;\" transform=\"translate(429.024447 347.958438)scale(0.1 -0.1)\">\r\n       <defs>\r\n        <path d=\"M 31.78125 34.625 \r\nQ 24.75 34.625 20.71875 30.859375 \r\nQ 16.703125 27.09375 16.703125 20.515625 \r\nQ 16.703125 13.921875 20.71875 10.15625 \r\nQ 24.75 6.390625 31.78125 6.390625 \r\nQ 38.8125 6.390625 42.859375 10.171875 \r\nQ 46.921875 13.96875 46.921875 20.515625 \r\nQ 46.921875 27.09375 42.890625 30.859375 \r\nQ 38.875 34.625 31.78125 34.625 \r\nz\r\nM 21.921875 38.8125 \r\nQ 15.578125 40.375 12.03125 44.71875 \r\nQ 8.5 49.078125 8.5 55.328125 \r\nQ 8.5 64.0625 14.71875 69.140625 \r\nQ 20.953125 74.21875 31.78125 74.21875 \r\nQ 42.671875 74.21875 48.875 69.140625 \r\nQ 55.078125 64.0625 55.078125 55.328125 \r\nQ 55.078125 49.078125 51.53125 44.71875 \r\nQ 48 40.375 41.703125 38.8125 \r\nQ 48.828125 37.15625 52.796875 32.3125 \r\nQ 56.78125 27.484375 56.78125 20.515625 \r\nQ 56.78125 9.90625 50.3125 4.234375 \r\nQ 43.84375 -1.421875 31.78125 -1.421875 \r\nQ 19.734375 -1.421875 13.25 4.234375 \r\nQ 6.78125 9.90625 6.78125 20.515625 \r\nQ 6.78125 27.484375 10.78125 32.3125 \r\nQ 14.796875 37.15625 21.921875 38.8125 \r\nz\r\nM 18.3125 54.390625 \r\nQ 18.3125 48.734375 21.84375 45.5625 \r\nQ 25.390625 42.390625 31.78125 42.390625 \r\nQ 38.140625 42.390625 41.71875 45.5625 \r\nQ 45.3125 48.734375 45.3125 54.390625 \r\nQ 45.3125 60.0625 41.71875 63.234375 \r\nQ 38.140625 66.40625 31.78125 66.40625 \r\nQ 25.390625 66.40625 21.84375 63.234375 \r\nQ 18.3125 60.0625 18.3125 54.390625 \r\nz\r\n\" id=\"DejaVuSans-56\"/>\r\n       </defs>\r\n       <use xlink:href=\"#DejaVuSans-48\"/>\r\n       <use x=\"63.623047\" xlink:href=\"#DejaVuSans-46\"/>\r\n       <use x=\"95.410156\" xlink:href=\"#DejaVuSans-56\"/>\r\n      </g>\r\n     </g>\r\n    </g>\r\n    <g id=\"xtick_6\">\r\n     <g id=\"line2d_11\">\r\n      <path clip-path=\"url(#pef7f16980f)\" d=\"M 528.30611 333.36 \r\nL 528.30611 7.2 \r\n\" style=\"fill:none;stroke:#ffffff;stroke-linecap:square;stroke-width:0.8;\"/>\r\n     </g>\r\n     <g id=\"line2d_12\">\r\n      <g>\r\n       <use style=\"fill:#555555;stroke:#555555;stroke-width:0.8;\" x=\"528.30611\" xlink:href=\"#m93e1774383\" y=\"333.36\"/>\r\n      </g>\r\n     </g>\r\n     <g id=\"text_6\">\r\n      <!-- 1.0 -->\r\n      <g style=\"fill:#555555;\" transform=\"translate(520.354548 347.958438)scale(0.1 -0.1)\">\r\n       <defs>\r\n        <path d=\"M 12.40625 8.296875 \r\nL 28.515625 8.296875 \r\nL 28.515625 63.921875 \r\nL 10.984375 60.40625 \r\nL 10.984375 69.390625 \r\nL 28.421875 72.90625 \r\nL 38.28125 72.90625 \r\nL 38.28125 8.296875 \r\nL 54.390625 8.296875 \r\nL 54.390625 0 \r\nL 12.40625 0 \r\nz\r\n\" id=\"DejaVuSans-49\"/>\r\n       </defs>\r\n       <use xlink:href=\"#DejaVuSans-49\"/>\r\n       <use x=\"63.623047\" xlink:href=\"#DejaVuSans-46\"/>\r\n       <use x=\"95.410156\" xlink:href=\"#DejaVuSans-48\"/>\r\n      </g>\r\n     </g>\r\n    </g>\r\n   </g>\r\n   <g id=\"matplotlib.axis_2\">\r\n    <g id=\"ytick_1\">\r\n     <g id=\"line2d_13\">\r\n      <path clip-path=\"url(#pef7f16980f)\" d=\"M 48.90125 333.36 \r\nL 551.10125 333.36 \r\n\" style=\"fill:none;stroke:#ffffff;stroke-linecap:square;stroke-width:0.8;\"/>\r\n     </g>\r\n     <g id=\"line2d_14\">\r\n      <defs>\r\n       <path d=\"M 0 0 \r\nL -3.5 0 \r\n\" id=\"ma82c7712d5\" style=\"stroke:#555555;stroke-width:0.8;\"/>\r\n      </defs>\r\n      <g>\r\n       <use style=\"fill:#555555;stroke:#555555;stroke-width:0.8;\" x=\"48.90125\" xlink:href=\"#ma82c7712d5\" y=\"333.36\"/>\r\n      </g>\r\n     </g>\r\n     <g id=\"text_7\">\r\n      <!-- 0 -->\r\n      <g style=\"fill:#555555;\" transform=\"translate(35.53875 337.159219)scale(0.1 -0.1)\">\r\n       <use xlink:href=\"#DejaVuSans-48\"/>\r\n      </g>\r\n     </g>\r\n    </g>\r\n    <g id=\"ytick_2\">\r\n     <g id=\"line2d_15\">\r\n      <path clip-path=\"url(#pef7f16980f)\" d=\"M 48.90125 271.727347 \r\nL 551.10125 271.727347 \r\n\" style=\"fill:none;stroke:#ffffff;stroke-linecap:square;stroke-width:0.8;\"/>\r\n     </g>\r\n     <g id=\"line2d_16\">\r\n      <g>\r\n       <use style=\"fill:#555555;stroke:#555555;stroke-width:0.8;\" x=\"48.90125\" xlink:href=\"#ma82c7712d5\" y=\"271.727347\"/>\r\n      </g>\r\n     </g>\r\n     <g id=\"text_8\">\r\n      <!-- 100 -->\r\n      <g style=\"fill:#555555;\" transform=\"translate(22.81375 275.526566)scale(0.1 -0.1)\">\r\n       <use xlink:href=\"#DejaVuSans-49\"/>\r\n       <use x=\"63.623047\" xlink:href=\"#DejaVuSans-48\"/>\r\n       <use x=\"127.246094\" xlink:href=\"#DejaVuSans-48\"/>\r\n      </g>\r\n     </g>\r\n    </g>\r\n    <g id=\"ytick_3\">\r\n     <g id=\"line2d_17\">\r\n      <path clip-path=\"url(#pef7f16980f)\" d=\"M 48.90125 210.094694 \r\nL 551.10125 210.094694 \r\n\" style=\"fill:none;stroke:#ffffff;stroke-linecap:square;stroke-width:0.8;\"/>\r\n     </g>\r\n     <g id=\"line2d_18\">\r\n      <g>\r\n       <use style=\"fill:#555555;stroke:#555555;stroke-width:0.8;\" x=\"48.90125\" xlink:href=\"#ma82c7712d5\" y=\"210.094694\"/>\r\n      </g>\r\n     </g>\r\n     <g id=\"text_9\">\r\n      <!-- 200 -->\r\n      <g style=\"fill:#555555;\" transform=\"translate(22.81375 213.893913)scale(0.1 -0.1)\">\r\n       <use xlink:href=\"#DejaVuSans-50\"/>\r\n       <use x=\"63.623047\" xlink:href=\"#DejaVuSans-48\"/>\r\n       <use x=\"127.246094\" xlink:href=\"#DejaVuSans-48\"/>\r\n      </g>\r\n     </g>\r\n    </g>\r\n    <g id=\"ytick_4\">\r\n     <g id=\"line2d_19\">\r\n      <path clip-path=\"url(#pef7f16980f)\" d=\"M 48.90125 148.462041 \r\nL 551.10125 148.462041 \r\n\" style=\"fill:none;stroke:#ffffff;stroke-linecap:square;stroke-width:0.8;\"/>\r\n     </g>\r\n     <g id=\"line2d_20\">\r\n      <g>\r\n       <use style=\"fill:#555555;stroke:#555555;stroke-width:0.8;\" x=\"48.90125\" xlink:href=\"#ma82c7712d5\" y=\"148.462041\"/>\r\n      </g>\r\n     </g>\r\n     <g id=\"text_10\">\r\n      <!-- 300 -->\r\n      <g style=\"fill:#555555;\" transform=\"translate(22.81375 152.26126)scale(0.1 -0.1)\">\r\n       <defs>\r\n        <path d=\"M 40.578125 39.3125 \r\nQ 47.65625 37.796875 51.625 33 \r\nQ 55.609375 28.21875 55.609375 21.1875 \r\nQ 55.609375 10.40625 48.1875 4.484375 \r\nQ 40.765625 -1.421875 27.09375 -1.421875 \r\nQ 22.515625 -1.421875 17.65625 -0.515625 \r\nQ 12.796875 0.390625 7.625 2.203125 \r\nL 7.625 11.71875 \r\nQ 11.71875 9.328125 16.59375 8.109375 \r\nQ 21.484375 6.890625 26.8125 6.890625 \r\nQ 36.078125 6.890625 40.9375 10.546875 \r\nQ 45.796875 14.203125 45.796875 21.1875 \r\nQ 45.796875 27.640625 41.28125 31.265625 \r\nQ 36.765625 34.90625 28.71875 34.90625 \r\nL 20.21875 34.90625 \r\nL 20.21875 43.015625 \r\nL 29.109375 43.015625 \r\nQ 36.375 43.015625 40.234375 45.921875 \r\nQ 44.09375 48.828125 44.09375 54.296875 \r\nQ 44.09375 59.90625 40.109375 62.90625 \r\nQ 36.140625 65.921875 28.71875 65.921875 \r\nQ 24.65625 65.921875 20.015625 65.03125 \r\nQ 15.375 64.15625 9.8125 62.3125 \r\nL 9.8125 71.09375 \r\nQ 15.4375 72.65625 20.34375 73.4375 \r\nQ 25.25 74.21875 29.59375 74.21875 \r\nQ 40.828125 74.21875 47.359375 69.109375 \r\nQ 53.90625 64.015625 53.90625 55.328125 \r\nQ 53.90625 49.265625 50.4375 45.09375 \r\nQ 46.96875 40.921875 40.578125 39.3125 \r\nz\r\n\" id=\"DejaVuSans-51\"/>\r\n       </defs>\r\n       <use xlink:href=\"#DejaVuSans-51\"/>\r\n       <use x=\"63.623047\" xlink:href=\"#DejaVuSans-48\"/>\r\n       <use x=\"127.246094\" xlink:href=\"#DejaVuSans-48\"/>\r\n      </g>\r\n     </g>\r\n    </g>\r\n    <g id=\"ytick_5\">\r\n     <g id=\"line2d_21\">\r\n      <path clip-path=\"url(#pef7f16980f)\" d=\"M 48.90125 86.829388 \r\nL 551.10125 86.829388 \r\n\" style=\"fill:none;stroke:#ffffff;stroke-linecap:square;stroke-width:0.8;\"/>\r\n     </g>\r\n     <g id=\"line2d_22\">\r\n      <g>\r\n       <use style=\"fill:#555555;stroke:#555555;stroke-width:0.8;\" x=\"48.90125\" xlink:href=\"#ma82c7712d5\" y=\"86.829388\"/>\r\n      </g>\r\n     </g>\r\n     <g id=\"text_11\">\r\n      <!-- 400 -->\r\n      <g style=\"fill:#555555;\" transform=\"translate(22.81375 90.628607)scale(0.1 -0.1)\">\r\n       <use xlink:href=\"#DejaVuSans-52\"/>\r\n       <use x=\"63.623047\" xlink:href=\"#DejaVuSans-48\"/>\r\n       <use x=\"127.246094\" xlink:href=\"#DejaVuSans-48\"/>\r\n      </g>\r\n     </g>\r\n    </g>\r\n    <g id=\"ytick_6\">\r\n     <g id=\"line2d_23\">\r\n      <path clip-path=\"url(#pef7f16980f)\" d=\"M 48.90125 25.196735 \r\nL 551.10125 25.196735 \r\n\" style=\"fill:none;stroke:#ffffff;stroke-linecap:square;stroke-width:0.8;\"/>\r\n     </g>\r\n     <g id=\"line2d_24\">\r\n      <g>\r\n       <use style=\"fill:#555555;stroke:#555555;stroke-width:0.8;\" x=\"48.90125\" xlink:href=\"#ma82c7712d5\" y=\"25.196735\"/>\r\n      </g>\r\n     </g>\r\n     <g id=\"text_12\">\r\n      <!-- 500 -->\r\n      <g style=\"fill:#555555;\" transform=\"translate(22.81375 28.995953)scale(0.1 -0.1)\">\r\n       <defs>\r\n        <path d=\"M 10.796875 72.90625 \r\nL 49.515625 72.90625 \r\nL 49.515625 64.59375 \r\nL 19.828125 64.59375 \r\nL 19.828125 46.734375 \r\nQ 21.96875 47.46875 24.109375 47.828125 \r\nQ 26.265625 48.1875 28.421875 48.1875 \r\nQ 40.625 48.1875 47.75 41.5 \r\nQ 54.890625 34.8125 54.890625 23.390625 \r\nQ 54.890625 11.625 47.5625 5.09375 \r\nQ 40.234375 -1.421875 26.90625 -1.421875 \r\nQ 22.3125 -1.421875 17.546875 -0.640625 \r\nQ 12.796875 0.140625 7.71875 1.703125 \r\nL 7.71875 11.625 \r\nQ 12.109375 9.234375 16.796875 8.0625 \r\nQ 21.484375 6.890625 26.703125 6.890625 \r\nQ 35.15625 6.890625 40.078125 11.328125 \r\nQ 45.015625 15.765625 45.015625 23.390625 \r\nQ 45.015625 31 40.078125 35.4375 \r\nQ 35.15625 39.890625 26.703125 39.890625 \r\nQ 22.75 39.890625 18.8125 39.015625 \r\nQ 14.890625 38.140625 10.796875 36.28125 \r\nz\r\n\" id=\"DejaVuSans-53\"/>\r\n       </defs>\r\n       <use xlink:href=\"#DejaVuSans-53\"/>\r\n       <use x=\"63.623047\" xlink:href=\"#DejaVuSans-48\"/>\r\n       <use x=\"127.246094\" xlink:href=\"#DejaVuSans-48\"/>\r\n      </g>\r\n     </g>\r\n    </g>\r\n    <g id=\"text_13\">\r\n     <!-- Count -->\r\n     <g style=\"fill:#555555;\" transform=\"translate(16.318125 188.098125)rotate(-90)scale(0.12 -0.12)\">\r\n      <defs>\r\n       <path d=\"M 64.40625 67.28125 \r\nL 64.40625 56.890625 \r\nQ 59.421875 61.53125 53.78125 63.8125 \r\nQ 48.140625 66.109375 41.796875 66.109375 \r\nQ 29.296875 66.109375 22.65625 58.46875 \r\nQ 16.015625 50.828125 16.015625 36.375 \r\nQ 16.015625 21.96875 22.65625 14.328125 \r\nQ 29.296875 6.6875 41.796875 6.6875 \r\nQ 48.140625 6.6875 53.78125 8.984375 \r\nQ 59.421875 11.28125 64.40625 15.921875 \r\nL 64.40625 5.609375 \r\nQ 59.234375 2.09375 53.4375 0.328125 \r\nQ 47.65625 -1.421875 41.21875 -1.421875 \r\nQ 24.65625 -1.421875 15.125 8.703125 \r\nQ 5.609375 18.84375 5.609375 36.375 \r\nQ 5.609375 53.953125 15.125 64.078125 \r\nQ 24.65625 74.21875 41.21875 74.21875 \r\nQ 47.75 74.21875 53.53125 72.484375 \r\nQ 59.328125 70.75 64.40625 67.28125 \r\nz\r\n\" id=\"DejaVuSans-67\"/>\r\n       <path d=\"M 30.609375 48.390625 \r\nQ 23.390625 48.390625 19.1875 42.75 \r\nQ 14.984375 37.109375 14.984375 27.296875 \r\nQ 14.984375 17.484375 19.15625 11.84375 \r\nQ 23.34375 6.203125 30.609375 6.203125 \r\nQ 37.796875 6.203125 41.984375 11.859375 \r\nQ 46.1875 17.53125 46.1875 27.296875 \r\nQ 46.1875 37.015625 41.984375 42.703125 \r\nQ 37.796875 48.390625 30.609375 48.390625 \r\nz\r\nM 30.609375 56 \r\nQ 42.328125 56 49.015625 48.375 \r\nQ 55.71875 40.765625 55.71875 27.296875 \r\nQ 55.71875 13.875 49.015625 6.21875 \r\nQ 42.328125 -1.421875 30.609375 -1.421875 \r\nQ 18.84375 -1.421875 12.171875 6.21875 \r\nQ 5.515625 13.875 5.515625 27.296875 \r\nQ 5.515625 40.765625 12.171875 48.375 \r\nQ 18.84375 56 30.609375 56 \r\nz\r\n\" id=\"DejaVuSans-111\"/>\r\n       <path d=\"M 8.5 21.578125 \r\nL 8.5 54.6875 \r\nL 17.484375 54.6875 \r\nL 17.484375 21.921875 \r\nQ 17.484375 14.15625 20.5 10.265625 \r\nQ 23.53125 6.390625 29.59375 6.390625 \r\nQ 36.859375 6.390625 41.078125 11.03125 \r\nQ 45.3125 15.671875 45.3125 23.6875 \r\nL 45.3125 54.6875 \r\nL 54.296875 54.6875 \r\nL 54.296875 0 \r\nL 45.3125 0 \r\nL 45.3125 8.40625 \r\nQ 42.046875 3.421875 37.71875 1 \r\nQ 33.40625 -1.421875 27.6875 -1.421875 \r\nQ 18.265625 -1.421875 13.375 4.4375 \r\nQ 8.5 10.296875 8.5 21.578125 \r\nz\r\nM 31.109375 56 \r\nz\r\n\" id=\"DejaVuSans-117\"/>\r\n       <path d=\"M 54.890625 33.015625 \r\nL 54.890625 0 \r\nL 45.90625 0 \r\nL 45.90625 32.71875 \r\nQ 45.90625 40.484375 42.875 44.328125 \r\nQ 39.84375 48.1875 33.796875 48.1875 \r\nQ 26.515625 48.1875 22.3125 43.546875 \r\nQ 18.109375 38.921875 18.109375 30.90625 \r\nL 18.109375 0 \r\nL 9.078125 0 \r\nL 9.078125 54.6875 \r\nL 18.109375 54.6875 \r\nL 18.109375 46.1875 \r\nQ 21.34375 51.125 25.703125 53.5625 \r\nQ 30.078125 56 35.796875 56 \r\nQ 45.21875 56 50.046875 50.171875 \r\nQ 54.890625 44.34375 54.890625 33.015625 \r\nz\r\n\" id=\"DejaVuSans-110\"/>\r\n       <path d=\"M 18.3125 70.21875 \r\nL 18.3125 54.6875 \r\nL 36.8125 54.6875 \r\nL 36.8125 47.703125 \r\nL 18.3125 47.703125 \r\nL 18.3125 18.015625 \r\nQ 18.3125 11.328125 20.140625 9.421875 \r\nQ 21.96875 7.515625 27.59375 7.515625 \r\nL 36.8125 7.515625 \r\nL 36.8125 0 \r\nL 27.59375 0 \r\nQ 17.1875 0 13.234375 3.875 \r\nQ 9.28125 7.765625 9.28125 18.015625 \r\nL 9.28125 47.703125 \r\nL 2.6875 47.703125 \r\nL 2.6875 54.6875 \r\nL 9.28125 54.6875 \r\nL 9.28125 70.21875 \r\nz\r\n\" id=\"DejaVuSans-116\"/>\r\n      </defs>\r\n      <use xlink:href=\"#DejaVuSans-67\"/>\r\n      <use x=\"69.824219\" xlink:href=\"#DejaVuSans-111\"/>\r\n      <use x=\"131.005859\" xlink:href=\"#DejaVuSans-117\"/>\r\n      <use x=\"194.384766\" xlink:href=\"#DejaVuSans-110\"/>\r\n      <use x=\"257.763672\" xlink:href=\"#DejaVuSans-116\"/>\r\n     </g>\r\n    </g>\r\n   </g>\r\n   <g id=\"patch_3\">\r\n    <path clip-path=\"url(#pef7f16980f)\" d=\"M 71.728523 333.36 \r\nL 92.480589 333.36 \r\nL 92.480589 30.127347 \r\nL 71.728523 30.127347 \r\nz\r\n\" style=\"fill:#348abd;fill-opacity:0.75;stroke:#eeeeee;stroke-linejoin:miter;stroke-width:0.5;\"/>\r\n   </g>\r\n   <g id=\"patch_4\">\r\n    <path clip-path=\"url(#pef7f16980f)\" d=\"M 92.480589 333.36 \r\nL 113.232655 333.36 \r\nL 113.232655 29.51102 \r\nL 92.480589 29.51102 \r\nz\r\n\" style=\"fill:#348abd;fill-opacity:0.75;stroke:#eeeeee;stroke-linejoin:miter;stroke-width:0.5;\"/>\r\n   </g>\r\n   <g id=\"patch_5\">\r\n    <path clip-path=\"url(#pef7f16980f)\" d=\"M 113.232655 333.36 \r\nL 133.984721 333.36 \r\nL 133.984721 52.931429 \r\nL 113.232655 52.931429 \r\nz\r\n\" style=\"fill:#348abd;fill-opacity:0.75;stroke:#eeeeee;stroke-linejoin:miter;stroke-width:0.5;\"/>\r\n   </g>\r\n   <g id=\"patch_6\">\r\n    <path clip-path=\"url(#pef7f16980f)\" d=\"M 133.984721 333.36 \r\nL 154.736787 333.36 \r\nL 154.736787 54.164082 \r\nL 133.984721 54.164082 \r\nz\r\n\" style=\"fill:#348abd;fill-opacity:0.75;stroke:#eeeeee;stroke-linejoin:miter;stroke-width:0.5;\"/>\r\n   </g>\r\n   <g id=\"patch_7\">\r\n    <path clip-path=\"url(#pef7f16980f)\" d=\"M 154.736787 333.36 \r\nL 175.488853 333.36 \r\nL 175.488853 64.025306 \r\nL 154.736787 64.025306 \r\nz\r\n\" style=\"fill:#348abd;fill-opacity:0.75;stroke:#eeeeee;stroke-linejoin:miter;stroke-width:0.5;\"/>\r\n   </g>\r\n   <g id=\"patch_8\">\r\n    <path clip-path=\"url(#pef7f16980f)\" d=\"M 175.488853 333.36 \r\nL 196.240919 333.36 \r\nL 196.240919 49.849796 \r\nL 175.488853 49.849796 \r\nz\r\n\" style=\"fill:#348abd;fill-opacity:0.75;stroke:#eeeeee;stroke-linejoin:miter;stroke-width:0.5;\"/>\r\n   </g>\r\n   <g id=\"patch_9\">\r\n    <path clip-path=\"url(#pef7f16980f)\" d=\"M 196.240919 333.36 \r\nL 216.992986 333.36 \r\nL 216.992986 57.245714 \r\nL 196.240919 57.245714 \r\nz\r\n\" style=\"fill:#348abd;fill-opacity:0.75;stroke:#eeeeee;stroke-linejoin:miter;stroke-width:0.5;\"/>\r\n   </g>\r\n   <g id=\"patch_10\">\r\n    <path clip-path=\"url(#pef7f16980f)\" d=\"M 216.992986 333.36 \r\nL 237.745052 333.36 \r\nL 237.745052 39.372245 \r\nL 216.992986 39.372245 \r\nz\r\n\" style=\"fill:#348abd;fill-opacity:0.75;stroke:#eeeeee;stroke-linejoin:miter;stroke-width:0.5;\"/>\r\n   </g>\r\n   <g id=\"patch_11\">\r\n    <path clip-path=\"url(#pef7f16980f)\" d=\"M 237.745052 333.36 \r\nL 258.497118 333.36 \r\nL 258.497118 52.931429 \r\nL 237.745052 52.931429 \r\nz\r\n\" style=\"fill:#348abd;fill-opacity:0.75;stroke:#eeeeee;stroke-linejoin:miter;stroke-width:0.5;\"/>\r\n   </g>\r\n   <g id=\"patch_12\">\r\n    <path clip-path=\"url(#pef7f16980f)\" d=\"M 258.497118 333.36 \r\nL 279.249184 333.36 \r\nL 279.249184 51.698776 \r\nL 258.497118 51.698776 \r\nz\r\n\" style=\"fill:#348abd;fill-opacity:0.75;stroke:#eeeeee;stroke-linejoin:miter;stroke-width:0.5;\"/>\r\n   </g>\r\n   <g id=\"patch_13\">\r\n    <path clip-path=\"url(#pef7f16980f)\" d=\"M 279.249184 333.36 \r\nL 300.00125 333.36 \r\nL 300.00125 73.270204 \r\nL 279.249184 73.270204 \r\nz\r\n\" style=\"fill:#348abd;fill-opacity:0.75;stroke:#eeeeee;stroke-linejoin:miter;stroke-width:0.5;\"/>\r\n   </g>\r\n   <g id=\"patch_14\">\r\n    <path clip-path=\"url(#pef7f16980f)\" d=\"M 300.00125 333.36 \r\nL 320.753316 333.36 \r\nL 320.753316 89.294694 \r\nL 300.00125 89.294694 \r\nz\r\n\" style=\"fill:#348abd;fill-opacity:0.75;stroke:#eeeeee;stroke-linejoin:miter;stroke-width:0.5;\"/>\r\n   </g>\r\n   <g id=\"patch_15\">\r\n    <path clip-path=\"url(#pef7f16980f)\" d=\"M 320.753316 333.36 \r\nL 341.505382 333.36 \r\nL 341.505382 41.837551 \r\nL 320.753316 41.837551 \r\nz\r\n\" style=\"fill:#348abd;fill-opacity:0.75;stroke:#eeeeee;stroke-linejoin:miter;stroke-width:0.5;\"/>\r\n   </g>\r\n   <g id=\"patch_16\">\r\n    <path clip-path=\"url(#pef7f16980f)\" d=\"M 341.505382 333.36 \r\nL 362.257448 333.36 \r\nL 362.257448 40.604898 \r\nL 341.505382 40.604898 \r\nz\r\n\" style=\"fill:#348abd;fill-opacity:0.75;stroke:#eeeeee;stroke-linejoin:miter;stroke-width:0.5;\"/>\r\n   </g>\r\n   <g id=\"patch_17\">\r\n    <path clip-path=\"url(#pef7f16980f)\" d=\"M 362.257448 333.36 \r\nL 383.009514 333.36 \r\nL 383.009514 54.780408 \r\nL 362.257448 54.780408 \r\nz\r\n\" style=\"fill:#348abd;fill-opacity:0.75;stroke:#eeeeee;stroke-linejoin:miter;stroke-width:0.5;\"/>\r\n   </g>\r\n   <g id=\"patch_18\">\r\n    <path clip-path=\"url(#pef7f16980f)\" d=\"M 383.009514 333.36 \r\nL 403.761581 333.36 \r\nL 403.761581 55.396735 \r\nL 383.009514 55.396735 \r\nz\r\n\" style=\"fill:#348abd;fill-opacity:0.75;stroke:#eeeeee;stroke-linejoin:miter;stroke-width:0.5;\"/>\r\n   </g>\r\n   <g id=\"patch_19\">\r\n    <path clip-path=\"url(#pef7f16980f)\" d=\"M 403.761581 333.36 \r\nL 424.513647 333.36 \r\nL 424.513647 22.731429 \r\nL 403.761581 22.731429 \r\nz\r\n\" style=\"fill:#348abd;fill-opacity:0.75;stroke:#eeeeee;stroke-linejoin:miter;stroke-width:0.5;\"/>\r\n   </g>\r\n   <g id=\"patch_20\">\r\n    <path clip-path=\"url(#pef7f16980f)\" d=\"M 424.513647 333.36 \r\nL 445.265713 333.36 \r\nL 445.265713 88.678367 \r\nL 424.513647 88.678367 \r\nz\r\n\" style=\"fill:#348abd;fill-opacity:0.75;stroke:#eeeeee;stroke-linejoin:miter;stroke-width:0.5;\"/>\r\n   </g>\r\n   <g id=\"patch_21\">\r\n    <path clip-path=\"url(#pef7f16980f)\" d=\"M 445.265713 333.36 \r\nL 466.017779 333.36 \r\nL 466.017779 54.164082 \r\nL 445.265713 54.164082 \r\nz\r\n\" style=\"fill:#348abd;fill-opacity:0.75;stroke:#eeeeee;stroke-linejoin:miter;stroke-width:0.5;\"/>\r\n   </g>\r\n   <g id=\"patch_22\">\r\n    <path clip-path=\"url(#pef7f16980f)\" d=\"M 466.017779 333.36 \r\nL 486.769845 333.36 \r\nL 486.769845 53.547755 \r\nL 466.017779 53.547755 \r\nz\r\n\" style=\"fill:#348abd;fill-opacity:0.75;stroke:#eeeeee;stroke-linejoin:miter;stroke-width:0.5;\"/>\r\n   </g>\r\n   <g id=\"patch_23\">\r\n    <path clip-path=\"url(#pef7f16980f)\" d=\"M 486.769845 333.36 \r\nL 507.521911 333.36 \r\nL 507.521911 48.617143 \r\nL 486.769845 48.617143 \r\nz\r\n\" style=\"fill:#348abd;fill-opacity:0.75;stroke:#eeeeee;stroke-linejoin:miter;stroke-width:0.5;\"/>\r\n   </g>\r\n   <g id=\"patch_24\">\r\n    <path clip-path=\"url(#pef7f16980f)\" d=\"M 507.521911 333.36 \r\nL 528.273977 333.36 \r\nL 528.273977 65.874286 \r\nL 507.521911 65.874286 \r\nz\r\n\" style=\"fill:#348abd;fill-opacity:0.75;stroke:#eeeeee;stroke-linejoin:miter;stroke-width:0.5;\"/>\r\n   </g>\r\n   <g id=\"patch_25\">\r\n    <path d=\"M 48.90125 333.36 \r\nL 48.90125 7.2 \r\n\" style=\"fill:none;stroke:#ffffff;stroke-linecap:square;stroke-linejoin:miter;\"/>\r\n   </g>\r\n   <g id=\"patch_26\">\r\n    <path d=\"M 551.10125 333.36 \r\nL 551.10125 7.2 \r\n\" style=\"fill:none;stroke:#ffffff;stroke-linecap:square;stroke-linejoin:miter;\"/>\r\n   </g>\r\n   <g id=\"patch_27\">\r\n    <path d=\"M 48.90125 333.36 \r\nL 551.10125 333.36 \r\n\" style=\"fill:none;stroke:#ffffff;stroke-linecap:square;stroke-linejoin:miter;\"/>\r\n   </g>\r\n   <g id=\"patch_28\">\r\n    <path d=\"M 48.90125 7.2 \r\nL 551.10125 7.2 \r\n\" style=\"fill:none;stroke:#ffffff;stroke-linecap:square;stroke-linejoin:miter;\"/>\r\n   </g>\r\n  </g>\r\n </g>\r\n <defs>\r\n  <clipPath id=\"pef7f16980f\">\r\n   <rect height=\"326.16\" width=\"502.2\" x=\"48.90125\" y=\"7.2\"/>\r\n  </clipPath>\r\n </defs>\r\n</svg>\r\n",
      "image/png": "[encoded data removed]"
     },
     "metadata": {}
    }
   ],
   "source": [
    "# Generates histogram of 10k randomly generated floats from [0, 1) \n",
    "x = rng.random(10000)\n",
    "sns.histplot(x);"
   ]
  },
  {
   "source": [
    "### Generating Random Sample"
   ],
   "cell_type": "markdown",
   "metadata": {}
  },
  {
   "cell_type": "code",
   "execution_count": 283,
   "metadata": {},
   "outputs": [
    {
     "output_type": "execute_result",
     "data": {
      "text/plain": [
       "2"
      ]
     },
     "metadata": {},
     "execution_count": 283
    }
   ],
   "source": [
    "# rng.choice(a, size=None, replace=True, p=None, axis=0)\n",
    "# Generates a random sample from range from 0 to 9\n",
    "rng.choice(10)"
   ]
  },
  {
   "cell_type": "code",
   "execution_count": 352,
   "metadata": {},
   "outputs": [
    {
     "output_type": "execute_result",
     "data": {
      "text/plain": [
       "array([1, 8, 4, 6, 6, 9, 9, 0, 8, 5])"
      ]
     },
     "metadata": {},
     "execution_count": 352
    }
   ],
   "source": [
    "# Generates an array of random samples from a given array\n",
    "rng.choice(np.arange(10), size=10 )"
   ]
  },
  {
   "cell_type": "code",
   "execution_count": 323,
   "metadata": {},
   "outputs": [
    {
     "output_type": "execute_result",
     "data": {
      "text/plain": [
       "[array([[7, 3, 4],\n",
       "        [9, 7, 6],\n",
       "        [0, 4, 4]])]"
      ]
     },
     "metadata": {},
     "execution_count": 323
    }
   ],
   "source": [
    "# Generates a 3 by 3 matrix with values from the given array.\n",
    "# replace is set to True by default - the values can be repated\n",
    "[rng.choice(np.arange(10), size=(3,3))]\n"
   ]
  },
  {
   "cell_type": "code",
   "execution_count": 333,
   "metadata": {},
   "outputs": [
    {
     "output_type": "execute_result",
     "data": {
      "text/plain": [
       "array([[2, 8, 1],\n",
       "       [0, 5, 7],\n",
       "       [9, 3, 6]])"
      ]
     },
     "metadata": {},
     "execution_count": 333
    }
   ],
   "source": [
    "# Generates a 3 by 3 matrix with values from the given array with replace set to False that there is no replacement \n",
    "rng.choice(np.arange(4), size=(3,3), replace=False)"
   ]
  },
  {
   "cell_type": "code",
   "execution_count": 350,
   "metadata": {},
   "outputs": [
    {
     "output_type": "execute_result",
     "data": {
      "text/plain": [
       "array([[0, 0, 1, 0, 0],\n",
       "       [0, 2, 0, 1, 3],\n",
       "       [1, 2, 0, 0, 0],\n",
       "       [2, 0, 0, 3, 1],\n",
       "       [1, 1, 0, 2, 0]])"
      ]
     },
     "metadata": {},
     "execution_count": 350
    }
   ],
   "source": [
    "# The values of p are the individual probablities of the given array. \n",
    "rng.choice(np.arange(4), size=(5,5), p=[0.5,0.3,0.15,0.05])"
   ]
  },
  {
   "source": [
    "### Generating Random Bytes"
   ],
   "cell_type": "markdown",
   "metadata": {}
  },
  {
   "cell_type": "code",
   "execution_count": 356,
   "metadata": {},
   "outputs": [
    {
     "output_type": "execute_result",
     "data": {
      "text/plain": [
       "b'\\xca\\t\\xfa\\xd0\\xfe\\xa2\\x94\\x88D\\x93'"
      ]
     },
     "metadata": {},
     "execution_count": 356
    }
   ],
   "source": [
    "# Generates random 10 bytes\n",
    "rng.bytes(10)"
   ]
  },
  {
   "source": [
    "## 4. Permutations\n",
    "\n",
    "Permutation refers to the process of rearrangement the linear order or a sequence of an ordered set.\n",
    "\n",
    "- **Shuffle** *return modified sequence by shuffling its content *\n",
    "- **Permutations** *return permuted range or randomly permute a sequence*"
   ],
   "cell_type": "markdown",
   "metadata": {}
  },
  {
   "source": [
    "### Shuffle"
   ],
   "cell_type": "markdown",
   "metadata": {}
  },
  {
   "cell_type": "code",
   "execution_count": 4,
   "metadata": {},
   "outputs": [
    {
     "output_type": "execute_result",
     "data": {
      "text/plain": [
       "array([3, 1, 9, 5, 7, 2, 6, 4, 8, 0])"
      ]
     },
     "metadata": {},
     "execution_count": 4
    }
   ],
   "source": [
    "# np.array generates an array of numbers from 0 to 9\n",
    "x = np.arange(10)\n",
    "# shuffles randomly elements of an array in place\n",
    "rng.shuffle(x)\n",
    "# display \n",
    "x"
   ]
  },
  {
   "cell_type": "code",
   "execution_count": 20,
   "metadata": {},
   "outputs": [
    {
     "output_type": "execute_result",
     "data": {
      "text/plain": [
       "array([[7, 8, 9],\n",
       "       [4, 5, 6],\n",
       "       [1, 2, 3]])"
      ]
     },
     "metadata": {},
     "execution_count": 20
    }
   ],
   "source": [
    "# creates multi-dimensional 3 by 3 an array and shufle it\n",
    "# worth notice that contents of sub-arrays remain the same\n",
    "x = np.arange(1,10).reshape(3,3)\n",
    "rng.shuffle(x)\n",
    "x "
   ]
  },
  {
   "source": [
    "### Permutation"
   ],
   "cell_type": "markdown",
   "metadata": {}
  },
  {
   "cell_type": "code",
   "execution_count": 17,
   "metadata": {},
   "outputs": [
    {
     "output_type": "execute_result",
     "data": {
      "text/plain": [
       "array([5, 9, 0, 1, 6, 2, 3, 8, 4, 7])"
      ]
     },
     "metadata": {},
     "execution_count": 17
    }
   ],
   "source": [
    "# generates an array of randomly permuted range from 0 to 9\n",
    "rng.permutation(10)"
   ]
  },
  {
   "cell_type": "code",
   "execution_count": 28,
   "metadata": {},
   "outputs": [
    {
     "output_type": "execute_result",
     "data": {
      "text/plain": [
       "array([[7, 8, 9],\n",
       "       [1, 2, 3],\n",
       "       [4, 5, 6]])"
      ]
     },
     "metadata": {},
     "execution_count": 28
    }
   ],
   "source": [
    "# creates multi-dimensional 3 by 3 an array \n",
    "x = np.arange(1,10).reshape((3,3))\n",
    "# returns permuted copy of an array shuffled along the x axis(rows)\n",
    "rng.permutation(x)"
   ]
  },
  {
   "cell_type": "code",
   "execution_count": 30,
   "metadata": {},
   "outputs": [
    {
     "output_type": "execute_result",
     "data": {
      "text/plain": [
       "array([[2, 3, 1],\n",
       "       [5, 6, 4],\n",
       "       [8, 9, 7]])"
      ]
     },
     "metadata": {},
     "execution_count": 30
    }
   ],
   "source": [
    "# returns permuted copy of an array shuffled along the y axis(columns)\n",
    "rng.permutation(x, axis=1)"
   ]
  },
  {
   "source": [
    "## 5. Distributions\n",
    "\n",
    "A probability distribution is a statistical function that describes the likelihood of obtaining all the possible values within given range. Where range sets boundaries of the minimum and maximum possible values. In other words, the values of the variable vary based on the underlying probability distribution.\n",
    "\n",
    "- **Normal** *Draw random samples from a normal (Gaussian) distribution.*"
   ],
   "cell_type": "markdown",
   "metadata": {}
  },
  {
   "source": [
    "### Normal distribution\n",
    "\n",
    "Also known as the Gaussian distribution is a probability funtion that describes how the values of a variable are distributed. It is a symmetric distribution where most of observations values congregate around the mean, showing that values near the mean are more frequent in occurrence than values far from the mean. In graph form, normal distribution takes shape of a bell curve and often occurs naturally within statistics such as heights, blood pressure, measurement error, and IQ scores.\n",
    "\n",
    "$$ P(x) = {\\frac{1}{\\sigma\\sqrt{2\\pi}}}e^{{- \\left( {x - \\mu } \\right)^2 }/{2{\\sigma}^2} }$$\n",
    "\n",
    "#### Empirical Rule\n",
    "\n",
    "It is statistical rule also known as the three-sigma rule or 68-95-99.7 rule which states that that almost all observed data will lie within a band of three standard deviations of the mean in a normal distribution. "
   ],
   "cell_type": "markdown",
   "metadata": {}
  },
  {
   "cell_type": "code",
   "execution_count": 114,
   "metadata": {},
   "outputs": [
    {
     "output_type": "stream",
     "name": "stdout",
     "text": [
      "The mean of distribution is -0.00521 and standard diviation is 0.50510\n"
     ]
    },
    {
     "output_type": "display_data",
     "data": {
      "text/plain": "<Figure size 648x432 with 1 Axes>",
      "image/svg+xml": "<?xml version=\"1.0\" encoding=\"utf-8\" standalone=\"no\"?>\r\n<!DOCTYPE svg PUBLIC \"-//W3C//DTD SVG 1.1//EN\"\r\n  \"http://www.w3.org/Graphics/SVG/1.1/DTD/svg11.dtd\">\r\n<!-- Created with matplotlib (https://matplotlib.org/) -->\r\n<svg height=\"357.238125pt\" version=\"1.1\" viewBox=\"0 0 558.30125 357.238125\" width=\"558.30125pt\" xmlns=\"http://www.w3.org/2000/svg\" xmlns:xlink=\"http://www.w3.org/1999/xlink\">\r\n <metadata>\r\n  <rdf:RDF xmlns:cc=\"http://creativecommons.org/ns#\" xmlns:dc=\"http://purl.org/dc/elements/1.1/\" xmlns:rdf=\"http://www.w3.org/1999/02/22-rdf-syntax-ns#\">\r\n   <cc:Work>\r\n    <dc:type rdf:resource=\"http://purl.org/dc/dcmitype/StillImage\"/>\r\n    <dc:date>2020-11-12T20:28:21.278389</dc:date>\r\n    <dc:format>image/svg+xml</dc:format>\r\n    <dc:creator>\r\n     <cc:Agent>\r\n      <dc:title>Matplotlib v3.3.2, https://matplotlib.org/</dc:title>\r\n     </cc:Agent>\r\n    </dc:creator>\r\n   </cc:Work>\r\n  </rdf:RDF>\r\n </metadata>\r\n <defs>\r\n  <style type=\"text/css\">*{stroke-linecap:butt;stroke-linejoin:round;}</style>\r\n </defs>\r\n <g id=\"figure_1\">\r\n  <g id=\"patch_1\">\r\n   <path d=\"M 0 357.238125 \r\nL 558.30125 357.238125 \r\nL 558.30125 0 \r\nL 0 0 \r\nz\r\n\" style=\"fill:#ffffff;\"/>\r\n  </g>\r\n  <g id=\"axes_1\">\r\n   <g id=\"patch_2\">\r\n    <path d=\"M 48.90125 333.36 \r\nL 551.10125 333.36 \r\nL 551.10125 7.2 \r\nL 48.90125 7.2 \r\nz\r\n\" style=\"fill:#e5e5e5;\"/>\r\n   </g>\r\n   <g id=\"matplotlib.axis_1\">\r\n    <g id=\"xtick_1\">\r\n     <g id=\"line2d_1\">\r\n      <path clip-path=\"url(#pf5569398f8)\" d=\"M 51.955019 333.36 \r\nL 51.955019 7.2 \r\n\" style=\"fill:none;stroke:#ffffff;stroke-linecap:square;stroke-width:0.8;\"/>\r\n     </g>\r\n     <g id=\"line2d_2\">\r\n      <defs>\r\n       <path d=\"M 0 0 \r\nL 0 3.5 \r\n\" id=\"md7e0454da0\" style=\"stroke:#555555;stroke-width:0.8;\"/>\r\n      </defs>\r\n      <g>\r\n       <use style=\"fill:#555555;stroke:#555555;stroke-width:0.8;\" x=\"51.955019\" xlink:href=\"#md7e0454da0\" y=\"333.36\"/>\r\n      </g>\r\n     </g>\r\n     <g id=\"text_1\">\r\n      <!-- −2.0 -->\r\n      <g style=\"fill:#555555;\" transform=\"translate(39.813613 347.958438)scale(0.1 -0.1)\">\r\n       <defs>\r\n        <path d=\"M 10.59375 35.5 \r\nL 73.1875 35.5 \r\nL 73.1875 27.203125 \r\nL 10.59375 27.203125 \r\nz\r\n\" id=\"DejaVuSans-8722\"/>\r\n        <path d=\"M 19.1875 8.296875 \r\nL 53.609375 8.296875 \r\nL 53.609375 0 \r\nL 7.328125 0 \r\nL 7.328125 8.296875 \r\nQ 12.9375 14.109375 22.625 23.890625 \r\nQ 32.328125 33.6875 34.8125 36.53125 \r\nQ 39.546875 41.84375 41.421875 45.53125 \r\nQ 43.3125 49.21875 43.3125 52.78125 \r\nQ 43.3125 58.59375 39.234375 62.25 \r\nQ 35.15625 65.921875 28.609375 65.921875 \r\nQ 23.96875 65.921875 18.8125 64.3125 \r\nQ 13.671875 62.703125 7.8125 59.421875 \r\nL 7.8125 69.390625 \r\nQ 13.765625 71.78125 18.9375 73 \r\nQ 24.125 74.21875 28.421875 74.21875 \r\nQ 39.75 74.21875 46.484375 68.546875 \r\nQ 53.21875 62.890625 53.21875 53.421875 \r\nQ 53.21875 48.921875 51.53125 44.890625 \r\nQ 49.859375 40.875 45.40625 35.40625 \r\nQ 44.1875 33.984375 37.640625 27.21875 \r\nQ 31.109375 20.453125 19.1875 8.296875 \r\nz\r\n\" id=\"DejaVuSans-50\"/>\r\n        <path d=\"M 10.6875 12.40625 \r\nL 21 12.40625 \r\nL 21 0 \r\nL 10.6875 0 \r\nz\r\n\" id=\"DejaVuSans-46\"/>\r\n        <path d=\"M 31.78125 66.40625 \r\nQ 24.171875 66.40625 20.328125 58.90625 \r\nQ 16.5 51.421875 16.5 36.375 \r\nQ 16.5 21.390625 20.328125 13.890625 \r\nQ 24.171875 6.390625 31.78125 6.390625 \r\nQ 39.453125 6.390625 43.28125 13.890625 \r\nQ 47.125 21.390625 47.125 36.375 \r\nQ 47.125 51.421875 43.28125 58.90625 \r\nQ 39.453125 66.40625 31.78125 66.40625 \r\nz\r\nM 31.78125 74.21875 \r\nQ 44.046875 74.21875 50.515625 64.515625 \r\nQ 56.984375 54.828125 56.984375 36.375 \r\nQ 56.984375 17.96875 50.515625 8.265625 \r\nQ 44.046875 -1.421875 31.78125 -1.421875 \r\nQ 19.53125 -1.421875 13.0625 8.265625 \r\nQ 6.59375 17.96875 6.59375 36.375 \r\nQ 6.59375 54.828125 13.0625 64.515625 \r\nQ 19.53125 74.21875 31.78125 74.21875 \r\nz\r\n\" id=\"DejaVuSans-48\"/>\r\n       </defs>\r\n       <use xlink:href=\"#DejaVuSans-8722\"/>\r\n       <use x=\"83.789062\" xlink:href=\"#DejaVuSans-50\"/>\r\n       <use x=\"147.412109\" xlink:href=\"#DejaVuSans-46\"/>\r\n       <use x=\"179.199219\" xlink:href=\"#DejaVuSans-48\"/>\r\n      </g>\r\n     </g>\r\n    </g>\r\n    <g id=\"xtick_2\">\r\n     <g id=\"line2d_3\">\r\n      <path clip-path=\"url(#pf5569398f8)\" d=\"M 110.777114 333.36 \r\nL 110.777114 7.2 \r\n\" style=\"fill:none;stroke:#ffffff;stroke-linecap:square;stroke-width:0.8;\"/>\r\n     </g>\r\n     <g id=\"line2d_4\">\r\n      <g>\r\n       <use style=\"fill:#555555;stroke:#555555;stroke-width:0.8;\" x=\"110.777114\" xlink:href=\"#md7e0454da0\" y=\"333.36\"/>\r\n      </g>\r\n     </g>\r\n     <g id=\"text_2\">\r\n      <!-- −1.5 -->\r\n      <g style=\"fill:#555555;\" transform=\"translate(98.635708 347.958438)scale(0.1 -0.1)\">\r\n       <defs>\r\n        <path d=\"M 12.40625 8.296875 \r\nL 28.515625 8.296875 \r\nL 28.515625 63.921875 \r\nL 10.984375 60.40625 \r\nL 10.984375 69.390625 \r\nL 28.421875 72.90625 \r\nL 38.28125 72.90625 \r\nL 38.28125 8.296875 \r\nL 54.390625 8.296875 \r\nL 54.390625 0 \r\nL 12.40625 0 \r\nz\r\n\" id=\"DejaVuSans-49\"/>\r\n        <path d=\"M 10.796875 72.90625 \r\nL 49.515625 72.90625 \r\nL 49.515625 64.59375 \r\nL 19.828125 64.59375 \r\nL 19.828125 46.734375 \r\nQ 21.96875 47.46875 24.109375 47.828125 \r\nQ 26.265625 48.1875 28.421875 48.1875 \r\nQ 40.625 48.1875 47.75 41.5 \r\nQ 54.890625 34.8125 54.890625 23.390625 \r\nQ 54.890625 11.625 47.5625 5.09375 \r\nQ 40.234375 -1.421875 26.90625 -1.421875 \r\nQ 22.3125 -1.421875 17.546875 -0.640625 \r\nQ 12.796875 0.140625 7.71875 1.703125 \r\nL 7.71875 11.625 \r\nQ 12.109375 9.234375 16.796875 8.0625 \r\nQ 21.484375 6.890625 26.703125 6.890625 \r\nQ 35.15625 6.890625 40.078125 11.328125 \r\nQ 45.015625 15.765625 45.015625 23.390625 \r\nQ 45.015625 31 40.078125 35.4375 \r\nQ 35.15625 39.890625 26.703125 39.890625 \r\nQ 22.75 39.890625 18.8125 39.015625 \r\nQ 14.890625 38.140625 10.796875 36.28125 \r\nz\r\n\" id=\"DejaVuSans-53\"/>\r\n       </defs>\r\n       <use xlink:href=\"#DejaVuSans-8722\"/>\r\n       <use x=\"83.789062\" xlink:href=\"#DejaVuSans-49\"/>\r\n       <use x=\"147.412109\" xlink:href=\"#DejaVuSans-46\"/>\r\n       <use x=\"179.199219\" xlink:href=\"#DejaVuSans-53\"/>\r\n      </g>\r\n     </g>\r\n    </g>\r\n    <g id=\"xtick_3\">\r\n     <g id=\"line2d_5\">\r\n      <path clip-path=\"url(#pf5569398f8)\" d=\"M 169.599209 333.36 \r\nL 169.599209 7.2 \r\n\" style=\"fill:none;stroke:#ffffff;stroke-linecap:square;stroke-width:0.8;\"/>\r\n     </g>\r\n     <g id=\"line2d_6\">\r\n      <g>\r\n       <use style=\"fill:#555555;stroke:#555555;stroke-width:0.8;\" x=\"169.599209\" xlink:href=\"#md7e0454da0\" y=\"333.36\"/>\r\n      </g>\r\n     </g>\r\n     <g id=\"text_3\">\r\n      <!-- −1.0 -->\r\n      <g style=\"fill:#555555;\" transform=\"translate(157.457803 347.958438)scale(0.1 -0.1)\">\r\n       <use xlink:href=\"#DejaVuSans-8722\"/>\r\n       <use x=\"83.789062\" xlink:href=\"#DejaVuSans-49\"/>\r\n       <use x=\"147.412109\" xlink:href=\"#DejaVuSans-46\"/>\r\n       <use x=\"179.199219\" xlink:href=\"#DejaVuSans-48\"/>\r\n      </g>\r\n     </g>\r\n    </g>\r\n    <g id=\"xtick_4\">\r\n     <g id=\"line2d_7\">\r\n      <path clip-path=\"url(#pf5569398f8)\" d=\"M 228.421304 333.36 \r\nL 228.421304 7.2 \r\n\" style=\"fill:none;stroke:#ffffff;stroke-linecap:square;stroke-width:0.8;\"/>\r\n     </g>\r\n     <g id=\"line2d_8\">\r\n      <g>\r\n       <use style=\"fill:#555555;stroke:#555555;stroke-width:0.8;\" x=\"228.421304\" xlink:href=\"#md7e0454da0\" y=\"333.36\"/>\r\n      </g>\r\n     </g>\r\n     <g id=\"text_4\">\r\n      <!-- −0.5 -->\r\n      <g style=\"fill:#555555;\" transform=\"translate(216.279898 347.958438)scale(0.1 -0.1)\">\r\n       <use xlink:href=\"#DejaVuSans-8722\"/>\r\n       <use x=\"83.789062\" xlink:href=\"#DejaVuSans-48\"/>\r\n       <use x=\"147.412109\" xlink:href=\"#DejaVuSans-46\"/>\r\n       <use x=\"179.199219\" xlink:href=\"#DejaVuSans-53\"/>\r\n      </g>\r\n     </g>\r\n    </g>\r\n    <g id=\"xtick_5\">\r\n     <g id=\"line2d_9\">\r\n      <path clip-path=\"url(#pf5569398f8)\" d=\"M 287.243399 333.36 \r\nL 287.243399 7.2 \r\n\" style=\"fill:none;stroke:#ffffff;stroke-linecap:square;stroke-width:0.8;\"/>\r\n     </g>\r\n     <g id=\"line2d_10\">\r\n      <g>\r\n       <use style=\"fill:#555555;stroke:#555555;stroke-width:0.8;\" x=\"287.243399\" xlink:href=\"#md7e0454da0\" y=\"333.36\"/>\r\n      </g>\r\n     </g>\r\n     <g id=\"text_5\">\r\n      <!-- 0.0 -->\r\n      <g style=\"fill:#555555;\" transform=\"translate(279.291836 347.958438)scale(0.1 -0.1)\">\r\n       <use xlink:href=\"#DejaVuSans-48\"/>\r\n       <use x=\"63.623047\" xlink:href=\"#DejaVuSans-46\"/>\r\n       <use x=\"95.410156\" xlink:href=\"#DejaVuSans-48\"/>\r\n      </g>\r\n     </g>\r\n    </g>\r\n    <g id=\"xtick_6\">\r\n     <g id=\"line2d_11\">\r\n      <path clip-path=\"url(#pf5569398f8)\" d=\"M 346.065494 333.36 \r\nL 346.065494 7.2 \r\n\" style=\"fill:none;stroke:#ffffff;stroke-linecap:square;stroke-width:0.8;\"/>\r\n     </g>\r\n     <g id=\"line2d_12\">\r\n      <g>\r\n       <use style=\"fill:#555555;stroke:#555555;stroke-width:0.8;\" x=\"346.065494\" xlink:href=\"#md7e0454da0\" y=\"333.36\"/>\r\n      </g>\r\n     </g>\r\n     <g id=\"text_6\">\r\n      <!-- 0.5 -->\r\n      <g style=\"fill:#555555;\" transform=\"translate(338.113931 347.958438)scale(0.1 -0.1)\">\r\n       <use xlink:href=\"#DejaVuSans-48\"/>\r\n       <use x=\"63.623047\" xlink:href=\"#DejaVuSans-46\"/>\r\n       <use x=\"95.410156\" xlink:href=\"#DejaVuSans-53\"/>\r\n      </g>\r\n     </g>\r\n    </g>\r\n    <g id=\"xtick_7\">\r\n     <g id=\"line2d_13\">\r\n      <path clip-path=\"url(#pf5569398f8)\" d=\"M 404.887589 333.36 \r\nL 404.887589 7.2 \r\n\" style=\"fill:none;stroke:#ffffff;stroke-linecap:square;stroke-width:0.8;\"/>\r\n     </g>\r\n     <g id=\"line2d_14\">\r\n      <g>\r\n       <use style=\"fill:#555555;stroke:#555555;stroke-width:0.8;\" x=\"404.887589\" xlink:href=\"#md7e0454da0\" y=\"333.36\"/>\r\n      </g>\r\n     </g>\r\n     <g id=\"text_7\">\r\n      <!-- 1.0 -->\r\n      <g style=\"fill:#555555;\" transform=\"translate(396.936026 347.958438)scale(0.1 -0.1)\">\r\n       <use xlink:href=\"#DejaVuSans-49\"/>\r\n       <use x=\"63.623047\" xlink:href=\"#DejaVuSans-46\"/>\r\n       <use x=\"95.410156\" xlink:href=\"#DejaVuSans-48\"/>\r\n      </g>\r\n     </g>\r\n    </g>\r\n    <g id=\"xtick_8\">\r\n     <g id=\"line2d_15\">\r\n      <path clip-path=\"url(#pf5569398f8)\" d=\"M 463.709684 333.36 \r\nL 463.709684 7.2 \r\n\" style=\"fill:none;stroke:#ffffff;stroke-linecap:square;stroke-width:0.8;\"/>\r\n     </g>\r\n     <g id=\"line2d_16\">\r\n      <g>\r\n       <use style=\"fill:#555555;stroke:#555555;stroke-width:0.8;\" x=\"463.709684\" xlink:href=\"#md7e0454da0\" y=\"333.36\"/>\r\n      </g>\r\n     </g>\r\n     <g id=\"text_8\">\r\n      <!-- 1.5 -->\r\n      <g style=\"fill:#555555;\" transform=\"translate(455.758121 347.958438)scale(0.1 -0.1)\">\r\n       <use xlink:href=\"#DejaVuSans-49\"/>\r\n       <use x=\"63.623047\" xlink:href=\"#DejaVuSans-46\"/>\r\n       <use x=\"95.410156\" xlink:href=\"#DejaVuSans-53\"/>\r\n      </g>\r\n     </g>\r\n    </g>\r\n    <g id=\"xtick_9\">\r\n     <g id=\"line2d_17\">\r\n      <path clip-path=\"url(#pf5569398f8)\" d=\"M 522.531779 333.36 \r\nL 522.531779 7.2 \r\n\" style=\"fill:none;stroke:#ffffff;stroke-linecap:square;stroke-width:0.8;\"/>\r\n     </g>\r\n     <g id=\"line2d_18\">\r\n      <g>\r\n       <use style=\"fill:#555555;stroke:#555555;stroke-width:0.8;\" x=\"522.531779\" xlink:href=\"#md7e0454da0\" y=\"333.36\"/>\r\n      </g>\r\n     </g>\r\n     <g id=\"text_9\">\r\n      <!-- 2.0 -->\r\n      <g style=\"fill:#555555;\" transform=\"translate(514.580216 347.958438)scale(0.1 -0.1)\">\r\n       <use xlink:href=\"#DejaVuSans-50\"/>\r\n       <use x=\"63.623047\" xlink:href=\"#DejaVuSans-46\"/>\r\n       <use x=\"95.410156\" xlink:href=\"#DejaVuSans-48\"/>\r\n      </g>\r\n     </g>\r\n    </g>\r\n   </g>\r\n   <g id=\"matplotlib.axis_2\">\r\n    <g id=\"ytick_1\">\r\n     <g id=\"line2d_19\">\r\n      <path clip-path=\"url(#pf5569398f8)\" d=\"M 48.90125 333.36 \r\nL 551.10125 333.36 \r\n\" style=\"fill:none;stroke:#ffffff;stroke-linecap:square;stroke-width:0.8;\"/>\r\n     </g>\r\n     <g id=\"line2d_20\">\r\n      <defs>\r\n       <path d=\"M 0 0 \r\nL -3.5 0 \r\n\" id=\"md8ac1e9dd8\" style=\"stroke:#555555;stroke-width:0.8;\"/>\r\n      </defs>\r\n      <g>\r\n       <use style=\"fill:#555555;stroke:#555555;stroke-width:0.8;\" x=\"48.90125\" xlink:href=\"#md8ac1e9dd8\" y=\"333.36\"/>\r\n      </g>\r\n     </g>\r\n     <g id=\"text_10\">\r\n      <!-- 0 -->\r\n      <g style=\"fill:#555555;\" transform=\"translate(35.53875 337.159219)scale(0.1 -0.1)\">\r\n       <use xlink:href=\"#DejaVuSans-48\"/>\r\n      </g>\r\n     </g>\r\n    </g>\r\n    <g id=\"ytick_2\">\r\n     <g id=\"line2d_21\">\r\n      <path clip-path=\"url(#pf5569398f8)\" d=\"M 48.90125 276.572327 \r\nL 551.10125 276.572327 \r\n\" style=\"fill:none;stroke:#ffffff;stroke-linecap:square;stroke-width:0.8;\"/>\r\n     </g>\r\n     <g id=\"line2d_22\">\r\n      <g>\r\n       <use style=\"fill:#555555;stroke:#555555;stroke-width:0.8;\" x=\"48.90125\" xlink:href=\"#md8ac1e9dd8\" y=\"276.572327\"/>\r\n      </g>\r\n     </g>\r\n     <g id=\"text_11\">\r\n      <!-- 100 -->\r\n      <g style=\"fill:#555555;\" transform=\"translate(22.81375 280.371546)scale(0.1 -0.1)\">\r\n       <use xlink:href=\"#DejaVuSans-49\"/>\r\n       <use x=\"63.623047\" xlink:href=\"#DejaVuSans-48\"/>\r\n       <use x=\"127.246094\" xlink:href=\"#DejaVuSans-48\"/>\r\n      </g>\r\n     </g>\r\n    </g>\r\n    <g id=\"ytick_3\">\r\n     <g id=\"line2d_23\">\r\n      <path clip-path=\"url(#pf5569398f8)\" d=\"M 48.90125 219.784654 \r\nL 551.10125 219.784654 \r\n\" style=\"fill:none;stroke:#ffffff;stroke-linecap:square;stroke-width:0.8;\"/>\r\n     </g>\r\n     <g id=\"line2d_24\">\r\n      <g>\r\n       <use style=\"fill:#555555;stroke:#555555;stroke-width:0.8;\" x=\"48.90125\" xlink:href=\"#md8ac1e9dd8\" y=\"219.784654\"/>\r\n      </g>\r\n     </g>\r\n     <g id=\"text_12\">\r\n      <!-- 200 -->\r\n      <g style=\"fill:#555555;\" transform=\"translate(22.81375 223.583873)scale(0.1 -0.1)\">\r\n       <use xlink:href=\"#DejaVuSans-50\"/>\r\n       <use x=\"63.623047\" xlink:href=\"#DejaVuSans-48\"/>\r\n       <use x=\"127.246094\" xlink:href=\"#DejaVuSans-48\"/>\r\n      </g>\r\n     </g>\r\n    </g>\r\n    <g id=\"ytick_4\">\r\n     <g id=\"line2d_25\">\r\n      <path clip-path=\"url(#pf5569398f8)\" d=\"M 48.90125 162.996981 \r\nL 551.10125 162.996981 \r\n\" style=\"fill:none;stroke:#ffffff;stroke-linecap:square;stroke-width:0.8;\"/>\r\n     </g>\r\n     <g id=\"line2d_26\">\r\n      <g>\r\n       <use style=\"fill:#555555;stroke:#555555;stroke-width:0.8;\" x=\"48.90125\" xlink:href=\"#md8ac1e9dd8\" y=\"162.996981\"/>\r\n      </g>\r\n     </g>\r\n     <g id=\"text_13\">\r\n      <!-- 300 -->\r\n      <g style=\"fill:#555555;\" transform=\"translate(22.81375 166.7962)scale(0.1 -0.1)\">\r\n       <defs>\r\n        <path d=\"M 40.578125 39.3125 \r\nQ 47.65625 37.796875 51.625 33 \r\nQ 55.609375 28.21875 55.609375 21.1875 \r\nQ 55.609375 10.40625 48.1875 4.484375 \r\nQ 40.765625 -1.421875 27.09375 -1.421875 \r\nQ 22.515625 -1.421875 17.65625 -0.515625 \r\nQ 12.796875 0.390625 7.625 2.203125 \r\nL 7.625 11.71875 \r\nQ 11.71875 9.328125 16.59375 8.109375 \r\nQ 21.484375 6.890625 26.8125 6.890625 \r\nQ 36.078125 6.890625 40.9375 10.546875 \r\nQ 45.796875 14.203125 45.796875 21.1875 \r\nQ 45.796875 27.640625 41.28125 31.265625 \r\nQ 36.765625 34.90625 28.71875 34.90625 \r\nL 20.21875 34.90625 \r\nL 20.21875 43.015625 \r\nL 29.109375 43.015625 \r\nQ 36.375 43.015625 40.234375 45.921875 \r\nQ 44.09375 48.828125 44.09375 54.296875 \r\nQ 44.09375 59.90625 40.109375 62.90625 \r\nQ 36.140625 65.921875 28.71875 65.921875 \r\nQ 24.65625 65.921875 20.015625 65.03125 \r\nQ 15.375 64.15625 9.8125 62.3125 \r\nL 9.8125 71.09375 \r\nQ 15.4375 72.65625 20.34375 73.4375 \r\nQ 25.25 74.21875 29.59375 74.21875 \r\nQ 40.828125 74.21875 47.359375 69.109375 \r\nQ 53.90625 64.015625 53.90625 55.328125 \r\nQ 53.90625 49.265625 50.4375 45.09375 \r\nQ 46.96875 40.921875 40.578125 39.3125 \r\nz\r\n\" id=\"DejaVuSans-51\"/>\r\n       </defs>\r\n       <use xlink:href=\"#DejaVuSans-51\"/>\r\n       <use x=\"63.623047\" xlink:href=\"#DejaVuSans-48\"/>\r\n       <use x=\"127.246094\" xlink:href=\"#DejaVuSans-48\"/>\r\n      </g>\r\n     </g>\r\n    </g>\r\n    <g id=\"ytick_5\">\r\n     <g id=\"line2d_27\">\r\n      <path clip-path=\"url(#pf5569398f8)\" d=\"M 48.90125 106.209308 \r\nL 551.10125 106.209308 \r\n\" style=\"fill:none;stroke:#ffffff;stroke-linecap:square;stroke-width:0.8;\"/>\r\n     </g>\r\n     <g id=\"line2d_28\">\r\n      <g>\r\n       <use style=\"fill:#555555;stroke:#555555;stroke-width:0.8;\" x=\"48.90125\" xlink:href=\"#md8ac1e9dd8\" y=\"106.209308\"/>\r\n      </g>\r\n     </g>\r\n     <g id=\"text_14\">\r\n      <!-- 400 -->\r\n      <g style=\"fill:#555555;\" transform=\"translate(22.81375 110.008527)scale(0.1 -0.1)\">\r\n       <defs>\r\n        <path d=\"M 37.796875 64.3125 \r\nL 12.890625 25.390625 \r\nL 37.796875 25.390625 \r\nz\r\nM 35.203125 72.90625 \r\nL 47.609375 72.90625 \r\nL 47.609375 25.390625 \r\nL 58.015625 25.390625 \r\nL 58.015625 17.1875 \r\nL 47.609375 17.1875 \r\nL 47.609375 0 \r\nL 37.796875 0 \r\nL 37.796875 17.1875 \r\nL 4.890625 17.1875 \r\nL 4.890625 26.703125 \r\nz\r\n\" id=\"DejaVuSans-52\"/>\r\n       </defs>\r\n       <use xlink:href=\"#DejaVuSans-52\"/>\r\n       <use x=\"63.623047\" xlink:href=\"#DejaVuSans-48\"/>\r\n       <use x=\"127.246094\" xlink:href=\"#DejaVuSans-48\"/>\r\n      </g>\r\n     </g>\r\n    </g>\r\n    <g id=\"ytick_6\">\r\n     <g id=\"line2d_29\">\r\n      <path clip-path=\"url(#pf5569398f8)\" d=\"M 48.90125 49.421635 \r\nL 551.10125 49.421635 \r\n\" style=\"fill:none;stroke:#ffffff;stroke-linecap:square;stroke-width:0.8;\"/>\r\n     </g>\r\n     <g id=\"line2d_30\">\r\n      <g>\r\n       <use style=\"fill:#555555;stroke:#555555;stroke-width:0.8;\" x=\"48.90125\" xlink:href=\"#md8ac1e9dd8\" y=\"49.421635\"/>\r\n      </g>\r\n     </g>\r\n     <g id=\"text_15\">\r\n      <!-- 500 -->\r\n      <g style=\"fill:#555555;\" transform=\"translate(22.81375 53.220854)scale(0.1 -0.1)\">\r\n       <use xlink:href=\"#DejaVuSans-53\"/>\r\n       <use x=\"63.623047\" xlink:href=\"#DejaVuSans-48\"/>\r\n       <use x=\"127.246094\" xlink:href=\"#DejaVuSans-48\"/>\r\n      </g>\r\n     </g>\r\n    </g>\r\n    <g id=\"text_16\">\r\n     <!-- Count -->\r\n     <g style=\"fill:#555555;\" transform=\"translate(16.318125 188.098125)rotate(-90)scale(0.12 -0.12)\">\r\n      <defs>\r\n       <path d=\"M 64.40625 67.28125 \r\nL 64.40625 56.890625 \r\nQ 59.421875 61.53125 53.78125 63.8125 \r\nQ 48.140625 66.109375 41.796875 66.109375 \r\nQ 29.296875 66.109375 22.65625 58.46875 \r\nQ 16.015625 50.828125 16.015625 36.375 \r\nQ 16.015625 21.96875 22.65625 14.328125 \r\nQ 29.296875 6.6875 41.796875 6.6875 \r\nQ 48.140625 6.6875 53.78125 8.984375 \r\nQ 59.421875 11.28125 64.40625 15.921875 \r\nL 64.40625 5.609375 \r\nQ 59.234375 2.09375 53.4375 0.328125 \r\nQ 47.65625 -1.421875 41.21875 -1.421875 \r\nQ 24.65625 -1.421875 15.125 8.703125 \r\nQ 5.609375 18.84375 5.609375 36.375 \r\nQ 5.609375 53.953125 15.125 64.078125 \r\nQ 24.65625 74.21875 41.21875 74.21875 \r\nQ 47.75 74.21875 53.53125 72.484375 \r\nQ 59.328125 70.75 64.40625 67.28125 \r\nz\r\n\" id=\"DejaVuSans-67\"/>\r\n       <path d=\"M 30.609375 48.390625 \r\nQ 23.390625 48.390625 19.1875 42.75 \r\nQ 14.984375 37.109375 14.984375 27.296875 \r\nQ 14.984375 17.484375 19.15625 11.84375 \r\nQ 23.34375 6.203125 30.609375 6.203125 \r\nQ 37.796875 6.203125 41.984375 11.859375 \r\nQ 46.1875 17.53125 46.1875 27.296875 \r\nQ 46.1875 37.015625 41.984375 42.703125 \r\nQ 37.796875 48.390625 30.609375 48.390625 \r\nz\r\nM 30.609375 56 \r\nQ 42.328125 56 49.015625 48.375 \r\nQ 55.71875 40.765625 55.71875 27.296875 \r\nQ 55.71875 13.875 49.015625 6.21875 \r\nQ 42.328125 -1.421875 30.609375 -1.421875 \r\nQ 18.84375 -1.421875 12.171875 6.21875 \r\nQ 5.515625 13.875 5.515625 27.296875 \r\nQ 5.515625 40.765625 12.171875 48.375 \r\nQ 18.84375 56 30.609375 56 \r\nz\r\n\" id=\"DejaVuSans-111\"/>\r\n       <path d=\"M 8.5 21.578125 \r\nL 8.5 54.6875 \r\nL 17.484375 54.6875 \r\nL 17.484375 21.921875 \r\nQ 17.484375 14.15625 20.5 10.265625 \r\nQ 23.53125 6.390625 29.59375 6.390625 \r\nQ 36.859375 6.390625 41.078125 11.03125 \r\nQ 45.3125 15.671875 45.3125 23.6875 \r\nL 45.3125 54.6875 \r\nL 54.296875 54.6875 \r\nL 54.296875 0 \r\nL 45.3125 0 \r\nL 45.3125 8.40625 \r\nQ 42.046875 3.421875 37.71875 1 \r\nQ 33.40625 -1.421875 27.6875 -1.421875 \r\nQ 18.265625 -1.421875 13.375 4.4375 \r\nQ 8.5 10.296875 8.5 21.578125 \r\nz\r\nM 31.109375 56 \r\nz\r\n\" id=\"DejaVuSans-117\"/>\r\n       <path d=\"M 54.890625 33.015625 \r\nL 54.890625 0 \r\nL 45.90625 0 \r\nL 45.90625 32.71875 \r\nQ 45.90625 40.484375 42.875 44.328125 \r\nQ 39.84375 48.1875 33.796875 48.1875 \r\nQ 26.515625 48.1875 22.3125 43.546875 \r\nQ 18.109375 38.921875 18.109375 30.90625 \r\nL 18.109375 0 \r\nL 9.078125 0 \r\nL 9.078125 54.6875 \r\nL 18.109375 54.6875 \r\nL 18.109375 46.1875 \r\nQ 21.34375 51.125 25.703125 53.5625 \r\nQ 30.078125 56 35.796875 56 \r\nQ 45.21875 56 50.046875 50.171875 \r\nQ 54.890625 44.34375 54.890625 33.015625 \r\nz\r\n\" id=\"DejaVuSans-110\"/>\r\n       <path d=\"M 18.3125 70.21875 \r\nL 18.3125 54.6875 \r\nL 36.8125 54.6875 \r\nL 36.8125 47.703125 \r\nL 18.3125 47.703125 \r\nL 18.3125 18.015625 \r\nQ 18.3125 11.328125 20.140625 9.421875 \r\nQ 21.96875 7.515625 27.59375 7.515625 \r\nL 36.8125 7.515625 \r\nL 36.8125 0 \r\nL 27.59375 0 \r\nQ 17.1875 0 13.234375 3.875 \r\nQ 9.28125 7.765625 9.28125 18.015625 \r\nL 9.28125 47.703125 \r\nL 2.6875 47.703125 \r\nL 2.6875 54.6875 \r\nL 9.28125 54.6875 \r\nL 9.28125 70.21875 \r\nz\r\n\" id=\"DejaVuSans-116\"/>\r\n      </defs>\r\n      <use xlink:href=\"#DejaVuSans-67\"/>\r\n      <use x=\"69.824219\" xlink:href=\"#DejaVuSans-111\"/>\r\n      <use x=\"131.005859\" xlink:href=\"#DejaVuSans-117\"/>\r\n      <use x=\"194.384766\" xlink:href=\"#DejaVuSans-110\"/>\r\n      <use x=\"257.763672\" xlink:href=\"#DejaVuSans-116\"/>\r\n     </g>\r\n    </g>\r\n   </g>\r\n   <g id=\"patch_3\">\r\n    <path clip-path=\"url(#pf5569398f8)\" d=\"M 71.728523 333.36 \r\nL 79.212874 333.36 \r\nL 79.212874 332.792123 \r\nL 71.728523 332.792123 \r\nz\r\n\" style=\"fill:#348abd;fill-opacity:0.5;stroke:#eeeeee;stroke-linejoin:miter;stroke-width:0.5;\"/>\r\n   </g>\r\n   <g id=\"patch_4\">\r\n    <path clip-path=\"url(#pf5569398f8)\" d=\"M 79.212874 333.36 \r\nL 86.697226 333.36 \r\nL 86.697226 331.65637 \r\nL 79.212874 331.65637 \r\nz\r\n\" style=\"fill:#348abd;fill-opacity:0.5;stroke:#eeeeee;stroke-linejoin:miter;stroke-width:0.5;\"/>\r\n   </g>\r\n   <g id=\"patch_5\">\r\n    <path clip-path=\"url(#pf5569398f8)\" d=\"M 86.697226 333.36 \r\nL 94.181578 333.36 \r\nL 94.181578 331.65637 \r\nL 86.697226 331.65637 \r\nz\r\n\" style=\"fill:#348abd;fill-opacity:0.5;stroke:#eeeeee;stroke-linejoin:miter;stroke-width:0.5;\"/>\r\n   </g>\r\n   <g id=\"patch_6\">\r\n    <path clip-path=\"url(#pf5569398f8)\" d=\"M 94.181578 333.36 \r\nL 101.66593 333.36 \r\nL 101.66593 332.224247 \r\nL 94.181578 332.224247 \r\nz\r\n\" style=\"fill:#348abd;fill-opacity:0.5;stroke:#eeeeee;stroke-linejoin:miter;stroke-width:0.5;\"/>\r\n   </g>\r\n   <g id=\"patch_7\">\r\n    <path clip-path=\"url(#pf5569398f8)\" d=\"M 101.66593 333.36 \r\nL 109.150281 333.36 \r\nL 109.150281 328.816986 \r\nL 101.66593 328.816986 \r\nz\r\n\" style=\"fill:#348abd;fill-opacity:0.5;stroke:#eeeeee;stroke-linejoin:miter;stroke-width:0.5;\"/>\r\n   </g>\r\n   <g id=\"patch_8\">\r\n    <path clip-path=\"url(#pf5569398f8)\" d=\"M 109.150281 333.36 \r\nL 116.634633 333.36 \r\nL 116.634633 331.088493 \r\nL 109.150281 331.088493 \r\nz\r\n\" style=\"fill:#348abd;fill-opacity:0.5;stroke:#eeeeee;stroke-linejoin:miter;stroke-width:0.5;\"/>\r\n   </g>\r\n   <g id=\"patch_9\">\r\n    <path clip-path=\"url(#pf5569398f8)\" d=\"M 116.634633 333.36 \r\nL 124.118985 333.36 \r\nL 124.118985 328.816986 \r\nL 116.634633 328.816986 \r\nz\r\n\" style=\"fill:#348abd;fill-opacity:0.5;stroke:#eeeeee;stroke-linejoin:miter;stroke-width:0.5;\"/>\r\n   </g>\r\n   <g id=\"patch_10\">\r\n    <path clip-path=\"url(#pf5569398f8)\" d=\"M 124.118985 333.36 \r\nL 131.603336 333.36 \r\nL 131.603336 325.409726 \r\nL 124.118985 325.409726 \r\nz\r\n\" style=\"fill:#348abd;fill-opacity:0.5;stroke:#eeeeee;stroke-linejoin:miter;stroke-width:0.5;\"/>\r\n   </g>\r\n   <g id=\"patch_11\">\r\n    <path clip-path=\"url(#pf5569398f8)\" d=\"M 131.603336 333.36 \r\nL 139.087688 333.36 \r\nL 139.087688 325.409726 \r\nL 131.603336 325.409726 \r\nz\r\n\" style=\"fill:#348abd;fill-opacity:0.5;stroke:#eeeeee;stroke-linejoin:miter;stroke-width:0.5;\"/>\r\n   </g>\r\n   <g id=\"patch_12\">\r\n    <path clip-path=\"url(#pf5569398f8)\" d=\"M 139.087688 333.36 \r\nL 146.57204 333.36 \r\nL 146.57204 317.459452 \r\nL 139.087688 317.459452 \r\nz\r\n\" style=\"fill:#348abd;fill-opacity:0.5;stroke:#eeeeee;stroke-linejoin:miter;stroke-width:0.5;\"/>\r\n   </g>\r\n   <g id=\"patch_13\">\r\n    <path clip-path=\"url(#pf5569398f8)\" d=\"M 146.57204 333.36 \r\nL 154.056392 333.36 \r\nL 154.056392 316.891575 \r\nL 146.57204 316.891575 \r\nz\r\n\" style=\"fill:#348abd;fill-opacity:0.5;stroke:#eeeeee;stroke-linejoin:miter;stroke-width:0.5;\"/>\r\n   </g>\r\n   <g id=\"patch_14\">\r\n    <path clip-path=\"url(#pf5569398f8)\" d=\"M 154.056392 333.36 \r\nL 161.540743 333.36 \r\nL 161.540743 311.212808 \r\nL 154.056392 311.212808 \r\nz\r\n\" style=\"fill:#348abd;fill-opacity:0.5;stroke:#eeeeee;stroke-linejoin:miter;stroke-width:0.5;\"/>\r\n   </g>\r\n   <g id=\"patch_15\">\r\n    <path clip-path=\"url(#pf5569398f8)\" d=\"M 161.540743 333.36 \r\nL 169.025095 333.36 \r\nL 169.025095 299.287396 \r\nL 161.540743 299.287396 \r\nz\r\n\" style=\"fill:#348abd;fill-opacity:0.5;stroke:#eeeeee;stroke-linejoin:miter;stroke-width:0.5;\"/>\r\n   </g>\r\n   <g id=\"patch_16\">\r\n    <path clip-path=\"url(#pf5569398f8)\" d=\"M 169.025095 333.36 \r\nL 176.509447 333.36 \r\nL 176.509447 281.115341 \r\nL 169.025095 281.115341 \r\nz\r\n\" style=\"fill:#348abd;fill-opacity:0.5;stroke:#eeeeee;stroke-linejoin:miter;stroke-width:0.5;\"/>\r\n   </g>\r\n   <g id=\"patch_17\">\r\n    <path clip-path=\"url(#pf5569398f8)\" d=\"M 176.509447 333.36 \r\nL 183.993798 333.36 \r\nL 183.993798 266.918423 \r\nL 176.509447 266.918423 \r\nz\r\n\" style=\"fill:#348abd;fill-opacity:0.5;stroke:#eeeeee;stroke-linejoin:miter;stroke-width:0.5;\"/>\r\n   </g>\r\n   <g id=\"patch_18\">\r\n    <path clip-path=\"url(#pf5569398f8)\" d=\"M 183.993798 333.36 \r\nL 191.47815 333.36 \r\nL 191.47815 254.993011 \r\nL 183.993798 254.993011 \r\nz\r\n\" style=\"fill:#348abd;fill-opacity:0.5;stroke:#eeeeee;stroke-linejoin:miter;stroke-width:0.5;\"/>\r\n   </g>\r\n   <g id=\"patch_19\">\r\n    <path clip-path=\"url(#pf5569398f8)\" d=\"M 191.47815 333.36 \r\nL 198.962502 333.36 \r\nL 198.962502 250.449997 \r\nL 191.47815 250.449997 \r\nz\r\n\" style=\"fill:#348abd;fill-opacity:0.5;stroke:#eeeeee;stroke-linejoin:miter;stroke-width:0.5;\"/>\r\n   </g>\r\n   <g id=\"patch_20\">\r\n    <path clip-path=\"url(#pf5569398f8)\" d=\"M 198.962502 333.36 \r\nL 206.446854 333.36 \r\nL 206.446854 220.920407 \r\nL 198.962502 220.920407 \r\nz\r\n\" style=\"fill:#348abd;fill-opacity:0.5;stroke:#eeeeee;stroke-linejoin:miter;stroke-width:0.5;\"/>\r\n   </g>\r\n   <g id=\"patch_21\">\r\n    <path clip-path=\"url(#pf5569398f8)\" d=\"M 206.446854 333.36 \r\nL 213.931205 333.36 \r\nL 213.931205 211.83438 \r\nL 206.446854 211.83438 \r\nz\r\n\" style=\"fill:#348abd;fill-opacity:0.5;stroke:#eeeeee;stroke-linejoin:miter;stroke-width:0.5;\"/>\r\n   </g>\r\n   <g id=\"patch_22\">\r\n    <path clip-path=\"url(#pf5569398f8)\" d=\"M 213.931205 333.36 \r\nL 221.415557 333.36 \r\nL 221.415557 194.798078 \r\nL 213.931205 194.798078 \r\nz\r\n\" style=\"fill:#348abd;fill-opacity:0.5;stroke:#eeeeee;stroke-linejoin:miter;stroke-width:0.5;\"/>\r\n   </g>\r\n   <g id=\"patch_23\">\r\n    <path clip-path=\"url(#pf5569398f8)\" d=\"M 221.415557 333.36 \r\nL 228.899909 333.36 \r\nL 228.899909 157.318214 \r\nL 221.415557 157.318214 \r\nz\r\n\" style=\"fill:#348abd;fill-opacity:0.5;stroke:#eeeeee;stroke-linejoin:miter;stroke-width:0.5;\"/>\r\n   </g>\r\n   <g id=\"patch_24\">\r\n    <path clip-path=\"url(#pf5569398f8)\" d=\"M 228.899909 333.36 \r\nL 236.38426 333.36 \r\nL 236.38426 150.503693 \r\nL 228.899909 150.503693 \r\nz\r\n\" style=\"fill:#348abd;fill-opacity:0.5;stroke:#eeeeee;stroke-linejoin:miter;stroke-width:0.5;\"/>\r\n   </g>\r\n   <g id=\"patch_25\">\r\n    <path clip-path=\"url(#pf5569398f8)\" d=\"M 236.38426 333.36 \r\nL 243.868612 333.36 \r\nL 243.868612 118.134719 \r\nL 236.38426 118.134719 \r\nz\r\n\" style=\"fill:#348abd;fill-opacity:0.5;stroke:#eeeeee;stroke-linejoin:miter;stroke-width:0.5;\"/>\r\n   </g>\r\n   <g id=\"patch_26\">\r\n    <path clip-path=\"url(#pf5569398f8)\" d=\"M 243.868612 333.36 \r\nL 251.352964 333.36 \r\nL 251.352964 97.12328 \r\nL 243.868612 97.12328 \r\nz\r\n\" style=\"fill:#348abd;fill-opacity:0.5;stroke:#eeeeee;stroke-linejoin:miter;stroke-width:0.5;\"/>\r\n   </g>\r\n   <g id=\"patch_27\">\r\n    <path clip-path=\"url(#pf5569398f8)\" d=\"M 251.352964 333.36 \r\nL 258.837316 333.36 \r\nL 258.837316 88.037253 \r\nL 251.352964 88.037253 \r\nz\r\n\" style=\"fill:#348abd;fill-opacity:0.5;stroke:#eeeeee;stroke-linejoin:miter;stroke-width:0.5;\"/>\r\n   </g>\r\n   <g id=\"patch_28\">\r\n    <path clip-path=\"url(#pf5569398f8)\" d=\"M 258.837316 333.36 \r\nL 266.321667 333.36 \r\nL 266.321667 72.704581 \r\nL 258.837316 72.704581 \r\nz\r\n\" style=\"fill:#348abd;fill-opacity:0.5;stroke:#eeeeee;stroke-linejoin:miter;stroke-width:0.5;\"/>\r\n   </g>\r\n   <g id=\"patch_29\">\r\n    <path clip-path=\"url(#pf5569398f8)\" d=\"M 266.321667 333.36 \r\nL 273.806019 333.36 \r\nL 273.806019 65.89006 \r\nL 266.321667 65.89006 \r\nz\r\n\" style=\"fill:#348abd;fill-opacity:0.5;stroke:#eeeeee;stroke-linejoin:miter;stroke-width:0.5;\"/>\r\n   </g>\r\n   <g id=\"patch_30\">\r\n    <path clip-path=\"url(#pf5569398f8)\" d=\"M 273.806019 333.36 \r\nL 281.290371 333.36 \r\nL 281.290371 68.729444 \r\nL 273.806019 68.729444 \r\nz\r\n\" style=\"fill:#348abd;fill-opacity:0.5;stroke:#eeeeee;stroke-linejoin:miter;stroke-width:0.5;\"/>\r\n   </g>\r\n   <g id=\"patch_31\">\r\n    <path clip-path=\"url(#pf5569398f8)\" d=\"M 281.290371 333.36 \r\nL 288.774722 333.36 \r\nL 288.774722 22.731429 \r\nL 281.290371 22.731429 \r\nz\r\n\" style=\"fill:#348abd;fill-opacity:0.5;stroke:#eeeeee;stroke-linejoin:miter;stroke-width:0.5;\"/>\r\n   </g>\r\n   <g id=\"patch_32\">\r\n    <path clip-path=\"url(#pf5569398f8)\" d=\"M 288.774722 333.36 \r\nL 296.259074 333.36 \r\nL 296.259074 42.039237 \r\nL 288.774722 42.039237 \r\nz\r\n\" style=\"fill:#348abd;fill-opacity:0.5;stroke:#eeeeee;stroke-linejoin:miter;stroke-width:0.5;\"/>\r\n   </g>\r\n   <g id=\"patch_33\">\r\n    <path clip-path=\"url(#pf5569398f8)\" d=\"M 296.259074 333.36 \r\nL 303.743426 333.36 \r\nL 303.743426 72.136704 \r\nL 296.259074 72.136704 \r\nz\r\n\" style=\"fill:#348abd;fill-opacity:0.5;stroke:#eeeeee;stroke-linejoin:miter;stroke-width:0.5;\"/>\r\n   </g>\r\n   <g id=\"patch_34\">\r\n    <path clip-path=\"url(#pf5569398f8)\" d=\"M 303.743426 333.36 \r\nL 311.227778 333.36 \r\nL 311.227778 70.433074 \r\nL 303.743426 70.433074 \r\nz\r\n\" style=\"fill:#348abd;fill-opacity:0.5;stroke:#eeeeee;stroke-linejoin:miter;stroke-width:0.5;\"/>\r\n   </g>\r\n   <g id=\"patch_35\">\r\n    <path clip-path=\"url(#pf5569398f8)\" d=\"M 311.227778 333.36 \r\nL 318.712129 333.36 \r\nL 318.712129 77.247595 \r\nL 311.227778 77.247595 \r\nz\r\n\" style=\"fill:#348abd;fill-opacity:0.5;stroke:#eeeeee;stroke-linejoin:miter;stroke-width:0.5;\"/>\r\n   </g>\r\n   <g id=\"patch_36\">\r\n    <path clip-path=\"url(#pf5569398f8)\" d=\"M 318.712129 333.36 \r\nL 326.196481 333.36 \r\nL 326.196481 108.480815 \r\nL 318.712129 108.480815 \r\nz\r\n\" style=\"fill:#348abd;fill-opacity:0.5;stroke:#eeeeee;stroke-linejoin:miter;stroke-width:0.5;\"/>\r\n   </g>\r\n   <g id=\"patch_37\">\r\n    <path clip-path=\"url(#pf5569398f8)\" d=\"M 326.196481 333.36 \r\nL 333.680833 333.36 \r\nL 333.680833 101.666294 \r\nL 326.196481 101.666294 \r\nz\r\n\" style=\"fill:#348abd;fill-opacity:0.5;stroke:#eeeeee;stroke-linejoin:miter;stroke-width:0.5;\"/>\r\n   </g>\r\n   <g id=\"patch_38\">\r\n    <path clip-path=\"url(#pf5569398f8)\" d=\"M 333.680833 333.36 \r\nL 341.165184 333.36 \r\nL 341.165184 127.788624 \r\nL 333.680833 127.788624 \r\nz\r\n\" style=\"fill:#348abd;fill-opacity:0.5;stroke:#eeeeee;stroke-linejoin:miter;stroke-width:0.5;\"/>\r\n   </g>\r\n   <g id=\"patch_39\">\r\n    <path clip-path=\"url(#pf5569398f8)\" d=\"M 341.165184 333.36 \r\nL 348.649536 333.36 \r\nL 348.649536 170.379378 \r\nL 341.165184 170.379378 \r\nz\r\n\" style=\"fill:#348abd;fill-opacity:0.5;stroke:#eeeeee;stroke-linejoin:miter;stroke-width:0.5;\"/>\r\n   </g>\r\n   <g id=\"patch_40\">\r\n    <path clip-path=\"url(#pf5569398f8)\" d=\"M 348.649536 333.36 \r\nL 356.133888 333.36 \r\nL 356.133888 168.675748 \r\nL 348.649536 168.675748 \r\nz\r\n\" style=\"fill:#348abd;fill-opacity:0.5;stroke:#eeeeee;stroke-linejoin:miter;stroke-width:0.5;\"/>\r\n   </g>\r\n   <g id=\"patch_41\">\r\n    <path clip-path=\"url(#pf5569398f8)\" d=\"M 356.133888 333.36 \r\nL 363.61824 333.36 \r\nL 363.61824 219.784654 \r\nL 356.133888 219.784654 \r\nz\r\n\" style=\"fill:#348abd;fill-opacity:0.5;stroke:#eeeeee;stroke-linejoin:miter;stroke-width:0.5;\"/>\r\n   </g>\r\n   <g id=\"patch_42\">\r\n    <path clip-path=\"url(#pf5569398f8)\" d=\"M 363.61824 333.36 \r\nL 371.102591 333.36 \r\nL 371.102591 206.723489 \r\nL 363.61824 206.723489 \r\nz\r\n\" style=\"fill:#348abd;fill-opacity:0.5;stroke:#eeeeee;stroke-linejoin:miter;stroke-width:0.5;\"/>\r\n   </g>\r\n   <g id=\"patch_43\">\r\n    <path clip-path=\"url(#pf5569398f8)\" d=\"M 371.102591 333.36 \r\nL 378.586943 333.36 \r\nL 378.586943 232.845819 \r\nL 371.102591 232.845819 \r\nz\r\n\" style=\"fill:#348abd;fill-opacity:0.5;stroke:#eeeeee;stroke-linejoin:miter;stroke-width:0.5;\"/>\r\n   </g>\r\n   <g id=\"patch_44\">\r\n    <path clip-path=\"url(#pf5569398f8)\" d=\"M 378.586943 333.36 \r\nL 386.071295 333.36 \r\nL 386.071295 253.289381 \r\nL 378.586943 253.289381 \r\nz\r\n\" style=\"fill:#348abd;fill-opacity:0.5;stroke:#eeeeee;stroke-linejoin:miter;stroke-width:0.5;\"/>\r\n   </g>\r\n   <g id=\"patch_45\">\r\n    <path clip-path=\"url(#pf5569398f8)\" d=\"M 386.071295 333.36 \r\nL 393.555646 333.36 \r\nL 393.555646 271.461436 \r\nL 386.071295 271.461436 \r\nz\r\n\" style=\"fill:#348abd;fill-opacity:0.5;stroke:#eeeeee;stroke-linejoin:miter;stroke-width:0.5;\"/>\r\n   </g>\r\n   <g id=\"patch_46\">\r\n    <path clip-path=\"url(#pf5569398f8)\" d=\"M 393.555646 333.36 \r\nL 401.039998 333.36 \r\nL 401.039998 283.954724 \r\nL 393.555646 283.954724 \r\nz\r\n\" style=\"fill:#348abd;fill-opacity:0.5;stroke:#eeeeee;stroke-linejoin:miter;stroke-width:0.5;\"/>\r\n   </g>\r\n   <g id=\"patch_47\">\r\n    <path clip-path=\"url(#pf5569398f8)\" d=\"M 401.039998 333.36 \r\nL 408.52435 333.36 \r\nL 408.52435 289.065615 \r\nL 401.039998 289.065615 \r\nz\r\n\" style=\"fill:#348abd;fill-opacity:0.5;stroke:#eeeeee;stroke-linejoin:miter;stroke-width:0.5;\"/>\r\n   </g>\r\n   <g id=\"patch_48\">\r\n    <path clip-path=\"url(#pf5569398f8)\" d=\"M 408.52435 333.36 \r\nL 416.008702 333.36 \r\nL 416.008702 303.83041 \r\nL 408.52435 303.83041 \r\nz\r\n\" style=\"fill:#348abd;fill-opacity:0.5;stroke:#eeeeee;stroke-linejoin:miter;stroke-width:0.5;\"/>\r\n   </g>\r\n   <g id=\"patch_49\">\r\n    <path clip-path=\"url(#pf5569398f8)\" d=\"M 416.008702 333.36 \r\nL 423.493053 333.36 \r\nL 423.493053 313.484314 \r\nL 416.008702 313.484314 \r\nz\r\n\" style=\"fill:#348abd;fill-opacity:0.5;stroke:#eeeeee;stroke-linejoin:miter;stroke-width:0.5;\"/>\r\n   </g>\r\n   <g id=\"patch_50\">\r\n    <path clip-path=\"url(#pf5569398f8)\" d=\"M 423.493053 333.36 \r\nL 430.977405 333.36 \r\nL 430.977405 322.570342 \r\nL 423.493053 322.570342 \r\nz\r\n\" style=\"fill:#348abd;fill-opacity:0.5;stroke:#eeeeee;stroke-linejoin:miter;stroke-width:0.5;\"/>\r\n   </g>\r\n   <g id=\"patch_51\">\r\n    <path clip-path=\"url(#pf5569398f8)\" d=\"M 430.977405 333.36 \r\nL 438.461757 333.36 \r\nL 438.461757 315.755821 \r\nL 430.977405 315.755821 \r\nz\r\n\" style=\"fill:#348abd;fill-opacity:0.5;stroke:#eeeeee;stroke-linejoin:miter;stroke-width:0.5;\"/>\r\n   </g>\r\n   <g id=\"patch_52\">\r\n    <path clip-path=\"url(#pf5569398f8)\" d=\"M 438.461757 333.36 \r\nL 445.946108 333.36 \r\nL 445.946108 328.249109 \r\nL 438.461757 328.249109 \r\nz\r\n\" style=\"fill:#348abd;fill-opacity:0.5;stroke:#eeeeee;stroke-linejoin:miter;stroke-width:0.5;\"/>\r\n   </g>\r\n   <g id=\"patch_53\">\r\n    <path clip-path=\"url(#pf5569398f8)\" d=\"M 445.946108 333.36 \r\nL 453.43046 333.36 \r\nL 453.43046 323.706096 \r\nL 445.946108 323.706096 \r\nz\r\n\" style=\"fill:#348abd;fill-opacity:0.5;stroke:#eeeeee;stroke-linejoin:miter;stroke-width:0.5;\"/>\r\n   </g>\r\n   <g id=\"patch_54\">\r\n    <path clip-path=\"url(#pf5569398f8)\" d=\"M 453.43046 333.36 \r\nL 460.914812 333.36 \r\nL 460.914812 331.088493 \r\nL 453.43046 331.088493 \r\nz\r\n\" style=\"fill:#348abd;fill-opacity:0.5;stroke:#eeeeee;stroke-linejoin:miter;stroke-width:0.5;\"/>\r\n   </g>\r\n   <g id=\"patch_55\">\r\n    <path clip-path=\"url(#pf5569398f8)\" d=\"M 460.914812 333.36 \r\nL 468.399164 333.36 \r\nL 468.399164 328.249109 \r\nL 460.914812 328.249109 \r\nz\r\n\" style=\"fill:#348abd;fill-opacity:0.5;stroke:#eeeeee;stroke-linejoin:miter;stroke-width:0.5;\"/>\r\n   </g>\r\n   <g id=\"patch_56\">\r\n    <path clip-path=\"url(#pf5569398f8)\" d=\"M 468.399164 333.36 \r\nL 475.883515 333.36 \r\nL 475.883515 329.384863 \r\nL 468.399164 329.384863 \r\nz\r\n\" style=\"fill:#348abd;fill-opacity:0.5;stroke:#eeeeee;stroke-linejoin:miter;stroke-width:0.5;\"/>\r\n   </g>\r\n   <g id=\"patch_57\">\r\n    <path clip-path=\"url(#pf5569398f8)\" d=\"M 475.883515 333.36 \r\nL 483.367867 333.36 \r\nL 483.367867 332.792123 \r\nL 475.883515 332.792123 \r\nz\r\n\" style=\"fill:#348abd;fill-opacity:0.5;stroke:#eeeeee;stroke-linejoin:miter;stroke-width:0.5;\"/>\r\n   </g>\r\n   <g id=\"patch_58\">\r\n    <path clip-path=\"url(#pf5569398f8)\" d=\"M 483.367867 333.36 \r\nL 490.852219 333.36 \r\nL 490.852219 332.792123 \r\nL 483.367867 332.792123 \r\nz\r\n\" style=\"fill:#348abd;fill-opacity:0.5;stroke:#eeeeee;stroke-linejoin:miter;stroke-width:0.5;\"/>\r\n   </g>\r\n   <g id=\"patch_59\">\r\n    <path clip-path=\"url(#pf5569398f8)\" d=\"M 490.852219 333.36 \r\nL 498.33657 333.36 \r\nL 498.33657 331.088493 \r\nL 490.852219 331.088493 \r\nz\r\n\" style=\"fill:#348abd;fill-opacity:0.5;stroke:#eeeeee;stroke-linejoin:miter;stroke-width:0.5;\"/>\r\n   </g>\r\n   <g id=\"patch_60\">\r\n    <path clip-path=\"url(#pf5569398f8)\" d=\"M 498.33657 333.36 \r\nL 505.820922 333.36 \r\nL 505.820922 333.36 \r\nL 498.33657 333.36 \r\nz\r\n\" style=\"fill:#348abd;fill-opacity:0.5;stroke:#eeeeee;stroke-linejoin:miter;stroke-width:0.5;\"/>\r\n   </g>\r\n   <g id=\"patch_61\">\r\n    <path clip-path=\"url(#pf5569398f8)\" d=\"M 505.820922 333.36 \r\nL 513.305274 333.36 \r\nL 513.305274 333.36 \r\nL 505.820922 333.36 \r\nz\r\n\" style=\"fill:#348abd;fill-opacity:0.5;stroke:#eeeeee;stroke-linejoin:miter;stroke-width:0.5;\"/>\r\n   </g>\r\n   <g id=\"patch_62\">\r\n    <path clip-path=\"url(#pf5569398f8)\" d=\"M 513.305274 333.36 \r\nL 520.789626 333.36 \r\nL 520.789626 332.792123 \r\nL 513.305274 332.792123 \r\nz\r\n\" style=\"fill:#348abd;fill-opacity:0.5;stroke:#eeeeee;stroke-linejoin:miter;stroke-width:0.5;\"/>\r\n   </g>\r\n   <g id=\"patch_63\">\r\n    <path clip-path=\"url(#pf5569398f8)\" d=\"M 520.789626 333.36 \r\nL 528.273977 333.36 \r\nL 528.273977 332.792123 \r\nL 520.789626 332.792123 \r\nz\r\n\" style=\"fill:#348abd;fill-opacity:0.5;stroke:#eeeeee;stroke-linejoin:miter;stroke-width:0.5;\"/>\r\n   </g>\r\n   <g id=\"line2d_31\">\r\n    <path clip-path=\"url(#pf5569398f8)\" d=\"M 71.728523 332.83945 \r\nL 90.082109 331.821627 \r\nL 96.964704 331.28739 \r\nL 106.141497 330.305483 \r\nL 113.024091 329.413094 \r\nL 117.612488 328.608803 \r\nL 122.200885 327.522685 \r\nL 126.789281 326.129532 \r\nL 131.377678 324.457684 \r\nL 135.966074 322.547316 \r\nL 140.554471 320.409453 \r\nL 145.142867 317.945125 \r\nL 147.437065 316.510698 \r\nL 149.731264 314.879983 \r\nL 152.025462 313.004329 \r\nL 154.31966 310.841308 \r\nL 156.613858 308.360556 \r\nL 158.908057 305.547628 \r\nL 161.202255 302.405855 \r\nL 163.496453 298.956557 \r\nL 165.790652 295.237789 \r\nL 170.379048 287.208411 \r\nL 193.321031 245.139552 \r\nL 197.909427 235.91867 \r\nL 202.497824 226.138475 \r\nL 207.08622 215.721178 \r\nL 211.674617 204.423036 \r\nL 216.263013 192.064717 \r\nL 220.85141 178.859223 \r\nL 230.028203 152.034324 \r\nL 236.910798 132.630633 \r\nL 241.499194 120.277249 \r\nL 246.087591 108.796501 \r\nL 250.675987 98.421528 \r\nL 255.264384 89.058577 \r\nL 259.85278 80.540752 \r\nL 264.441177 72.854851 \r\nL 269.029573 65.911894 \r\nL 275.912168 56.183741 \r\nL 278.206366 53.16216 \r\nL 280.500565 50.471017 \r\nL 282.794763 48.34261 \r\nL 285.088961 47.021082 \r\nL 287.38316 46.704354 \r\nL 289.677358 47.492892 \r\nL 291.971556 49.360041 \r\nL 294.265754 52.151946 \r\nL 296.559953 55.616965 \r\nL 305.736746 70.796778 \r\nL 310.325142 77.435538 \r\nL 314.913539 84.184939 \r\nL 317.207737 87.918042 \r\nL 319.501935 91.976984 \r\nL 321.796134 96.372645 \r\nL 324.090332 101.096934 \r\nL 326.38453 106.144576 \r\nL 328.678728 111.523021 \r\nL 330.972927 117.246898 \r\nL 333.267125 123.321891 \r\nL 337.855521 136.411968 \r\nL 353.914909 184.280395 \r\nL 358.503306 196.574642 \r\nL 363.091702 207.772143 \r\nL 367.680099 218.172101 \r\nL 376.856892 238.845566 \r\nL 383.739487 254.41785 \r\nL 388.327883 264.153724 \r\nL 392.91628 273.030587 \r\nL 395.210478 277.109864 \r\nL 399.798874 284.615739 \r\nL 404.387271 291.498346 \r\nL 408.975668 298.018875 \r\nL 413.564064 304.144186 \r\nL 415.858262 306.963802 \r\nL 418.152461 309.558166 \r\nL 420.446659 311.890724 \r\nL 422.740857 313.943656 \r\nL 425.035055 315.721803 \r\nL 427.329254 317.251813 \r\nL 429.623452 318.576437 \r\nL 434.211848 320.803334 \r\nL 438.800245 322.705534 \r\nL 443.388642 324.377095 \r\nL 447.977038 325.800784 \r\nL 452.565435 326.992997 \r\nL 457.153831 327.997596 \r\nL 464.036426 329.20952 \r\nL 475.507417 330.856403 \r\nL 482.390012 331.652211 \r\nL 486.978409 331.980749 \r\nL 507.626193 332.921802 \r\nL 516.802986 333.058014 \r\nL 528.273977 333.117781 \r\nL 528.273977 333.117781 \r\n\" style=\"fill:none;stroke:#348abd;stroke-linecap:square;stroke-width:1.5;\"/>\r\n   </g>\r\n   <g id=\"line2d_32\">\r\n    <path clip-path=\"url(#pf5569398f8)\" d=\"M 346.053175 333.36 \r\nL 346.053175 7.2 \r\n\" style=\"fill:none;stroke:#ff0000;stroke-linecap:square;stroke-opacity:0.5;stroke-width:1.5;\"/>\r\n   </g>\r\n   <g id=\"line2d_33\">\r\n    <path clip-path=\"url(#pf5569398f8)\" d=\"M 227.20827 333.36 \r\nL 227.20827 7.2 \r\n\" style=\"fill:none;stroke:#ff0000;stroke-linecap:square;stroke-opacity:0.5;stroke-width:1.5;\"/>\r\n   </g>\r\n   <g id=\"line2d_34\">\r\n    <path clip-path=\"url(#pf5569398f8)\" d=\"M 405.475627 333.36 \r\nL 405.475627 7.2 \r\n\" style=\"fill:none;stroke:#008000;stroke-linecap:square;stroke-opacity:0.5;stroke-width:1.5;\"/>\r\n   </g>\r\n   <g id=\"line2d_35\">\r\n    <path clip-path=\"url(#pf5569398f8)\" d=\"M 167.785817 333.36 \r\nL 167.785817 7.2 \r\n\" style=\"fill:none;stroke:#008000;stroke-linecap:square;stroke-opacity:0.5;stroke-width:1.5;\"/>\r\n   </g>\r\n   <g id=\"line2d_36\">\r\n    <path clip-path=\"url(#pf5569398f8)\" d=\"M 464.89808 333.36 \r\nL 464.89808 7.2 \r\n\" style=\"fill:none;stroke:#0000ff;stroke-linecap:square;stroke-opacity:0.5;stroke-width:1.5;\"/>\r\n   </g>\r\n   <g id=\"line2d_37\">\r\n    <path clip-path=\"url(#pf5569398f8)\" d=\"M 108.363365 333.36 \r\nL 108.363365 7.2 \r\n\" style=\"fill:none;stroke:#0000ff;stroke-linecap:square;stroke-opacity:0.5;stroke-width:1.5;\"/>\r\n   </g>\r\n   <g id=\"patch_64\">\r\n    <path d=\"M 48.90125 333.36 \r\nL 48.90125 7.2 \r\n\" style=\"fill:none;stroke:#ffffff;stroke-linecap:square;stroke-linejoin:miter;\"/>\r\n   </g>\r\n   <g id=\"patch_65\">\r\n    <path d=\"M 551.10125 333.36 \r\nL 551.10125 7.2 \r\n\" style=\"fill:none;stroke:#ffffff;stroke-linecap:square;stroke-linejoin:miter;\"/>\r\n   </g>\r\n   <g id=\"patch_66\">\r\n    <path d=\"M 48.90125 333.36 \r\nL 551.10125 333.36 \r\n\" style=\"fill:none;stroke:#ffffff;stroke-linecap:square;stroke-linejoin:miter;\"/>\r\n   </g>\r\n   <g id=\"patch_67\">\r\n    <path d=\"M 48.90125 7.2 \r\nL 551.10125 7.2 \r\n\" style=\"fill:none;stroke:#ffffff;stroke-linecap:square;stroke-linejoin:miter;\"/>\r\n   </g>\r\n  </g>\r\n </g>\r\n <defs>\r\n  <clipPath id=\"pf5569398f8\">\r\n   <rect height=\"326.16\" width=\"502.2\" x=\"48.90125\" y=\"7.2\"/>\r\n  </clipPath>\r\n </defs>\r\n</svg>\r\n",
      "image/png": "[encoded data removed]"
     },
     "metadata": {}
    }
   ],
   "source": [
    "# rng.normal(loc=0.0, scale=1.0, size=None)\n",
    "# loc: mean of the distribution, \n",
    "# scale: the standard diviation of the distribution(the width of the distribution)\n",
    "# size: the size of the distribution \n",
    "x = rng.normal(0, 0.5, 10000)\n",
    "sns.histplot(x, kde=True);\n",
    "plt.axvline(np.mean(x) + np.std(x), color='r', alpha=0.5)\n",
    "plt.axvline(np.mean(x) - np.std(x), color='r', alpha=0.5)\n",
    "plt.axvline(np.mean(x) + 2*(np.std(x)), color='g', alpha=0.5)\n",
    "plt.axvline(np.mean(x) - 2*(np.std(x)), color='g', alpha=0.5)\n",
    "plt.axvline(np.mean(x) + 3*(np.std(x)), color='b', alpha=0.5)\n",
    "plt.axvline(np.mean(x) - 3*(np.std(x)), color='b', alpha=0.5)\n",
    "print('The mean of distribution is {:.5f} and standard diviation is {:.5f}'.format(x.mean(),x.std()))\n"
   ]
  },
  {
   "source": [
    "### References\n",
    "[1] Random Number https://en.wikipedia.org/wiki/Random_number \n",
    "\n",
    "[2] Random number generation https://en.wikipedia.org/wiki/Random_number_generation\n",
    "\n",
    "[3]: Numpy https://en.wikipedia.org/wiki/NumPy\n",
    "\n",
    "[4] Random sampling https://numpy.org/doc/1.19/reference/random/index.html\n",
    "\n",
    "[5] Parallel Random Number Generation https://numpy.org/doc/1.19/reference/random/parallel.html\n",
    "\n",
    "[6] Permutation https://en.wikipedia.org/wiki/Permutation#:~:text=In%20mathematics%2C%20a%20permutation%20of,order%20of%20an%20ordered%20set.\n",
    "\n",
    "[7] Normal distribution https://en.wikipedia.org/wiki/Normal_distribution\n",
    "\n",
    "[8] Empirical rule https://en.wikipedia.org/wiki/68%E2%80%9395%E2%80%9399.7_rule"
   ],
   "cell_type": "markdown",
   "metadata": {}
  },
  {
   "cell_type": "code",
   "execution_count": null,
   "metadata": {},
   "outputs": [],
   "source": []
  }
 ]
}